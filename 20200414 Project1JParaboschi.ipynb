{
  "nbformat": 4,
  "nbformat_minor": 0,
  "metadata": {
    "kernelspec": {
      "display_name": "Python 3",
      "language": "python",
      "name": "python3"
    },
    "language_info": {
      "codemirror_mode": {
        "name": "ipython",
        "version": 3
      },
      "file_extension": ".py",
      "mimetype": "text/x-python",
      "name": "python",
      "nbconvert_exporter": "python",
      "pygments_lexer": "ipython3",
      "version": "3.7.4"
    },
    "colab": {
      "name": "Project1JParaboschi-Copy2.ipynb",
      "provenance": [],
      "collapsed_sections": []
    }
  },
  "cells": [
    {
      "cell_type": "markdown",
      "metadata": {
        "id": "hf6LK6hqjnFg",
        "colab_type": "text"
      },
      "source": [
        "# Contract Awards by  the Centers for Medicare and Medicaid Services (CMS)\n",
        "The dataset comes from https://www.usaspending.gov/#/download_center/custom_award_data using filters to select all Prime Awards types, Agency = Department of Health and Human Services, Sub Agency = Centers for Medicare and Medicaid Services, by All Recipient Location, by Action Date, for FY 2019. \n",
        "## Data on Health and Human Services (HHS) CMS' contract awards for fiscal year (FY) 2019.\n",
        "In the spirit of transparency and full disclosure, the www.usaspending.gov site includes information about how federal dollars have been spent. Tools on the site allow members of the public to access data sets for their own evaluation or to filter and visualize data online. I am interested in seeing statistics about the contract awards in FY 2019, especially to see which contract award types garner the highest dollar awards, which types of work have the most number of proposals received (and which ones do not receive multiple proposals), and which award recipients came away with the biggest wins."
      ]
    },
    {
      "cell_type": "code",
      "metadata": {
        "id": "2Re0y35KjnFh",
        "colab_type": "code",
        "colab": {
          "base_uri": "https://localhost:8080/",
          "height": 34
        },
        "outputId": "ac8452a6-0e90-446f-d23e-4baa583d71de"
      },
      "source": [
        "import os\n",
        "os.getcwd() # gives the path of the current working directory (cwd)\n"
      ],
      "execution_count": 42,
      "outputs": [
        {
          "output_type": "execute_result",
          "data": {
            "text/plain": [
              "'/content'"
            ]
          },
          "metadata": {
            "tags": []
          },
          "execution_count": 42
        }
      ]
    },
    {
      "cell_type": "code",
      "metadata": {
        "id": "FfBFV6k0jnFl",
        "colab_type": "code",
        "colab": {
          "base_uri": "https://localhost:8080/",
          "height": 448
        },
        "outputId": "dc1c0b1f-f726-46d2-8f9b-73833f27e146"
      },
      "source": [
        "import numpy as np\n",
        "import pandas as pd\n",
        "#contracts = pd.read_csv('C:\\\\Users\\\\Jennifer\\\\Downloads\\\\FY2019HHSContractAwards.csv') # This reads in my csv file.\n",
        "contracts = pd.read_csv('/FY2019HHSContractAwards.csv')\n",
        "contracts.head() # This lists the first 5 rows of the dataframe with all of the columns (276)."
      ],
      "execution_count": 43,
      "outputs": [
        {
          "output_type": "stream",
          "text": [
            "/usr/local/lib/python3.6/dist-packages/IPython/core/interactiveshell.py:2718: DtypeWarning: Columns (21,63,159,160) have mixed types.Specify dtype option on import or set low_memory=False.\n",
            "  interactivity=interactivity, compiler=compiler, result=result)\n"
          ],
          "name": "stderr"
        },
        {
          "output_type": "execute_result",
          "data": {
            "text/html": [
              "<div>\n",
              "<style scoped>\n",
              "    .dataframe tbody tr th:only-of-type {\n",
              "        vertical-align: middle;\n",
              "    }\n",
              "\n",
              "    .dataframe tbody tr th {\n",
              "        vertical-align: top;\n",
              "    }\n",
              "\n",
              "    .dataframe thead th {\n",
              "        text-align: right;\n",
              "    }\n",
              "</style>\n",
              "<table border=\"1\" class=\"dataframe\">\n",
              "  <thead>\n",
              "    <tr style=\"text-align: right;\">\n",
              "      <th></th>\n",
              "      <th>contract_transaction_unique_key</th>\n",
              "      <th>contract_award_unique_key</th>\n",
              "      <th>award_id_piid</th>\n",
              "      <th>modification_number</th>\n",
              "      <th>transaction_number</th>\n",
              "      <th>parent_award_agency_id</th>\n",
              "      <th>parent_award_agency_name</th>\n",
              "      <th>parent_award_id_piid</th>\n",
              "      <th>parent_award_modification_number</th>\n",
              "      <th>federal_action_obligation</th>\n",
              "      <th>total_dollars_obligated</th>\n",
              "      <th>base_and_exercised_options_value</th>\n",
              "      <th>current_total_value_of_award</th>\n",
              "      <th>base_and_all_options_value</th>\n",
              "      <th>potential_total_value_of_award</th>\n",
              "      <th>action_date</th>\n",
              "      <th>action_date_fiscal_year</th>\n",
              "      <th>period_of_performance_start_date</th>\n",
              "      <th>period_of_performance_current_end_date</th>\n",
              "      <th>period_of_performance_potential_end_date</th>\n",
              "      <th>ordering_period_end_date</th>\n",
              "      <th>solicitation_date</th>\n",
              "      <th>awarding_agency_code</th>\n",
              "      <th>awarding_agency_name</th>\n",
              "      <th>awarding_sub_agency_code</th>\n",
              "      <th>awarding_sub_agency_name</th>\n",
              "      <th>awarding_office_code</th>\n",
              "      <th>awarding_office_name</th>\n",
              "      <th>funding_agency_code</th>\n",
              "      <th>funding_agency_name</th>\n",
              "      <th>funding_sub_agency_code</th>\n",
              "      <th>funding_sub_agency_name</th>\n",
              "      <th>funding_office_code</th>\n",
              "      <th>funding_office_name</th>\n",
              "      <th>treasury_accounts_funding_this_award</th>\n",
              "      <th>federal_accounts_funding_this_award</th>\n",
              "      <th>foreign_funding</th>\n",
              "      <th>foreign_funding_description</th>\n",
              "      <th>sam_exception</th>\n",
              "      <th>sam_exception_description</th>\n",
              "      <th>...</th>\n",
              "      <th>planning_commission</th>\n",
              "      <th>port_authority</th>\n",
              "      <th>transit_authority</th>\n",
              "      <th>subchapter_scorporation</th>\n",
              "      <th>limited_liability_corporation</th>\n",
              "      <th>foreign_owned</th>\n",
              "      <th>for_profit_organization</th>\n",
              "      <th>nonprofit_organization</th>\n",
              "      <th>other_not_for_profit_organization</th>\n",
              "      <th>the_ability_one_program</th>\n",
              "      <th>private_university_or_college</th>\n",
              "      <th>state_controlled_institution_of_higher_learning</th>\n",
              "      <th>1862_land_grant_college</th>\n",
              "      <th>1890_land_grant_college</th>\n",
              "      <th>1994_land_grant_college</th>\n",
              "      <th>minority_institution</th>\n",
              "      <th>historically_black_college</th>\n",
              "      <th>tribal_college</th>\n",
              "      <th>alaskan_native_servicing_institution</th>\n",
              "      <th>native_hawaiian_servicing_institution</th>\n",
              "      <th>school_of_forestry</th>\n",
              "      <th>veterinary_college</th>\n",
              "      <th>dot_certified_disadvantage</th>\n",
              "      <th>self_certified_small_disadvantaged_business</th>\n",
              "      <th>small_disadvantaged_business</th>\n",
              "      <th>c8a_program_participant</th>\n",
              "      <th>historically_underutilized_business_zone_hubzone_firm</th>\n",
              "      <th>sba_certified_8a_joint_venture</th>\n",
              "      <th>highly_compensated_officer_1_name</th>\n",
              "      <th>highly_compensated_officer_1_amount</th>\n",
              "      <th>highly_compensated_officer_2_name</th>\n",
              "      <th>highly_compensated_officer_2_amount</th>\n",
              "      <th>highly_compensated_officer_3_name</th>\n",
              "      <th>highly_compensated_officer_3_amount</th>\n",
              "      <th>highly_compensated_officer_4_name</th>\n",
              "      <th>highly_compensated_officer_4_amount</th>\n",
              "      <th>highly_compensated_officer_5_name</th>\n",
              "      <th>highly_compensated_officer_5_amount</th>\n",
              "      <th>usaspending_permalink</th>\n",
              "      <th>last_modified_date</th>\n",
              "    </tr>\n",
              "  </thead>\n",
              "  <tbody>\n",
              "    <tr>\n",
              "      <th>0</th>\n",
              "      <td>7530_7530_HHSM500T0016_P00004_HHSM500201400034I_0</td>\n",
              "      <td>CONT_AWD_HHSM500T0016_7530_HHSM500201400034I_7530</td>\n",
              "      <td>HHSM500T0016</td>\n",
              "      <td>P00004</td>\n",
              "      <td>0.0</td>\n",
              "      <td>7530.0</td>\n",
              "      <td>CENTERS FOR MEDICARE AND MEDICAID SERVICES</td>\n",
              "      <td>HHSM500201400034I</td>\n",
              "      <td>0</td>\n",
              "      <td>0.0</td>\n",
              "      <td>7235573.0</td>\n",
              "      <td>0.0</td>\n",
              "      <td>7235573.0</td>\n",
              "      <td>0.0</td>\n",
              "      <td>17018944.0</td>\n",
              "      <td>10/10/2018</td>\n",
              "      <td>2019</td>\n",
              "      <td>10/10/2018 0:00</td>\n",
              "      <td>5/17/2019 0:00</td>\n",
              "      <td>5/17/2023 0:00</td>\n",
              "      <td>NaN</td>\n",
              "      <td>NaN</td>\n",
              "      <td>75</td>\n",
              "      <td>DEPARTMENT OF HEALTH AND HUMAN SERVICES (HHS)</td>\n",
              "      <td>7530</td>\n",
              "      <td>CENTERS FOR MEDICARE AND MEDICAID SERVICES</td>\n",
              "      <td>75FCMC</td>\n",
              "      <td>OFC OF ACQUISITION AND GRANTS MGMT</td>\n",
              "      <td>75</td>\n",
              "      <td>DEPARTMENT OF HEALTH AND HUMAN SERVICES (HHS)</td>\n",
              "      <td>7530</td>\n",
              "      <td>CENTERS FOR MEDICARE AND MEDICAID SERVICES</td>\n",
              "      <td>75FCMC</td>\n",
              "      <td>OFC OF ACQUISITION AND GRANTS MGMT</td>\n",
              "      <td>075-X-0522-000</td>\n",
              "      <td>075-0522</td>\n",
              "      <td>X</td>\n",
              "      <td>NOT APPLICABLE</td>\n",
              "      <td>NaN</td>\n",
              "      <td>NaN</td>\n",
              "      <td>...</td>\n",
              "      <td>f</td>\n",
              "      <td>f</td>\n",
              "      <td>f</td>\n",
              "      <td>t</td>\n",
              "      <td>f</td>\n",
              "      <td>f</td>\n",
              "      <td>t</td>\n",
              "      <td>f</td>\n",
              "      <td>f</td>\n",
              "      <td>f</td>\n",
              "      <td>f</td>\n",
              "      <td>f</td>\n",
              "      <td>f</td>\n",
              "      <td>f</td>\n",
              "      <td>f</td>\n",
              "      <td>f</td>\n",
              "      <td>f</td>\n",
              "      <td>f</td>\n",
              "      <td>f</td>\n",
              "      <td>f</td>\n",
              "      <td>f</td>\n",
              "      <td>f</td>\n",
              "      <td>f</td>\n",
              "      <td>f</td>\n",
              "      <td>f</td>\n",
              "      <td>f</td>\n",
              "      <td>f</td>\n",
              "      <td>f</td>\n",
              "      <td>PAUL  DECKER</td>\n",
              "      <td>853824.0</td>\n",
              "      <td>DEBORAH  REED</td>\n",
              "      <td>405673.0</td>\n",
              "      <td>CHRISTOPHER  TRENHOLM</td>\n",
              "      <td>382845.0</td>\n",
              "      <td>LISA  SCHWARTZ</td>\n",
              "      <td>378414.0</td>\n",
              "      <td>ADAM  COYNE</td>\n",
              "      <td>376235.0</td>\n",
              "      <td>https://www.usaspending.gov/#/award/CONT_AWD_H...</td>\n",
              "      <td>10/18/2018 14:51</td>\n",
              "    </tr>\n",
              "    <tr>\n",
              "      <th>1</th>\n",
              "      <td>7530_7530_HHSM500T0011_P00007_HHSM500200400007I_0</td>\n",
              "      <td>CONT_AWD_HHSM500T0011_7530_HHSM500200400007I_7530</td>\n",
              "      <td>HHSM500T0011</td>\n",
              "      <td>P00007</td>\n",
              "      <td>0.0</td>\n",
              "      <td>7530.0</td>\n",
              "      <td>CENTERS FOR MEDICARE AND MEDICAID SERVICES</td>\n",
              "      <td>HHSM500200400007I</td>\n",
              "      <td>0</td>\n",
              "      <td>10152351.0</td>\n",
              "      <td>37419683.7</td>\n",
              "      <td>10152351.0</td>\n",
              "      <td>37419683.7</td>\n",
              "      <td>1681830.0</td>\n",
              "      <td>46005307.9</td>\n",
              "      <td>7/17/2019</td>\n",
              "      <td>2019</td>\n",
              "      <td>7/17/2019 0:00</td>\n",
              "      <td>8/31/2020 0:00</td>\n",
              "      <td>8/31/2020 0:00</td>\n",
              "      <td>NaN</td>\n",
              "      <td>NaN</td>\n",
              "      <td>75</td>\n",
              "      <td>DEPARTMENT OF HEALTH AND HUMAN SERVICES (HHS)</td>\n",
              "      <td>7530</td>\n",
              "      <td>CENTERS FOR MEDICARE AND MEDICAID SERVICES</td>\n",
              "      <td>75FCMC</td>\n",
              "      <td>OFC OF ACQUISITION AND GRANTS MGMT</td>\n",
              "      <td>75</td>\n",
              "      <td>DEPARTMENT OF HEALTH AND HUMAN SERVICES (HHS)</td>\n",
              "      <td>7530</td>\n",
              "      <td>CENTERS FOR MEDICARE AND MEDICAID SERVICES</td>\n",
              "      <td>75FCMC</td>\n",
              "      <td>OFC OF ACQUISITION AND GRANTS MGMT</td>\n",
              "      <td>075-2012/2017-0511-000;075-2014/2019-0511-000;...</td>\n",
              "      <td>075-0511;075-8393</td>\n",
              "      <td>X</td>\n",
              "      <td>NOT APPLICABLE</td>\n",
              "      <td>NaN</td>\n",
              "      <td>NaN</td>\n",
              "      <td>...</td>\n",
              "      <td>f</td>\n",
              "      <td>f</td>\n",
              "      <td>f</td>\n",
              "      <td>f</td>\n",
              "      <td>f</td>\n",
              "      <td>f</td>\n",
              "      <td>t</td>\n",
              "      <td>f</td>\n",
              "      <td>f</td>\n",
              "      <td>f</td>\n",
              "      <td>f</td>\n",
              "      <td>f</td>\n",
              "      <td>f</td>\n",
              "      <td>f</td>\n",
              "      <td>f</td>\n",
              "      <td>f</td>\n",
              "      <td>f</td>\n",
              "      <td>f</td>\n",
              "      <td>f</td>\n",
              "      <td>f</td>\n",
              "      <td>f</td>\n",
              "      <td>f</td>\n",
              "      <td>f</td>\n",
              "      <td>f</td>\n",
              "      <td>f</td>\n",
              "      <td>f</td>\n",
              "      <td>f</td>\n",
              "      <td>f</td>\n",
              "      <td>NaN</td>\n",
              "      <td>NaN</td>\n",
              "      <td>NaN</td>\n",
              "      <td>NaN</td>\n",
              "      <td>NaN</td>\n",
              "      <td>NaN</td>\n",
              "      <td>NaN</td>\n",
              "      <td>NaN</td>\n",
              "      <td>NaN</td>\n",
              "      <td>NaN</td>\n",
              "      <td>https://www.usaspending.gov/#/award/CONT_AWD_H...</td>\n",
              "      <td>7/17/2019 15:30</td>\n",
              "    </tr>\n",
              "    <tr>\n",
              "      <th>2</th>\n",
              "      <td>7530_7530_HHSM500T0016_P00006_HHSM500201400034I_0</td>\n",
              "      <td>CONT_AWD_HHSM500T0016_7530_HHSM500201400034I_7530</td>\n",
              "      <td>HHSM500T0016</td>\n",
              "      <td>P00006</td>\n",
              "      <td>0.0</td>\n",
              "      <td>7530.0</td>\n",
              "      <td>CENTERS FOR MEDICARE AND MEDICAID SERVICES</td>\n",
              "      <td>HHSM500201400034I</td>\n",
              "      <td>0</td>\n",
              "      <td>3430262.0</td>\n",
              "      <td>10665835.0</td>\n",
              "      <td>3430262.0</td>\n",
              "      <td>10665835.0</td>\n",
              "      <td>1000000.0</td>\n",
              "      <td>18018944.0</td>\n",
              "      <td>5/20/2019</td>\n",
              "      <td>2019</td>\n",
              "      <td>5/18/2019 0:00</td>\n",
              "      <td>5/17/2020 0:00</td>\n",
              "      <td>5/17/2023 0:00</td>\n",
              "      <td>NaN</td>\n",
              "      <td>NaN</td>\n",
              "      <td>75</td>\n",
              "      <td>DEPARTMENT OF HEALTH AND HUMAN SERVICES (HHS)</td>\n",
              "      <td>7530</td>\n",
              "      <td>CENTERS FOR MEDICARE AND MEDICAID SERVICES</td>\n",
              "      <td>75FCMC</td>\n",
              "      <td>OFC OF ACQUISITION AND GRANTS MGMT</td>\n",
              "      <td>75</td>\n",
              "      <td>DEPARTMENT OF HEALTH AND HUMAN SERVICES (HHS)</td>\n",
              "      <td>7530</td>\n",
              "      <td>CENTERS FOR MEDICARE AND MEDICAID SERVICES</td>\n",
              "      <td>75FCMC</td>\n",
              "      <td>OFC OF ACQUISITION AND GRANTS MGMT</td>\n",
              "      <td>075-X-0522-000</td>\n",
              "      <td>075-0522</td>\n",
              "      <td>X</td>\n",
              "      <td>NOT APPLICABLE</td>\n",
              "      <td>NaN</td>\n",
              "      <td>NaN</td>\n",
              "      <td>...</td>\n",
              "      <td>f</td>\n",
              "      <td>f</td>\n",
              "      <td>f</td>\n",
              "      <td>t</td>\n",
              "      <td>f</td>\n",
              "      <td>f</td>\n",
              "      <td>t</td>\n",
              "      <td>f</td>\n",
              "      <td>f</td>\n",
              "      <td>f</td>\n",
              "      <td>f</td>\n",
              "      <td>f</td>\n",
              "      <td>f</td>\n",
              "      <td>f</td>\n",
              "      <td>f</td>\n",
              "      <td>f</td>\n",
              "      <td>f</td>\n",
              "      <td>f</td>\n",
              "      <td>f</td>\n",
              "      <td>f</td>\n",
              "      <td>f</td>\n",
              "      <td>f</td>\n",
              "      <td>f</td>\n",
              "      <td>f</td>\n",
              "      <td>f</td>\n",
              "      <td>f</td>\n",
              "      <td>f</td>\n",
              "      <td>f</td>\n",
              "      <td>PAUL  DECKER</td>\n",
              "      <td>853824.0</td>\n",
              "      <td>DEBORAH  REED</td>\n",
              "      <td>405673.0</td>\n",
              "      <td>CHRISTOPHER  TRENHOLM</td>\n",
              "      <td>382845.0</td>\n",
              "      <td>LISA  SCHWARTZ</td>\n",
              "      <td>378414.0</td>\n",
              "      <td>ADAM  COYNE</td>\n",
              "      <td>376235.0</td>\n",
              "      <td>https://www.usaspending.gov/#/award/CONT_AWD_H...</td>\n",
              "      <td>5/21/2019 9:20</td>\n",
              "    </tr>\n",
              "    <tr>\n",
              "      <th>3</th>\n",
              "      <td>7530_4732_HHSM500201700031G_P00006_GS35F328DA_0</td>\n",
              "      <td>CONT_AWD_HHSM500201700031G_7530_GS35F328DA_4732</td>\n",
              "      <td>HHSM500201700031G</td>\n",
              "      <td>P00006</td>\n",
              "      <td>0.0</td>\n",
              "      <td>4732.0</td>\n",
              "      <td>FEDERAL ACQUISITION SERVICE</td>\n",
              "      <td>GS35F328DA</td>\n",
              "      <td>0</td>\n",
              "      <td>575305.0</td>\n",
              "      <td>1807366.0</td>\n",
              "      <td>575305.0</td>\n",
              "      <td>1807366.0</td>\n",
              "      <td>0.0</td>\n",
              "      <td>2997113.0</td>\n",
              "      <td>3/13/2019</td>\n",
              "      <td>2019</td>\n",
              "      <td>4/15/2019 0:00</td>\n",
              "      <td>4/14/2020 0:00</td>\n",
              "      <td>4/14/2022 0:00</td>\n",
              "      <td>NaN</td>\n",
              "      <td>NaN</td>\n",
              "      <td>75</td>\n",
              "      <td>DEPARTMENT OF HEALTH AND HUMAN SERVICES (HHS)</td>\n",
              "      <td>7530</td>\n",
              "      <td>CENTERS FOR MEDICARE AND MEDICAID SERVICES</td>\n",
              "      <td>75FCMC</td>\n",
              "      <td>OFC OF ACQUISITION AND GRANTS MGMT</td>\n",
              "      <td>75</td>\n",
              "      <td>DEPARTMENT OF HEALTH AND HUMAN SERVICES (HHS)</td>\n",
              "      <td>7530</td>\n",
              "      <td>CENTERS FOR MEDICARE AND MEDICAID SERVICES</td>\n",
              "      <td>75M001</td>\n",
              "      <td>OFFICE OF ACQ  GRANTS MGMT</td>\n",
              "      <td>075-2017/2017-0511-000;075-2018/2018-0511-000;...</td>\n",
              "      <td>075-0511;075-8393</td>\n",
              "      <td>X</td>\n",
              "      <td>NOT APPLICABLE</td>\n",
              "      <td>NaN</td>\n",
              "      <td>NaN</td>\n",
              "      <td>...</td>\n",
              "      <td>f</td>\n",
              "      <td>f</td>\n",
              "      <td>f</td>\n",
              "      <td>f</td>\n",
              "      <td>t</td>\n",
              "      <td>f</td>\n",
              "      <td>t</td>\n",
              "      <td>f</td>\n",
              "      <td>f</td>\n",
              "      <td>f</td>\n",
              "      <td>f</td>\n",
              "      <td>f</td>\n",
              "      <td>f</td>\n",
              "      <td>f</td>\n",
              "      <td>f</td>\n",
              "      <td>f</td>\n",
              "      <td>f</td>\n",
              "      <td>f</td>\n",
              "      <td>f</td>\n",
              "      <td>f</td>\n",
              "      <td>f</td>\n",
              "      <td>f</td>\n",
              "      <td>f</td>\n",
              "      <td>f</td>\n",
              "      <td>f</td>\n",
              "      <td>f</td>\n",
              "      <td>f</td>\n",
              "      <td>f</td>\n",
              "      <td>NaN</td>\n",
              "      <td>NaN</td>\n",
              "      <td>NaN</td>\n",
              "      <td>NaN</td>\n",
              "      <td>NaN</td>\n",
              "      <td>NaN</td>\n",
              "      <td>NaN</td>\n",
              "      <td>NaN</td>\n",
              "      <td>NaN</td>\n",
              "      <td>NaN</td>\n",
              "      <td>https://www.usaspending.gov/#/award/CONT_AWD_H...</td>\n",
              "      <td>3/14/2019 13:53</td>\n",
              "    </tr>\n",
              "    <tr>\n",
              "      <th>4</th>\n",
              "      <td>7530_7530_75FCMC19F0002_0_HHSM500201600051I_0</td>\n",
              "      <td>CONT_AWD_75FCMC19F0002_7530_HHSM500201600051I_...</td>\n",
              "      <td>75FCMC19F0002</td>\n",
              "      <td>0</td>\n",
              "      <td>0.0</td>\n",
              "      <td>7530.0</td>\n",
              "      <td>CENTERS FOR MEDICARE AND MEDICAID SERVICES</td>\n",
              "      <td>HHSM500201600051I</td>\n",
              "      <td>0</td>\n",
              "      <td>1314346.8</td>\n",
              "      <td>1314346.8</td>\n",
              "      <td>1314346.8</td>\n",
              "      <td>1314346.8</td>\n",
              "      <td>6788431.2</td>\n",
              "      <td>6788431.2</td>\n",
              "      <td>3/28/2019</td>\n",
              "      <td>2019</td>\n",
              "      <td>3/28/2019 0:00</td>\n",
              "      <td>3/31/2024 0:00</td>\n",
              "      <td>4/30/2024 0:00</td>\n",
              "      <td>NaN</td>\n",
              "      <td>NaN</td>\n",
              "      <td>75</td>\n",
              "      <td>DEPARTMENT OF HEALTH AND HUMAN SERVICES (HHS)</td>\n",
              "      <td>7530</td>\n",
              "      <td>CENTERS FOR MEDICARE AND MEDICAID SERVICES</td>\n",
              "      <td>75FCMC</td>\n",
              "      <td>OFC OF ACQUISITION AND GRANTS MGMT</td>\n",
              "      <td>75</td>\n",
              "      <td>DEPARTMENT OF HEALTH AND HUMAN SERVICES (HHS)</td>\n",
              "      <td>7530</td>\n",
              "      <td>CENTERS FOR MEDICARE AND MEDICAID SERVICES</td>\n",
              "      <td>75FCMC</td>\n",
              "      <td>OFC OF ACQUISITION AND GRANTS MGMT</td>\n",
              "      <td>075-2019/2019-0511-000</td>\n",
              "      <td>075-0511</td>\n",
              "      <td>X</td>\n",
              "      <td>NOT APPLICABLE</td>\n",
              "      <td>NaN</td>\n",
              "      <td>NaN</td>\n",
              "      <td>...</td>\n",
              "      <td>f</td>\n",
              "      <td>f</td>\n",
              "      <td>f</td>\n",
              "      <td>t</td>\n",
              "      <td>f</td>\n",
              "      <td>f</td>\n",
              "      <td>t</td>\n",
              "      <td>f</td>\n",
              "      <td>f</td>\n",
              "      <td>f</td>\n",
              "      <td>f</td>\n",
              "      <td>f</td>\n",
              "      <td>f</td>\n",
              "      <td>f</td>\n",
              "      <td>f</td>\n",
              "      <td>f</td>\n",
              "      <td>f</td>\n",
              "      <td>f</td>\n",
              "      <td>f</td>\n",
              "      <td>f</td>\n",
              "      <td>f</td>\n",
              "      <td>f</td>\n",
              "      <td>f</td>\n",
              "      <td>t</td>\n",
              "      <td>f</td>\n",
              "      <td>t</td>\n",
              "      <td>f</td>\n",
              "      <td>f</td>\n",
              "      <td>NaN</td>\n",
              "      <td>NaN</td>\n",
              "      <td>NaN</td>\n",
              "      <td>NaN</td>\n",
              "      <td>NaN</td>\n",
              "      <td>NaN</td>\n",
              "      <td>NaN</td>\n",
              "      <td>NaN</td>\n",
              "      <td>NaN</td>\n",
              "      <td>NaN</td>\n",
              "      <td>https://www.usaspending.gov/#/award/CONT_AWD_7...</td>\n",
              "      <td>4/1/2019 12:17</td>\n",
              "    </tr>\n",
              "  </tbody>\n",
              "</table>\n",
              "<p>5 rows × 276 columns</p>\n",
              "</div>"
            ],
            "text/plain": [
              "                     contract_transaction_unique_key  ... last_modified_date\n",
              "0  7530_7530_HHSM500T0016_P00004_HHSM500201400034I_0  ...   10/18/2018 14:51\n",
              "1  7530_7530_HHSM500T0011_P00007_HHSM500200400007I_0  ...    7/17/2019 15:30\n",
              "2  7530_7530_HHSM500T0016_P00006_HHSM500201400034I_0  ...     5/21/2019 9:20\n",
              "3    7530_4732_HHSM500201700031G_P00006_GS35F328DA_0  ...    3/14/2019 13:53\n",
              "4      7530_7530_75FCMC19F0002_0_HHSM500201600051I_0  ...     4/1/2019 12:17\n",
              "\n",
              "[5 rows x 276 columns]"
            ]
          },
          "metadata": {
            "tags": []
          },
          "execution_count": 43
        }
      ]
    },
    {
      "cell_type": "code",
      "metadata": {
        "id": "UdO9-iX6jnFo",
        "colab_type": "code",
        "colab": {
          "base_uri": "https://localhost:8080/",
          "height": 34
        },
        "outputId": "2d70e953-8078-47c2-ec60-fb2955d7b821"
      },
      "source": [
        "contracts.shape"
      ],
      "execution_count": 44,
      "outputs": [
        {
          "output_type": "execute_result",
          "data": {
            "text/plain": [
              "(3787, 276)"
            ]
          },
          "metadata": {
            "tags": []
          },
          "execution_count": 44
        }
      ]
    },
    {
      "cell_type": "markdown",
      "metadata": {
        "id": "GXZ3DQzqjnFr",
        "colab_type": "text"
      },
      "source": [
        "My dataframe has 3,787 rows with 276 columns. "
      ]
    },
    {
      "cell_type": "code",
      "metadata": {
        "id": "Ur2G4kKrjnFs",
        "colab_type": "code",
        "colab": {}
      },
      "source": [
        "# This was a first attempt to subset the dataframe but this isn't what I really wanted.\n",
        "# Implicit index with iloc #before comma is the rows and after comma is columns, with the ends excluded.\n",
        "# df1.iloc[:2,:1 ]\n",
        "\n",
        "#contracts_short = contracts.iloc[:,:6] #this pulls all the rows but only the first 5 columns. \n",
        "#I want to skip around and pull different columns.\n",
        "#contracts_short.head()"
      ],
      "execution_count": 0,
      "outputs": []
    },
    {
      "cell_type": "code",
      "metadata": {
        "id": "dlm6NGdAjnFu",
        "colab_type": "code",
        "colab": {
          "base_uri": "https://localhost:8080/",
          "height": 451
        },
        "outputId": "8705ee29-8c0d-4476-a29d-6cf2f4d0ce18"
      },
      "source": [
        "#dataframe.filter([items,like,regex,axis])\n",
        "# This filter command makes a subset of the dataframe with only the 19 variables/columns that I am interested in. \n",
        "\n",
        "contracts_short = contracts.filter(['contract_transaction_unique_key','parent_award_agency_name','total_dollars_obligated','base_and_exercised_options_value','action_date','period_of_performance_start_date','funding_sub_agency_name','recipient_name','recipient_doing_business_as_name','recipient_state_code','type_of_contract_pricing','product_or_service_code_description','naics_description','solicitation_procedures','type_of_set_aside','number_of_offers_received','multi_year_contract','veteran_owned_business','service_disabled_veteran_owned_business'])\n",
        "contracts_short.head() # typed the individual column names to pull these into the smaller df called contracts_short"
      ],
      "execution_count": 46,
      "outputs": [
        {
          "output_type": "execute_result",
          "data": {
            "text/html": [
              "<div>\n",
              "<style scoped>\n",
              "    .dataframe tbody tr th:only-of-type {\n",
              "        vertical-align: middle;\n",
              "    }\n",
              "\n",
              "    .dataframe tbody tr th {\n",
              "        vertical-align: top;\n",
              "    }\n",
              "\n",
              "    .dataframe thead th {\n",
              "        text-align: right;\n",
              "    }\n",
              "</style>\n",
              "<table border=\"1\" class=\"dataframe\">\n",
              "  <thead>\n",
              "    <tr style=\"text-align: right;\">\n",
              "      <th></th>\n",
              "      <th>contract_transaction_unique_key</th>\n",
              "      <th>parent_award_agency_name</th>\n",
              "      <th>total_dollars_obligated</th>\n",
              "      <th>base_and_exercised_options_value</th>\n",
              "      <th>action_date</th>\n",
              "      <th>period_of_performance_start_date</th>\n",
              "      <th>funding_sub_agency_name</th>\n",
              "      <th>recipient_name</th>\n",
              "      <th>recipient_doing_business_as_name</th>\n",
              "      <th>recipient_state_code</th>\n",
              "      <th>type_of_contract_pricing</th>\n",
              "      <th>product_or_service_code_description</th>\n",
              "      <th>naics_description</th>\n",
              "      <th>solicitation_procedures</th>\n",
              "      <th>type_of_set_aside</th>\n",
              "      <th>number_of_offers_received</th>\n",
              "      <th>multi_year_contract</th>\n",
              "      <th>veteran_owned_business</th>\n",
              "      <th>service_disabled_veteran_owned_business</th>\n",
              "    </tr>\n",
              "  </thead>\n",
              "  <tbody>\n",
              "    <tr>\n",
              "      <th>0</th>\n",
              "      <td>7530_7530_HHSM500T0016_P00004_HHSM500201400034I_0</td>\n",
              "      <td>CENTERS FOR MEDICARE AND MEDICAID SERVICES</td>\n",
              "      <td>7235573.0</td>\n",
              "      <td>0.0</td>\n",
              "      <td>10/10/2018</td>\n",
              "      <td>10/10/2018 0:00</td>\n",
              "      <td>CENTERS FOR MEDICARE AND MEDICAID SERVICES</td>\n",
              "      <td>MATHEMATICA POLICY RESEARCH, INC.</td>\n",
              "      <td>NaN</td>\n",
              "      <td>DC</td>\n",
              "      <td>COST PLUS FIXED FEE</td>\n",
              "      <td>SUPPORT- PROFESSIONAL: OTHER</td>\n",
              "      <td>RESEARCH AND DEVELOPMENT IN THE SOCIAL SCIENCE...</td>\n",
              "      <td>SUBJECT TO MULTIPLE AWARD FAIR OPPORTUNITY</td>\n",
              "      <td>NaN</td>\n",
              "      <td>6.0</td>\n",
              "      <td>YES</td>\n",
              "      <td>f</td>\n",
              "      <td>f</td>\n",
              "    </tr>\n",
              "    <tr>\n",
              "      <th>1</th>\n",
              "      <td>7530_7530_HHSM500T0011_P00007_HHSM500200400007I_0</td>\n",
              "      <td>CENTERS FOR MEDICARE AND MEDICAID SERVICES</td>\n",
              "      <td>37419683.7</td>\n",
              "      <td>10152351.0</td>\n",
              "      <td>7/17/2019</td>\n",
              "      <td>7/17/2019 0:00</td>\n",
              "      <td>CENTERS FOR MEDICARE AND MEDICAID SERVICES</td>\n",
              "      <td>MAXIMUS FEDERAL SERVICES, INC.</td>\n",
              "      <td>MAXIMUS FEDERAL SERVICES, INC</td>\n",
              "      <td>VA</td>\n",
              "      <td>FIRM FIXED PRICE</td>\n",
              "      <td>SUPPORT- PROFESSIONAL: OTHER</td>\n",
              "      <td>ADMINISTRATIVE MANAGEMENT AND GENERAL MANAGEME...</td>\n",
              "      <td>SUBJECT TO MULTIPLE AWARD FAIR OPPORTUNITY</td>\n",
              "      <td>NaN</td>\n",
              "      <td>2.0</td>\n",
              "      <td>NO</td>\n",
              "      <td>f</td>\n",
              "      <td>f</td>\n",
              "    </tr>\n",
              "    <tr>\n",
              "      <th>2</th>\n",
              "      <td>7530_7530_HHSM500T0016_P00006_HHSM500201400034I_0</td>\n",
              "      <td>CENTERS FOR MEDICARE AND MEDICAID SERVICES</td>\n",
              "      <td>10665835.0</td>\n",
              "      <td>3430262.0</td>\n",
              "      <td>5/20/2019</td>\n",
              "      <td>5/18/2019 0:00</td>\n",
              "      <td>CENTERS FOR MEDICARE AND MEDICAID SERVICES</td>\n",
              "      <td>MATHEMATICA POLICY RESEARCH, INC.</td>\n",
              "      <td>NaN</td>\n",
              "      <td>DC</td>\n",
              "      <td>COST PLUS FIXED FEE</td>\n",
              "      <td>SUPPORT- PROFESSIONAL: OTHER</td>\n",
              "      <td>RESEARCH AND DEVELOPMENT IN THE SOCIAL SCIENCE...</td>\n",
              "      <td>SUBJECT TO MULTIPLE AWARD FAIR OPPORTUNITY</td>\n",
              "      <td>NaN</td>\n",
              "      <td>6.0</td>\n",
              "      <td>YES</td>\n",
              "      <td>f</td>\n",
              "      <td>f</td>\n",
              "    </tr>\n",
              "    <tr>\n",
              "      <th>3</th>\n",
              "      <td>7530_4732_HHSM500201700031G_P00006_GS35F328DA_0</td>\n",
              "      <td>FEDERAL ACQUISITION SERVICE</td>\n",
              "      <td>1807366.0</td>\n",
              "      <td>575305.0</td>\n",
              "      <td>3/13/2019</td>\n",
              "      <td>4/15/2019 0:00</td>\n",
              "      <td>CENTERS FOR MEDICARE AND MEDICAID SERVICES</td>\n",
              "      <td>ICF INCORPORATED, L.L.C.</td>\n",
              "      <td>NaN</td>\n",
              "      <td>VA</td>\n",
              "      <td>FIRM FIXED PRICE</td>\n",
              "      <td>SUPPORT- PROFESSIONAL: TECHNOLOGY SHARING/UTIL...</td>\n",
              "      <td>CUSTOM COMPUTER PROGRAMMING SERVICES</td>\n",
              "      <td>SUBJECT TO MULTIPLE AWARD FAIR OPPORTUNITY</td>\n",
              "      <td>NaN</td>\n",
              "      <td>1.0</td>\n",
              "      <td>NaN</td>\n",
              "      <td>f</td>\n",
              "      <td>f</td>\n",
              "    </tr>\n",
              "    <tr>\n",
              "      <th>4</th>\n",
              "      <td>7530_7530_75FCMC19F0002_0_HHSM500201600051I_0</td>\n",
              "      <td>CENTERS FOR MEDICARE AND MEDICAID SERVICES</td>\n",
              "      <td>1314346.8</td>\n",
              "      <td>1314346.8</td>\n",
              "      <td>3/28/2019</td>\n",
              "      <td>3/28/2019 0:00</td>\n",
              "      <td>CENTERS FOR MEDICARE AND MEDICAID SERVICES</td>\n",
              "      <td>CORMAC CORPORATION</td>\n",
              "      <td>NaN</td>\n",
              "      <td>VA</td>\n",
              "      <td>FIRM FIXED PRICE</td>\n",
              "      <td>IT AND TELECOM- SYSTEMS ANALYSIS</td>\n",
              "      <td>COMPUTER SYSTEMS DESIGN SERVICES</td>\n",
              "      <td>SUBJECT TO MULTIPLE AWARD FAIR OPPORTUNITY</td>\n",
              "      <td>NaN</td>\n",
              "      <td>3.0</td>\n",
              "      <td>YES</td>\n",
              "      <td>f</td>\n",
              "      <td>f</td>\n",
              "    </tr>\n",
              "  </tbody>\n",
              "</table>\n",
              "</div>"
            ],
            "text/plain": [
              "                     contract_transaction_unique_key  ... service_disabled_veteran_owned_business\n",
              "0  7530_7530_HHSM500T0016_P00004_HHSM500201400034I_0  ...                                       f\n",
              "1  7530_7530_HHSM500T0011_P00007_HHSM500200400007I_0  ...                                       f\n",
              "2  7530_7530_HHSM500T0016_P00006_HHSM500201400034I_0  ...                                       f\n",
              "3    7530_4732_HHSM500201700031G_P00006_GS35F328DA_0  ...                                       f\n",
              "4      7530_7530_75FCMC19F0002_0_HHSM500201600051I_0  ...                                       f\n",
              "\n",
              "[5 rows x 19 columns]"
            ]
          },
          "metadata": {
            "tags": []
          },
          "execution_count": 46
        }
      ]
    },
    {
      "cell_type": "code",
      "metadata": {
        "id": "8VsrsJwwjnFw",
        "colab_type": "code",
        "colab": {
          "base_uri": "https://localhost:8080/",
          "height": 34
        },
        "outputId": "03cd833d-738c-44d0-d97f-041e9e4bb66f"
      },
      "source": [
        "contracts_short.shape # This gives me the number of (rows, columns) in my shortened dataframe."
      ],
      "execution_count": 47,
      "outputs": [
        {
          "output_type": "execute_result",
          "data": {
            "text/plain": [
              "(3787, 19)"
            ]
          },
          "metadata": {
            "tags": []
          },
          "execution_count": 47
        }
      ]
    },
    {
      "cell_type": "code",
      "metadata": {
        "id": "j_9RVgepjnFz",
        "colab_type": "code",
        "colab": {
          "base_uri": "https://localhost:8080/",
          "height": 372
        },
        "outputId": "2d09f07e-6d16-4e17-9461-140eb477e040"
      },
      "source": [
        "contracts_short.dtypes # This gives the data type for each variable (column)."
      ],
      "execution_count": 48,
      "outputs": [
        {
          "output_type": "execute_result",
          "data": {
            "text/plain": [
              "contract_transaction_unique_key             object\n",
              "parent_award_agency_name                    object\n",
              "total_dollars_obligated                    float64\n",
              "base_and_exercised_options_value           float64\n",
              "action_date                                 object\n",
              "period_of_performance_start_date            object\n",
              "funding_sub_agency_name                     object\n",
              "recipient_name                              object\n",
              "recipient_doing_business_as_name            object\n",
              "recipient_state_code                        object\n",
              "type_of_contract_pricing                    object\n",
              "product_or_service_code_description         object\n",
              "naics_description                           object\n",
              "solicitation_procedures                     object\n",
              "type_of_set_aside                           object\n",
              "number_of_offers_received                  float64\n",
              "multi_year_contract                         object\n",
              "veteran_owned_business                      object\n",
              "service_disabled_veteran_owned_business     object\n",
              "dtype: object"
            ]
          },
          "metadata": {
            "tags": []
          },
          "execution_count": 48
        }
      ]
    },
    {
      "cell_type": "markdown",
      "metadata": {
        "id": "htEhbCuZjnF2",
        "colab_type": "text"
      },
      "source": [
        "The subset dataframe has different kinds of variables. \n",
        "The dataframe has strings, boolean (y/n and t/f), numeric, and date values. "
      ]
    },
    {
      "cell_type": "code",
      "metadata": {
        "id": "RybcUQQ8jnF2",
        "colab_type": "code",
        "colab": {
          "base_uri": "https://localhost:8080/",
          "height": 287
        },
        "outputId": "796afd0b-f8ab-42a2-9a56-570fd0f9f60c"
      },
      "source": [
        "contracts_short.describe() # Describe gives the stats for the numeric columns."
      ],
      "execution_count": 49,
      "outputs": [
        {
          "output_type": "execute_result",
          "data": {
            "text/html": [
              "<div>\n",
              "<style scoped>\n",
              "    .dataframe tbody tr th:only-of-type {\n",
              "        vertical-align: middle;\n",
              "    }\n",
              "\n",
              "    .dataframe tbody tr th {\n",
              "        vertical-align: top;\n",
              "    }\n",
              "\n",
              "    .dataframe thead th {\n",
              "        text-align: right;\n",
              "    }\n",
              "</style>\n",
              "<table border=\"1\" class=\"dataframe\">\n",
              "  <thead>\n",
              "    <tr style=\"text-align: right;\">\n",
              "      <th></th>\n",
              "      <th>total_dollars_obligated</th>\n",
              "      <th>base_and_exercised_options_value</th>\n",
              "      <th>number_of_offers_received</th>\n",
              "    </tr>\n",
              "  </thead>\n",
              "  <tbody>\n",
              "    <tr>\n",
              "      <th>count</th>\n",
              "      <td>3.787000e+03</td>\n",
              "      <td>3.366000e+03</td>\n",
              "      <td>3574.000000</td>\n",
              "    </tr>\n",
              "    <tr>\n",
              "      <th>mean</th>\n",
              "      <td>5.174034e+07</td>\n",
              "      <td>2.181596e+06</td>\n",
              "      <td>10.813374</td>\n",
              "    </tr>\n",
              "    <tr>\n",
              "      <th>std</th>\n",
              "      <td>2.118453e+08</td>\n",
              "      <td>1.378403e+07</td>\n",
              "      <td>28.010666</td>\n",
              "    </tr>\n",
              "    <tr>\n",
              "      <th>min</th>\n",
              "      <td>0.000000e+00</td>\n",
              "      <td>-2.568251e+07</td>\n",
              "      <td>0.000000</td>\n",
              "    </tr>\n",
              "    <tr>\n",
              "      <th>25%</th>\n",
              "      <td>6.567154e+05</td>\n",
              "      <td>0.000000e+00</td>\n",
              "      <td>1.000000</td>\n",
              "    </tr>\n",
              "    <tr>\n",
              "      <th>50%</th>\n",
              "      <td>4.080377e+06</td>\n",
              "      <td>0.000000e+00</td>\n",
              "      <td>3.000000</td>\n",
              "    </tr>\n",
              "    <tr>\n",
              "      <th>75%</th>\n",
              "      <td>1.898408e+07</td>\n",
              "      <td>9.271977e+05</td>\n",
              "      <td>5.750000</td>\n",
              "    </tr>\n",
              "    <tr>\n",
              "      <th>max</th>\n",
              "      <td>4.298741e+09</td>\n",
              "      <td>5.497525e+08</td>\n",
              "      <td>160.000000</td>\n",
              "    </tr>\n",
              "  </tbody>\n",
              "</table>\n",
              "</div>"
            ],
            "text/plain": [
              "       total_dollars_obligated  ...  number_of_offers_received\n",
              "count             3.787000e+03  ...                3574.000000\n",
              "mean              5.174034e+07  ...                  10.813374\n",
              "std               2.118453e+08  ...                  28.010666\n",
              "min               0.000000e+00  ...                   0.000000\n",
              "25%               6.567154e+05  ...                   1.000000\n",
              "50%               4.080377e+06  ...                   3.000000\n",
              "75%               1.898408e+07  ...                   5.750000\n",
              "max               4.298741e+09  ...                 160.000000\n",
              "\n",
              "[8 rows x 3 columns]"
            ]
          },
          "metadata": {
            "tags": []
          },
          "execution_count": 49
        }
      ]
    },
    {
      "cell_type": "code",
      "metadata": {
        "id": "mU-MfjgHjnF4",
        "colab_type": "code",
        "colab": {
          "base_uri": "https://localhost:8080/",
          "height": 447
        },
        "outputId": "235ac59e-1764-42b0-a27c-f26557aab25a"
      },
      "source": [
        "contracts_short.describe(include=\"all\") # This gives stats/counts on the non-numeric column types, too."
      ],
      "execution_count": 50,
      "outputs": [
        {
          "output_type": "execute_result",
          "data": {
            "text/html": [
              "<div>\n",
              "<style scoped>\n",
              "    .dataframe tbody tr th:only-of-type {\n",
              "        vertical-align: middle;\n",
              "    }\n",
              "\n",
              "    .dataframe tbody tr th {\n",
              "        vertical-align: top;\n",
              "    }\n",
              "\n",
              "    .dataframe thead th {\n",
              "        text-align: right;\n",
              "    }\n",
              "</style>\n",
              "<table border=\"1\" class=\"dataframe\">\n",
              "  <thead>\n",
              "    <tr style=\"text-align: right;\">\n",
              "      <th></th>\n",
              "      <th>contract_transaction_unique_key</th>\n",
              "      <th>parent_award_agency_name</th>\n",
              "      <th>total_dollars_obligated</th>\n",
              "      <th>base_and_exercised_options_value</th>\n",
              "      <th>action_date</th>\n",
              "      <th>period_of_performance_start_date</th>\n",
              "      <th>funding_sub_agency_name</th>\n",
              "      <th>recipient_name</th>\n",
              "      <th>recipient_doing_business_as_name</th>\n",
              "      <th>recipient_state_code</th>\n",
              "      <th>type_of_contract_pricing</th>\n",
              "      <th>product_or_service_code_description</th>\n",
              "      <th>naics_description</th>\n",
              "      <th>solicitation_procedures</th>\n",
              "      <th>type_of_set_aside</th>\n",
              "      <th>number_of_offers_received</th>\n",
              "      <th>multi_year_contract</th>\n",
              "      <th>veteran_owned_business</th>\n",
              "      <th>service_disabled_veteran_owned_business</th>\n",
              "    </tr>\n",
              "  </thead>\n",
              "  <tbody>\n",
              "    <tr>\n",
              "      <th>count</th>\n",
              "      <td>3787</td>\n",
              "      <td>2470</td>\n",
              "      <td>3.787000e+03</td>\n",
              "      <td>3.366000e+03</td>\n",
              "      <td>3787</td>\n",
              "      <td>3787</td>\n",
              "      <td>3787</td>\n",
              "      <td>3787</td>\n",
              "      <td>195</td>\n",
              "      <td>3778</td>\n",
              "      <td>3787</td>\n",
              "      <td>3787</td>\n",
              "      <td>3782</td>\n",
              "      <td>3776</td>\n",
              "      <td>1710</td>\n",
              "      <td>3574.000000</td>\n",
              "      <td>2690</td>\n",
              "      <td>3787</td>\n",
              "      <td>3787</td>\n",
              "    </tr>\n",
              "    <tr>\n",
              "      <th>unique</th>\n",
              "      <td>3787</td>\n",
              "      <td>8</td>\n",
              "      <td>NaN</td>\n",
              "      <td>NaN</td>\n",
              "      <td>269</td>\n",
              "      <td>332</td>\n",
              "      <td>1</td>\n",
              "      <td>664</td>\n",
              "      <td>30</td>\n",
              "      <td>46</td>\n",
              "      <td>10</td>\n",
              "      <td>115</td>\n",
              "      <td>89</td>\n",
              "      <td>7</td>\n",
              "      <td>9</td>\n",
              "      <td>NaN</td>\n",
              "      <td>2</td>\n",
              "      <td>2</td>\n",
              "      <td>2</td>\n",
              "    </tr>\n",
              "    <tr>\n",
              "      <th>top</th>\n",
              "      <td>7530_4732_HHSM500201600060G_P00009_GS35F128BA_0</td>\n",
              "      <td>CENTERS FOR MEDICARE AND MEDICAID SERVICES</td>\n",
              "      <td>NaN</td>\n",
              "      <td>NaN</td>\n",
              "      <td>9/12/2019</td>\n",
              "      <td>2/1/2019 0:00</td>\n",
              "      <td>CENTERS FOR MEDICARE AND MEDICAID SERVICES</td>\n",
              "      <td>THE MITRE CORPORATION</td>\n",
              "      <td>EDS</td>\n",
              "      <td>VA</td>\n",
              "      <td>FIRM FIXED PRICE</td>\n",
              "      <td>SUPPORT- PROFESSIONAL: OTHER</td>\n",
              "      <td>ADMINISTRATIVE MANAGEMENT AND GENERAL MANAGEME...</td>\n",
              "      <td>SUBJECT TO MULTIPLE AWARD FAIR OPPORTUNITY</td>\n",
              "      <td>NO SET ASIDE USED.</td>\n",
              "      <td>NaN</td>\n",
              "      <td>NO</td>\n",
              "      <td>f</td>\n",
              "      <td>f</td>\n",
              "    </tr>\n",
              "    <tr>\n",
              "      <th>freq</th>\n",
              "      <td>1</td>\n",
              "      <td>1335</td>\n",
              "      <td>NaN</td>\n",
              "      <td>NaN</td>\n",
              "      <td>61</td>\n",
              "      <td>71</td>\n",
              "      <td>3787</td>\n",
              "      <td>95</td>\n",
              "      <td>29</td>\n",
              "      <td>1096</td>\n",
              "      <td>1600</td>\n",
              "      <td>1340</td>\n",
              "      <td>727</td>\n",
              "      <td>2294</td>\n",
              "      <td>1043</td>\n",
              "      <td>NaN</td>\n",
              "      <td>1764</td>\n",
              "      <td>3601</td>\n",
              "      <td>3653</td>\n",
              "    </tr>\n",
              "    <tr>\n",
              "      <th>mean</th>\n",
              "      <td>NaN</td>\n",
              "      <td>NaN</td>\n",
              "      <td>5.174034e+07</td>\n",
              "      <td>2.181596e+06</td>\n",
              "      <td>NaN</td>\n",
              "      <td>NaN</td>\n",
              "      <td>NaN</td>\n",
              "      <td>NaN</td>\n",
              "      <td>NaN</td>\n",
              "      <td>NaN</td>\n",
              "      <td>NaN</td>\n",
              "      <td>NaN</td>\n",
              "      <td>NaN</td>\n",
              "      <td>NaN</td>\n",
              "      <td>NaN</td>\n",
              "      <td>10.813374</td>\n",
              "      <td>NaN</td>\n",
              "      <td>NaN</td>\n",
              "      <td>NaN</td>\n",
              "    </tr>\n",
              "    <tr>\n",
              "      <th>std</th>\n",
              "      <td>NaN</td>\n",
              "      <td>NaN</td>\n",
              "      <td>2.118453e+08</td>\n",
              "      <td>1.378403e+07</td>\n",
              "      <td>NaN</td>\n",
              "      <td>NaN</td>\n",
              "      <td>NaN</td>\n",
              "      <td>NaN</td>\n",
              "      <td>NaN</td>\n",
              "      <td>NaN</td>\n",
              "      <td>NaN</td>\n",
              "      <td>NaN</td>\n",
              "      <td>NaN</td>\n",
              "      <td>NaN</td>\n",
              "      <td>NaN</td>\n",
              "      <td>28.010666</td>\n",
              "      <td>NaN</td>\n",
              "      <td>NaN</td>\n",
              "      <td>NaN</td>\n",
              "    </tr>\n",
              "    <tr>\n",
              "      <th>min</th>\n",
              "      <td>NaN</td>\n",
              "      <td>NaN</td>\n",
              "      <td>0.000000e+00</td>\n",
              "      <td>-2.568251e+07</td>\n",
              "      <td>NaN</td>\n",
              "      <td>NaN</td>\n",
              "      <td>NaN</td>\n",
              "      <td>NaN</td>\n",
              "      <td>NaN</td>\n",
              "      <td>NaN</td>\n",
              "      <td>NaN</td>\n",
              "      <td>NaN</td>\n",
              "      <td>NaN</td>\n",
              "      <td>NaN</td>\n",
              "      <td>NaN</td>\n",
              "      <td>0.000000</td>\n",
              "      <td>NaN</td>\n",
              "      <td>NaN</td>\n",
              "      <td>NaN</td>\n",
              "    </tr>\n",
              "    <tr>\n",
              "      <th>25%</th>\n",
              "      <td>NaN</td>\n",
              "      <td>NaN</td>\n",
              "      <td>6.567154e+05</td>\n",
              "      <td>0.000000e+00</td>\n",
              "      <td>NaN</td>\n",
              "      <td>NaN</td>\n",
              "      <td>NaN</td>\n",
              "      <td>NaN</td>\n",
              "      <td>NaN</td>\n",
              "      <td>NaN</td>\n",
              "      <td>NaN</td>\n",
              "      <td>NaN</td>\n",
              "      <td>NaN</td>\n",
              "      <td>NaN</td>\n",
              "      <td>NaN</td>\n",
              "      <td>1.000000</td>\n",
              "      <td>NaN</td>\n",
              "      <td>NaN</td>\n",
              "      <td>NaN</td>\n",
              "    </tr>\n",
              "    <tr>\n",
              "      <th>50%</th>\n",
              "      <td>NaN</td>\n",
              "      <td>NaN</td>\n",
              "      <td>4.080377e+06</td>\n",
              "      <td>0.000000e+00</td>\n",
              "      <td>NaN</td>\n",
              "      <td>NaN</td>\n",
              "      <td>NaN</td>\n",
              "      <td>NaN</td>\n",
              "      <td>NaN</td>\n",
              "      <td>NaN</td>\n",
              "      <td>NaN</td>\n",
              "      <td>NaN</td>\n",
              "      <td>NaN</td>\n",
              "      <td>NaN</td>\n",
              "      <td>NaN</td>\n",
              "      <td>3.000000</td>\n",
              "      <td>NaN</td>\n",
              "      <td>NaN</td>\n",
              "      <td>NaN</td>\n",
              "    </tr>\n",
              "    <tr>\n",
              "      <th>75%</th>\n",
              "      <td>NaN</td>\n",
              "      <td>NaN</td>\n",
              "      <td>1.898408e+07</td>\n",
              "      <td>9.271977e+05</td>\n",
              "      <td>NaN</td>\n",
              "      <td>NaN</td>\n",
              "      <td>NaN</td>\n",
              "      <td>NaN</td>\n",
              "      <td>NaN</td>\n",
              "      <td>NaN</td>\n",
              "      <td>NaN</td>\n",
              "      <td>NaN</td>\n",
              "      <td>NaN</td>\n",
              "      <td>NaN</td>\n",
              "      <td>NaN</td>\n",
              "      <td>5.750000</td>\n",
              "      <td>NaN</td>\n",
              "      <td>NaN</td>\n",
              "      <td>NaN</td>\n",
              "    </tr>\n",
              "    <tr>\n",
              "      <th>max</th>\n",
              "      <td>NaN</td>\n",
              "      <td>NaN</td>\n",
              "      <td>4.298741e+09</td>\n",
              "      <td>5.497525e+08</td>\n",
              "      <td>NaN</td>\n",
              "      <td>NaN</td>\n",
              "      <td>NaN</td>\n",
              "      <td>NaN</td>\n",
              "      <td>NaN</td>\n",
              "      <td>NaN</td>\n",
              "      <td>NaN</td>\n",
              "      <td>NaN</td>\n",
              "      <td>NaN</td>\n",
              "      <td>NaN</td>\n",
              "      <td>NaN</td>\n",
              "      <td>160.000000</td>\n",
              "      <td>NaN</td>\n",
              "      <td>NaN</td>\n",
              "      <td>NaN</td>\n",
              "    </tr>\n",
              "  </tbody>\n",
              "</table>\n",
              "</div>"
            ],
            "text/plain": [
              "                        contract_transaction_unique_key  ... service_disabled_veteran_owned_business\n",
              "count                                              3787  ...                                    3787\n",
              "unique                                             3787  ...                                       2\n",
              "top     7530_4732_HHSM500201600060G_P00009_GS35F128BA_0  ...                                       f\n",
              "freq                                                  1  ...                                    3653\n",
              "mean                                                NaN  ...                                     NaN\n",
              "std                                                 NaN  ...                                     NaN\n",
              "min                                                 NaN  ...                                     NaN\n",
              "25%                                                 NaN  ...                                     NaN\n",
              "50%                                                 NaN  ...                                     NaN\n",
              "75%                                                 NaN  ...                                     NaN\n",
              "max                                                 NaN  ...                                     NaN\n",
              "\n",
              "[11 rows x 19 columns]"
            ]
          },
          "metadata": {
            "tags": []
          },
          "execution_count": 50
        }
      ]
    },
    {
      "cell_type": "code",
      "metadata": {
        "id": "X8-iLO8kjnF7",
        "colab_type": "code",
        "colab": {
          "base_uri": "https://localhost:8080/",
          "height": 283
        },
        "outputId": "d6431ded-0f0c-423f-f8a9-94cb51770bdc"
      },
      "source": [
        "print(contracts_short) #this shows me the first and last 5 rows\n",
        "type(contracts_short)"
      ],
      "execution_count": 51,
      "outputs": [
        {
          "output_type": "stream",
          "text": [
            "                        contract_transaction_unique_key  ... service_disabled_veteran_owned_business\n",
            "0     7530_7530_HHSM500T0016_P00004_HHSM500201400034I_0  ...                                       f\n",
            "1     7530_7530_HHSM500T0011_P00007_HHSM500200400007I_0  ...                                       f\n",
            "2     7530_7530_HHSM500T0016_P00006_HHSM500201400034I_0  ...                                       f\n",
            "3       7530_4732_HHSM500201700031G_P00006_GS35F328DA_0  ...                                       f\n",
            "4         7530_7530_75FCMC19F0002_0_HHSM500201600051I_0  ...                                       f\n",
            "...                                                 ...  ...                                     ...\n",
            "3782        7530_4730_75FCMC18F0065_P00001_GS07F9186S_0  ...                                       f\n",
            "3783      7530_-NONE-_HHSM500201700020P_P00001_-NONE-_0  ...                                       f\n",
            "3784               7530_-NONE-_75FCMC19C0004_0_-NONE-_0  ...                                       f\n",
            "3785      7530_-NONE-_HHSM500201300160P_P00002_-NONE-_0  ...                                       f\n",
            "3786      7530_-NONE-_HHSM500201300181P_P00001_-NONE-_0  ...                                       f\n",
            "\n",
            "[3787 rows x 19 columns]\n"
          ],
          "name": "stdout"
        },
        {
          "output_type": "execute_result",
          "data": {
            "text/plain": [
              "pandas.core.frame.DataFrame"
            ]
          },
          "metadata": {
            "tags": []
          },
          "execution_count": 51
        }
      ]
    },
    {
      "cell_type": "markdown",
      "metadata": {
        "id": "oIWdEeGpjnF-",
        "colab_type": "text"
      },
      "source": [
        "My variable total_dollars_obligated does not have any na's but just to be sure I will remove them."
      ]
    },
    {
      "cell_type": "code",
      "metadata": {
        "id": "SpTua5Q7jnF_",
        "colab_type": "code",
        "colab": {
          "base_uri": "https://localhost:8080/",
          "height": 283
        },
        "outputId": "d307ff95-4307-4a2a-986f-a425e3c2f1f4"
      },
      "source": [
        "#data_na = (data.dropna(subset=['Tax Returns']))\n",
        "contracts_short_na = (contracts_short.dropna(subset=['total_dollars_obligated'])) #this removes the records that have na's in this variable.\n",
        "print(contracts_short_na)\n",
        "type(contracts_short_na)"
      ],
      "execution_count": 52,
      "outputs": [
        {
          "output_type": "stream",
          "text": [
            "                        contract_transaction_unique_key  ... service_disabled_veteran_owned_business\n",
            "0     7530_7530_HHSM500T0016_P00004_HHSM500201400034I_0  ...                                       f\n",
            "1     7530_7530_HHSM500T0011_P00007_HHSM500200400007I_0  ...                                       f\n",
            "2     7530_7530_HHSM500T0016_P00006_HHSM500201400034I_0  ...                                       f\n",
            "3       7530_4732_HHSM500201700031G_P00006_GS35F328DA_0  ...                                       f\n",
            "4         7530_7530_75FCMC19F0002_0_HHSM500201600051I_0  ...                                       f\n",
            "...                                                 ...  ...                                     ...\n",
            "3782        7530_4730_75FCMC18F0065_P00001_GS07F9186S_0  ...                                       f\n",
            "3783      7530_-NONE-_HHSM500201700020P_P00001_-NONE-_0  ...                                       f\n",
            "3784               7530_-NONE-_75FCMC19C0004_0_-NONE-_0  ...                                       f\n",
            "3785      7530_-NONE-_HHSM500201300160P_P00002_-NONE-_0  ...                                       f\n",
            "3786      7530_-NONE-_HHSM500201300181P_P00001_-NONE-_0  ...                                       f\n",
            "\n",
            "[3787 rows x 19 columns]\n"
          ],
          "name": "stdout"
        },
        {
          "output_type": "execute_result",
          "data": {
            "text/plain": [
              "pandas.core.frame.DataFrame"
            ]
          },
          "metadata": {
            "tags": []
          },
          "execution_count": 52
        }
      ]
    },
    {
      "cell_type": "markdown",
      "metadata": {
        "id": "1ong4BokjnGC",
        "colab_type": "text"
      },
      "source": [
        "Since my number of rows did not change (3787) I know that no records were removed due to na's. \n"
      ]
    },
    {
      "cell_type": "markdown",
      "metadata": {
        "id": "l56Nkx6VjnGC",
        "colab_type": "text"
      },
      "source": [
        "I will continue with some exploratory data analysis (EDA) using matplotlib. "
      ]
    },
    {
      "cell_type": "code",
      "metadata": {
        "id": "7vdTLuEFjnGC",
        "colab_type": "code",
        "colab": {}
      },
      "source": [
        "# This didn't work out quite as planned so i've abandoned this method.\n",
        "#import matplotlib as mpl\n",
        "#import matplotlib.pyplot as plt\n",
        "#x = np.random.randn(1000)\n",
        "#plt.hist(x); # or \n",
        "#plt.hist(x, bins=30,normed=True,alpha=0.5,histtype='stpfilled',color='steelblue',edgecolor='none');\n",
        "\n",
        "#offers = contracts_short.filter(['number_of_offers_received'])\n",
        "#offers = offers.fillna(0)\n",
        "#offers = contracts_short.pd('number_of_offers_received')\n",
        "#plt.hist(offers)\n",
        "#plt.show()"
      ],
      "execution_count": 0,
      "outputs": []
    },
    {
      "cell_type": "markdown",
      "metadata": {
        "id": "-hBYDRq5jnGE",
        "colab_type": "text"
      },
      "source": [
        "This will give me a histogram of the number of offers for each contract. "
      ]
    },
    {
      "cell_type": "code",
      "metadata": {
        "id": "q75WV2qkjnGF",
        "colab_type": "code",
        "colab": {
          "base_uri": "https://localhost:8080/",
          "height": 355
        },
        "outputId": "df84fc91-2f29-4745-bada-c100dd65ec57"
      },
      "source": [
        "import matplotlib as mpl\n",
        "import matplotlib.pyplot as plt\n",
        "_ = plt.hist(contracts_short.number_of_offers_received)\n",
        "_ = plt.xlabel('Number of Offers sent to CMS for each Contract FY19')\n",
        "_ = plt.ylabel('Number of Contracts')"
      ],
      "execution_count": 54,
      "outputs": [
        {
          "output_type": "stream",
          "text": [
            "/usr/local/lib/python3.6/dist-packages/numpy/lib/histograms.py:839: RuntimeWarning: invalid value encountered in greater_equal\n",
            "  keep = (tmp_a >= first_edge)\n",
            "/usr/local/lib/python3.6/dist-packages/numpy/lib/histograms.py:840: RuntimeWarning: invalid value encountered in less_equal\n",
            "  keep &= (tmp_a <= last_edge)\n"
          ],
          "name": "stderr"
        },
        {
          "output_type": "display_data",
          "data": {
            "image/png": "[encoded data removed]",
            "text/plain": [
              "<Figure size 432x288 with 1 Axes>"
            ]
          },
          "metadata": {
            "tags": []
          }
        }
      ]
    },
    {
      "cell_type": "markdown",
      "metadata": {
        "id": "bTiolzC8jnGH",
        "colab_type": "text"
      },
      "source": [
        "I will use seaborn styling to show this histogram again."
      ]
    },
    {
      "cell_type": "code",
      "metadata": {
        "id": "xTWC2zANjnGH",
        "colab_type": "code",
        "colab": {
          "base_uri": "https://localhost:8080/",
          "height": 355
        },
        "outputId": "ea47a7a5-3f97-4ff5-c969-6ad3f964dadd"
      },
      "source": [
        "import seaborn as sns\n",
        "sns.set()\n",
        "_ = plt.hist(contracts_short.number_of_offers_received)\n",
        "_ = plt.xlabel('Number of Offers sent to CMS for each Contract FY19')\n",
        "_ = plt.ylabel('Number of Contracts')"
      ],
      "execution_count": 55,
      "outputs": [
        {
          "output_type": "stream",
          "text": [
            "/usr/local/lib/python3.6/dist-packages/numpy/lib/histograms.py:839: RuntimeWarning: invalid value encountered in greater_equal\n",
            "  keep = (tmp_a >= first_edge)\n",
            "/usr/local/lib/python3.6/dist-packages/numpy/lib/histograms.py:840: RuntimeWarning: invalid value encountered in less_equal\n",
            "  keep &= (tmp_a <= last_edge)\n"
          ],
          "name": "stderr"
        },
        {
          "output_type": "display_data",
          "data": {
            "image/png": "[encoded data removed]",
            "text/plain": [
              "<Figure size 432x288 with 1 Axes>"
            ]
          },
          "metadata": {
            "tags": []
          }
        }
      ]
    },
    {
      "cell_type": "markdown",
      "metadata": {
        "id": "FOD9Hvm7jnGJ",
        "colab_type": "text"
      },
      "source": [
        "I will make the histogram again but change the bin number. "
      ]
    },
    {
      "cell_type": "code",
      "metadata": {
        "id": "dh9SviYrjnGJ",
        "colab_type": "code",
        "colab": {
          "base_uri": "https://localhost:8080/",
          "height": 355
        },
        "outputId": "c73f1f1b-7def-4bb2-f5da-de06440752da"
      },
      "source": [
        "_ = plt.hist(contracts_short.number_of_offers_received, bins=100)\n",
        "_ = plt.xlabel('Number of Offers sent to CMS for each Contract FY19')\n",
        "_ = plt.ylabel('Number of Contracts')"
      ],
      "execution_count": 56,
      "outputs": [
        {
          "output_type": "stream",
          "text": [
            "/usr/local/lib/python3.6/dist-packages/numpy/lib/histograms.py:839: RuntimeWarning: invalid value encountered in greater_equal\n",
            "  keep = (tmp_a >= first_edge)\n",
            "/usr/local/lib/python3.6/dist-packages/numpy/lib/histograms.py:840: RuntimeWarning: invalid value encountered in less_equal\n",
            "  keep &= (tmp_a <= last_edge)\n"
          ],
          "name": "stderr"
        },
        {
          "output_type": "display_data",
          "data": {
            "image/png": "[encoded data removed]",
            "text/plain": [
              "<Figure size 432x288 with 1 Axes>"
            ]
          },
          "metadata": {
            "tags": []
          }
        }
      ]
    },
    {
      "cell_type": "markdown",
      "metadata": {
        "id": "HMJoG7ekjnGM",
        "colab_type": "text"
      },
      "source": [
        "This will give me a histogram of the Total Dollars Obligated for the fiscal year."
      ]
    },
    {
      "cell_type": "code",
      "metadata": {
        "id": "Y1aCrFTVjnGM",
        "colab_type": "code",
        "colab": {
          "base_uri": "https://localhost:8080/",
          "height": 302
        },
        "outputId": "e9bfca84-8f31-411b-a805-eb5fa36bfd6d"
      },
      "source": [
        "plt.hist(contracts_short.total_dollars_obligated)\n",
        "plt.xlabel('Total Dollars Obligated FY19')\n",
        "plt.ylabel('Number of Contracts')\n"
      ],
      "execution_count": 57,
      "outputs": [
        {
          "output_type": "execute_result",
          "data": {
            "text/plain": [
              "Text(0, 0.5, 'Number of Contracts')"
            ]
          },
          "metadata": {
            "tags": []
          },
          "execution_count": 57
        },
        {
          "output_type": "display_data",
          "data": {
            "image/png": "[encoded data removed]",
            "text/plain": [
              "<Figure size 432x288 with 1 Axes>"
            ]
          },
          "metadata": {
            "tags": []
          }
        }
      ]
    },
    {
      "cell_type": "markdown",
      "metadata": {
        "id": "ksMkkwOgjnGO",
        "colab_type": "text"
      },
      "source": [
        "This will give me a histogram of the Total Dollars for the Base Year and already Exercised Options."
      ]
    },
    {
      "cell_type": "code",
      "metadata": {
        "id": "BixXvzwZjnGP",
        "colab_type": "code",
        "colab": {
          "base_uri": "https://localhost:8080/",
          "height": 373
        },
        "outputId": "5438eff7-f049-43f6-907d-7163e4e92357"
      },
      "source": [
        "plt.hist(contracts_short.base_and_exercised_options_value)\n",
        "plt.xlabel('Total Dollars - Base Year and Exercised Options')\n",
        "plt.ylabel('Number of Contracts')"
      ],
      "execution_count": 58,
      "outputs": [
        {
          "output_type": "stream",
          "text": [
            "/usr/local/lib/python3.6/dist-packages/numpy/lib/histograms.py:839: RuntimeWarning: invalid value encountered in greater_equal\n",
            "  keep = (tmp_a >= first_edge)\n",
            "/usr/local/lib/python3.6/dist-packages/numpy/lib/histograms.py:840: RuntimeWarning: invalid value encountered in less_equal\n",
            "  keep &= (tmp_a <= last_edge)\n"
          ],
          "name": "stderr"
        },
        {
          "output_type": "execute_result",
          "data": {
            "text/plain": [
              "Text(0, 0.5, 'Number of Contracts')"
            ]
          },
          "metadata": {
            "tags": []
          },
          "execution_count": 58
        },
        {
          "output_type": "display_data",
          "data": {
            "image/png": "[encoded data removed]",
            "text/plain": [
              "<Figure size 432x288 with 1 Axes>"
            ]
          },
          "metadata": {
            "tags": []
          }
        }
      ]
    },
    {
      "cell_type": "markdown",
      "metadata": {
        "id": "8cbtQ124jnGR",
        "colab_type": "text"
      },
      "source": [
        "Going back to the Total Dollars Obligated for the FY19, I will try different bin values to make the histogram reveal more about the data."
      ]
    },
    {
      "cell_type": "code",
      "metadata": {
        "id": "3_hu4xIAjnGR",
        "colab_type": "code",
        "colab": {
          "base_uri": "https://localhost:8080/",
          "height": 302
        },
        "outputId": "aed997d4-1c41-4131-88bc-84c3a5085fb6"
      },
      "source": [
        "sns.set()\n",
        "plt.hist(contracts_short.total_dollars_obligated,bins=50)\n",
        "plt.xlabel('Total Dollars Obligated FY19')\n",
        "plt.ylabel('Number of Contracts')"
      ],
      "execution_count": 59,
      "outputs": [
        {
          "output_type": "execute_result",
          "data": {
            "text/plain": [
              "Text(0, 0.5, 'Number of Contracts')"
            ]
          },
          "metadata": {
            "tags": []
          },
          "execution_count": 59
        },
        {
          "output_type": "display_data",
          "data": {
            "image/png": "[encoded data removed]",
            "text/plain": [
              "<Figure size 432x288 with 1 Axes>"
            ]
          },
          "metadata": {
            "tags": []
          }
        }
      ]
    },
    {
      "cell_type": "code",
      "metadata": {
        "id": "nyhE8zcMjnGT",
        "colab_type": "code",
        "colab": {}
      },
      "source": [
        ""
      ],
      "execution_count": 0,
      "outputs": []
    },
    {
      "cell_type": "markdown",
      "metadata": {
        "id": "uKzgA7UxjnGU",
        "colab_type": "text"
      },
      "source": [
        "# Bootstrapping\n",
        "I will need to pull just the one variable out. \n",
        "I will need to take random samples of my records for the variable_total_dollars obligated and append the samples onto the data. "
      ]
    },
    {
      "cell_type": "code",
      "metadata": {
        "id": "YFOA0oeGjnGV",
        "colab_type": "code",
        "colab": {
          "base_uri": "https://localhost:8080/",
          "height": 247
        },
        "outputId": "ba0614f0-6f3e-49f7-f3c7-275386b557b5"
      },
      "source": [
        "#mdtaxrt = data_na['Tax Returns']\n",
        "#type(mdtaxrt)\n",
        "obligated = contracts_short['total_dollars_obligated'] # this keeps just the one variable.\n",
        "print(obligated)\n",
        "type(obligated)"
      ],
      "execution_count": 60,
      "outputs": [
        {
          "output_type": "stream",
          "text": [
            "0        7235573.00\n",
            "1       37419683.70\n",
            "2       10665835.00\n",
            "3        1807366.00\n",
            "4        1314346.80\n",
            "           ...     \n",
            "3782      201018.62\n",
            "3783       96024.55\n",
            "3784      537501.00\n",
            "3785      100806.72\n",
            "3786        3500.00\n",
            "Name: total_dollars_obligated, Length: 3787, dtype: float64\n"
          ],
          "name": "stdout"
        },
        {
          "output_type": "execute_result",
          "data": {
            "text/plain": [
              "pandas.core.series.Series"
            ]
          },
          "metadata": {
            "tags": []
          },
          "execution_count": 60
        }
      ]
    },
    {
      "cell_type": "code",
      "metadata": {
        "id": "gyfYBFXajnGY",
        "colab_type": "code",
        "colab": {
          "base_uri": "https://localhost:8080/",
          "height": 34
        },
        "outputId": "54de845f-559b-4fd7-e56c-b341e0699e07"
      },
      "source": [
        "data_sample = np.random.choice(obligated,size = 100, replace = False) # this is just a random sample of 100 records\n",
        "np.mean(data_sample) # the mean of my one sample\n",
        "# replace = False means the values are removed from the dataset as the function picks the random sample"
      ],
      "execution_count": 61,
      "outputs": [
        {
          "output_type": "execute_result",
          "data": {
            "text/plain": [
              "45688438.3838"
            ]
          },
          "metadata": {
            "tags": []
          },
          "execution_count": 61
        }
      ]
    },
    {
      "cell_type": "code",
      "metadata": {
        "id": "TIKgRA6TjnGa",
        "colab_type": "code",
        "colab": {
          "base_uri": "https://localhost:8080/",
          "height": 34
        },
        "outputId": "9f9374d0-b6b9-428c-e687-9b7d199aeef7"
      },
      "source": [
        "np.median(data_sample)# the median of my one sample"
      ],
      "execution_count": 62,
      "outputs": [
        {
          "output_type": "execute_result",
          "data": {
            "text/plain": [
              "3965702.815"
            ]
          },
          "metadata": {
            "tags": []
          },
          "execution_count": 62
        }
      ]
    },
    {
      "cell_type": "code",
      "metadata": {
        "id": "o9i0ebv_jnGc",
        "colab_type": "code",
        "colab": {
          "base_uri": "https://localhost:8080/",
          "height": 34
        },
        "outputId": "bbc91e82-a967-4126-cb1e-fd3212eaf70b"
      },
      "source": [
        "np.std(data_sample) # the standard deviation of my one sample"
      ],
      "execution_count": 63,
      "outputs": [
        {
          "output_type": "execute_result",
          "data": {
            "text/plain": [
              "132558745.9341674"
            ]
          },
          "metadata": {
            "tags": []
          },
          "execution_count": 63
        }
      ]
    },
    {
      "cell_type": "code",
      "metadata": {
        "id": "1KMhlUSujnGe",
        "colab_type": "code",
        "colab": {
          "base_uri": "https://localhost:8080/",
          "height": 70
        },
        "outputId": "3d0d9180-ad13-428a-f88c-047909df4b11"
      },
      "source": [
        "from sklearn.utils import resample #we use the resample \n",
        "n_iterations = 2000\n",
        "\n",
        "boot_samples = list()\n",
        "mean_boot_samples = list()\n",
        "median_boot_samples = list()\n",
        "\n",
        "for i in range(n_iterations): #this does the bootstrapping\n",
        "    boot_sample = resample(data_sample)\n",
        "    boot_samples.append(boot_sample) # this appends the new sample onto the rest\n",
        "    \n",
        "    mean_boot_samples.append(np.mean(boot_sample)) #calculates the mean of the sample and appends it to the list\n",
        "    \n",
        "    median_boot_samples.append(np.median(boot_sample)) #calculates the median of the sample and appends it to the list\n",
        "    \n",
        "print(\"The Length of the boot_samples is: \" + str(len(boot_samples)))\n",
        "print(\"The mean of the bootstrapped data is: \" + str(np.mean(mean_boot_samples)))\n",
        "print(\"The median of the bootstrapped data is: \" + str(np.median(median_boot_samples)))\n"
      ],
      "execution_count": 64,
      "outputs": [
        {
          "output_type": "stream",
          "text": [
            "The Length of the boot_samples is: 2000\n",
            "The mean of the bootstrapped data is: 45622101.7409515\n",
            "The median of the bootstrapped data is: 3965702.815\n"
          ],
          "name": "stdout"
        }
      ]
    },
    {
      "cell_type": "code",
      "metadata": {
        "id": "WZliMdozj2Bq",
        "colab_type": "code",
        "colab": {
          "base_uri": "https://localhost:8080/",
          "height": 34
        },
        "outputId": "5b1ad5f7-5372-4f16-8448-1393045f3373"
      },
      "source": [
        "np.mean(obligated)\n",
        "print(\"The mean of the full dataset is: \" + str(np.mean(obligated)))\n"
      ],
      "execution_count": 65,
      "outputs": [
        {
          "output_type": "stream",
          "text": [
            "The mean of the full dataset is: 51740344.17200949\n"
          ],
          "name": "stdout"
        }
      ]
    },
    {
      "cell_type": "markdown",
      "metadata": {
        "id": "w1Zji1DtjnGg",
        "colab_type": "text"
      },
      "source": [
        "# Confidence Interval for the Median"
      ]
    },
    {
      "cell_type": "code",
      "metadata": {
        "id": "24wZva_ZjnGh",
        "colab_type": "code",
        "colab": {
          "base_uri": "https://localhost:8080/",
          "height": 123
        },
        "outputId": "1a589f5f-efff-417f-8dfb-d1c51c9470fc"
      },
      "source": [
        "resamples_medians = pd.Series(index=np.arange(1000))\n",
        "for i in range(1000): \n",
        "              resamples_medians[i] = np.median(resample(data_sample))\n",
        "\n",
        "print(resamples_medians.median())\n",
        "print(resamples_medians.mean())\n",
        "print(resamples_medians.quantile(0.025))\n",
        "print(resamples_medians.quantile(0.975))"
      ],
      "execution_count": 66,
      "outputs": [
        {
          "output_type": "stream",
          "text": [
            "3965702.815\n",
            "3849543.2602100032\n",
            "2308179.03\n",
            "5581517.324999999\n"
          ],
          "name": "stdout"
        },
        {
          "output_type": "stream",
          "text": [
            "/usr/local/lib/python3.6/dist-packages/ipykernel_launcher.py:1: DeprecationWarning: The default dtype for empty Series will be 'object' instead of 'float64' in a future version. Specify a dtype explicitly to silence this warning.\n",
            "  \"\"\"Entry point for launching an IPython kernel.\n"
          ],
          "name": "stderr"
        }
      ]
    },
    {
      "cell_type": "code",
      "metadata": {
        "id": "yL8CSpDPjnGj",
        "colab_type": "code",
        "colab": {
          "base_uri": "https://localhost:8080/",
          "height": 34
        },
        "outputId": "12632d2b-7158-43d8-fdbe-581b980b1394"
      },
      "source": [
        "np.median((obligated))\n",
        "print(\"the median of the full dataset is: \" + str(np.median(obligated)))\n"
      ],
      "execution_count": 67,
      "outputs": [
        {
          "output_type": "stream",
          "text": [
            "the median of the full dataset is: 4080376.73\n"
          ],
          "name": "stdout"
        }
      ]
    }
  ]
}