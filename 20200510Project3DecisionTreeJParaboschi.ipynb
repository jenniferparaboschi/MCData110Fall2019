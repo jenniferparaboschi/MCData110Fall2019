{
  "nbformat": 4,
  "nbformat_minor": 0,
  "metadata": {
    "colab": {
      "name": "20200504Project3DecisionTreeJParaboschi (1).ipynb",
      "provenance": [],
      "collapsed_sections": []
    },
    "kernelspec": {
      "name": "python3",
      "display_name": "Python 3"
    }
  },
  "cells": [
    {
      "cell_type": "markdown",
      "metadata": {
        "id": "4hbpfAI5ch59",
        "colab_type": "text"
      },
      "source": [
        "Data 201 Project #3 Decision Trees"
      ]
    },
    {
      "cell_type": "markdown",
      "metadata": {
        "id": "MTN3XHvJdj1i",
        "colab_type": "text"
      },
      "source": [
        "Austin Animal Center Shelter Intakes and Outcomes. \n",
        "This analysis focuses on the gender and age of animals successfully adopted from the shelter."
      ]
    },
    {
      "cell_type": "code",
      "metadata": {
        "id": "rY2ssoqTctvU",
        "colab_type": "code",
        "colab": {}
      },
      "source": [
        "# import packages\n",
        "import pandas as pd\n",
        "\n",
        "from sklearn.tree import DecisionTreeClassifier\n",
        "from sklearn.model_selection import train_test_split\n",
        "from sklearn.metrics import accuracy_score, confusion_matrix\n",
        "from sklearn.tree import plot_tree\n",
        "\n",
        "import matplotlib.pyplot as plt\n",
        "import seaborn as sns\n"
      ],
      "execution_count": 0,
      "outputs": []
    },
    {
      "cell_type": "code",
      "metadata": {
        "id": "HDGl2j8oVApn",
        "colab_type": "code",
        "colab": {}
      },
      "source": [
        "import graphviz\n",
        "from sklearn.tree import export_graphviz\n",
        "from IPython.display import display"
      ],
      "execution_count": 0,
      "outputs": []
    },
    {
      "cell_type": "markdown",
      "metadata": {
        "id": "1csdlKwr60QP",
        "colab_type": "text"
      },
      "source": [
        "The data is available on **kaggle** in a few different versions. I chose data that had been cleaned a bit already. The data is available here https://www.kaggle.com/aaronschlegel/austin-animal-center-shelter-outcomes-and#aac_shelter_outcomes.csv "
      ]
    },
    {
      "cell_type": "code",
      "metadata": {
        "id": "FgSkqbX3mDko",
        "colab_type": "code",
        "outputId": "c9c439ee-7b79-4894-c09f-32efdb432eae",
        "colab": {
          "base_uri": "https://localhost:8080/",
          "height": 33
        }
      },
      "source": [
        "# read in the dataset\n",
        "shelterdf = pd.read_csv('aac_shelter_outcomes.csv')\n",
        "shelterdf.shape"
      ],
      "execution_count": 286,
      "outputs": [
        {
          "output_type": "execute_result",
          "data": {
            "text/plain": [
              "(78256, 12)"
            ]
          },
          "metadata": {
            "tags": []
          },
          "execution_count": 286
        }
      ]
    },
    {
      "cell_type": "markdown",
      "metadata": {
        "id": "x8DdLyZIn2YW",
        "colab_type": "text"
      },
      "source": [
        "This shelter dataset includes 78,256 records and 12 features/variables. "
      ]
    },
    {
      "cell_type": "code",
      "metadata": {
        "id": "ZYnd5imCnw52",
        "colab_type": "code",
        "outputId": "e307f4cb-1c4a-4c4e-affc-202344b8569b",
        "colab": {
          "base_uri": "https://localhost:8080/",
          "height": 191
        }
      },
      "source": [
        "shelterdf.head()"
      ],
      "execution_count": 287,
      "outputs": [
        {
          "output_type": "execute_result",
          "data": {
            "text/html": [
              "<div>\n",
              "<style scoped>\n",
              "    .dataframe tbody tr th:only-of-type {\n",
              "        vertical-align: middle;\n",
              "    }\n",
              "\n",
              "    .dataframe tbody tr th {\n",
              "        vertical-align: top;\n",
              "    }\n",
              "\n",
              "    .dataframe thead th {\n",
              "        text-align: right;\n",
              "    }\n",
              "</style>\n",
              "<table border=\"1\" class=\"dataframe\">\n",
              "  <thead>\n",
              "    <tr style=\"text-align: right;\">\n",
              "      <th></th>\n",
              "      <th>age_upon_outcome</th>\n",
              "      <th>animal_id</th>\n",
              "      <th>animal_type</th>\n",
              "      <th>breed</th>\n",
              "      <th>color</th>\n",
              "      <th>date_of_birth</th>\n",
              "      <th>datetime</th>\n",
              "      <th>monthyear</th>\n",
              "      <th>name</th>\n",
              "      <th>outcome_subtype</th>\n",
              "      <th>outcome_type</th>\n",
              "      <th>sex_upon_outcome</th>\n",
              "    </tr>\n",
              "  </thead>\n",
              "  <tbody>\n",
              "    <tr>\n",
              "      <th>0</th>\n",
              "      <td>2 weeks</td>\n",
              "      <td>A684346</td>\n",
              "      <td>Cat</td>\n",
              "      <td>Domestic Shorthair Mix</td>\n",
              "      <td>Orange Tabby</td>\n",
              "      <td>2014-07-07T00:00:00</td>\n",
              "      <td>2014-07-22T16:04:00</td>\n",
              "      <td>2014-07-22T16:04:00</td>\n",
              "      <td>NaN</td>\n",
              "      <td>Partner</td>\n",
              "      <td>Transfer</td>\n",
              "      <td>Intact Male</td>\n",
              "    </tr>\n",
              "    <tr>\n",
              "      <th>1</th>\n",
              "      <td>1 year</td>\n",
              "      <td>A666430</td>\n",
              "      <td>Dog</td>\n",
              "      <td>Beagle Mix</td>\n",
              "      <td>White/Brown</td>\n",
              "      <td>2012-11-06T00:00:00</td>\n",
              "      <td>2013-11-07T11:47:00</td>\n",
              "      <td>2013-11-07T11:47:00</td>\n",
              "      <td>Lucy</td>\n",
              "      <td>Partner</td>\n",
              "      <td>Transfer</td>\n",
              "      <td>Spayed Female</td>\n",
              "    </tr>\n",
              "    <tr>\n",
              "      <th>2</th>\n",
              "      <td>1 year</td>\n",
              "      <td>A675708</td>\n",
              "      <td>Dog</td>\n",
              "      <td>Pit Bull</td>\n",
              "      <td>Blue/White</td>\n",
              "      <td>2013-03-31T00:00:00</td>\n",
              "      <td>2014-06-03T14:20:00</td>\n",
              "      <td>2014-06-03T14:20:00</td>\n",
              "      <td>*Johnny</td>\n",
              "      <td>NaN</td>\n",
              "      <td>Adoption</td>\n",
              "      <td>Neutered Male</td>\n",
              "    </tr>\n",
              "    <tr>\n",
              "      <th>3</th>\n",
              "      <td>9 years</td>\n",
              "      <td>A680386</td>\n",
              "      <td>Dog</td>\n",
              "      <td>Miniature Schnauzer Mix</td>\n",
              "      <td>White</td>\n",
              "      <td>2005-06-02T00:00:00</td>\n",
              "      <td>2014-06-15T15:50:00</td>\n",
              "      <td>2014-06-15T15:50:00</td>\n",
              "      <td>Monday</td>\n",
              "      <td>Partner</td>\n",
              "      <td>Transfer</td>\n",
              "      <td>Neutered Male</td>\n",
              "    </tr>\n",
              "    <tr>\n",
              "      <th>4</th>\n",
              "      <td>5 months</td>\n",
              "      <td>A683115</td>\n",
              "      <td>Other</td>\n",
              "      <td>Bat Mix</td>\n",
              "      <td>Brown</td>\n",
              "      <td>2014-01-07T00:00:00</td>\n",
              "      <td>2014-07-07T14:04:00</td>\n",
              "      <td>2014-07-07T14:04:00</td>\n",
              "      <td>NaN</td>\n",
              "      <td>Rabies Risk</td>\n",
              "      <td>Euthanasia</td>\n",
              "      <td>Unknown</td>\n",
              "    </tr>\n",
              "  </tbody>\n",
              "</table>\n",
              "</div>"
            ],
            "text/plain": [
              "  age_upon_outcome animal_id  ... outcome_type sex_upon_outcome\n",
              "0          2 weeks   A684346  ...     Transfer      Intact Male\n",
              "1           1 year   A666430  ...     Transfer    Spayed Female\n",
              "2           1 year   A675708  ...     Adoption    Neutered Male\n",
              "3          9 years   A680386  ...     Transfer    Neutered Male\n",
              "4         5 months   A683115  ...   Euthanasia          Unknown\n",
              "\n",
              "[5 rows x 12 columns]"
            ]
          },
          "metadata": {
            "tags": []
          },
          "execution_count": 287
        }
      ]
    },
    {
      "cell_type": "code",
      "metadata": {
        "id": "gyfClZI3EUyA",
        "colab_type": "code",
        "outputId": "07c9d5f8-3a38-4e82-c671-d069c3995de0",
        "colab": {
          "base_uri": "https://localhost:8080/",
          "height": 228
        }
      },
      "source": [
        "shelterdf.dtypes"
      ],
      "execution_count": 288,
      "outputs": [
        {
          "output_type": "execute_result",
          "data": {
            "text/plain": [
              "age_upon_outcome    object\n",
              "animal_id           object\n",
              "animal_type         object\n",
              "breed               object\n",
              "color               object\n",
              "date_of_birth       object\n",
              "datetime            object\n",
              "monthyear           object\n",
              "name                object\n",
              "outcome_subtype     object\n",
              "outcome_type        object\n",
              "sex_upon_outcome    object\n",
              "dtype: object"
            ]
          },
          "metadata": {
            "tags": []
          },
          "execution_count": 288
        }
      ]
    },
    {
      "cell_type": "markdown",
      "metadata": {
        "id": "J0Yrf0XYCfAV",
        "colab_type": "text"
      },
      "source": [
        "I'll start with some EDA to visualize the data. I'll make a histogram. \n",
        "(When I initially tried histograms, I was getting errors due to the dtype: object so I changed them to strings.)"
      ]
    },
    {
      "cell_type": "code",
      "metadata": {
        "id": "A-r2UaCjFfPb",
        "colab_type": "code",
        "colab": {}
      },
      "source": [
        "shelterdf['outcome_type'] = shelterdf['outcome_type'].astype('str') # converts the column to string\n",
        "shelterdf['animal_type'] = shelterdf['animal_type'].astype('str') # converts the column to string"
      ],
      "execution_count": 0,
      "outputs": []
    },
    {
      "cell_type": "code",
      "metadata": {
        "id": "hJLQ45ZwCd-_",
        "colab_type": "code",
        "outputId": "46bdd869-e05d-4c69-a7a0-2dd7c9661739",
        "colab": {
          "base_uri": "https://localhost:8080/",
          "height": 285
        }
      },
      "source": [
        "sns.set()\n",
        "_ = plt.hist(shelterdf['animal_type'])\n",
        "_ = plt.xlabel('Animal Type')\n",
        "_ = plt.ylabel('Number of Cases')\n",
        "plt.show()"
      ],
      "execution_count": 290,
      "outputs": [
        {
          "output_type": "display_data",
          "data": {
            "image/png": "[encoded data removed]",
            "text/plain": [
              "<Figure size 432x288 with 1 Axes>"
            ]
          },
          "metadata": {
            "tags": []
          }
        }
      ]
    },
    {
      "cell_type": "markdown",
      "metadata": {
        "id": "gEaph5TKD8dd",
        "colab_type": "text"
      },
      "source": [
        "The histogram shows the highest number of animals processed at the shelter are dogs."
      ]
    },
    {
      "cell_type": "code",
      "metadata": {
        "id": "DzbvS6f6CjoO",
        "colab_type": "code",
        "colab": {
          "base_uri": "https://localhost:8080/",
          "height": 285
        },
        "outputId": "8b09d2ee-1c0c-45f3-9582-3c59610cfbf8"
      },
      "source": [
        "_ = plt.hist(shelterdf['outcome_type'])\n",
        "_ = plt.xlabel('Outcome Type')\n",
        "_ = plt.ylabel('Number of Cases')\n",
        "plt.show()"
      ],
      "execution_count": 291,
      "outputs": [
        {
          "output_type": "display_data",
          "data": {
            "image/png": "[encoded data removed]",
            "text/plain": [
              "<Figure size 432x288 with 1 Axes>"
            ]
          },
          "metadata": {
            "tags": []
          }
        }
      ]
    },
    {
      "cell_type": "markdown",
      "metadata": {
        "id": "UhSFIC5PA_pq",
        "colab_type": "text"
      },
      "source": [
        "This histogram is too crowded but the highest counts are Adoption, Transfer, Return to Owner, and Euthanasia, respectively. "
      ]
    },
    {
      "cell_type": "code",
      "metadata": {
        "id": "VfTJvyhLF5Jb",
        "colab_type": "code",
        "colab": {}
      },
      "source": [
        "# Choose the outcomes I want to look at more closely and assign them to a variable called \"options\".\n",
        "options = ['Adoption', 'Transfer', 'Return to Owner', 'Euthanasia']"
      ],
      "execution_count": 0,
      "outputs": []
    },
    {
      "cell_type": "code",
      "metadata": {
        "id": "Zn4yRV5XJI-c",
        "colab_type": "code",
        "colab": {}
      },
      "source": [
        "shelterbyoutcomedf = shelterdf[shelterdf['outcome_type'].isin(options)] \n",
        "# This chooses only the 4 outcomes with the highest frequency so that my histogram will display better."
      ],
      "execution_count": 0,
      "outputs": []
    },
    {
      "cell_type": "code",
      "metadata": {
        "id": "o0w5gw2ZJjs6",
        "colab_type": "code",
        "colab": {
          "base_uri": "https://localhost:8080/",
          "height": 285
        },
        "outputId": "4d8e3347-ba4a-48bf-8ff3-4445c47911f9"
      },
      "source": [
        "_ = plt.hist(shelterbyoutcomedf['outcome_type'])\n",
        "_ = plt.xlabel('Outcome Type')\n",
        "_ = plt.ylabel('Number of Cases')\n",
        "plt.show()"
      ],
      "execution_count": 294,
      "outputs": [
        {
          "output_type": "display_data",
          "data": {
            "image/png": "[encoded data removed]",
            "text/plain": [
              "<Figure size 432x288 with 1 Axes>"
            ]
          },
          "metadata": {
            "tags": []
          }
        }
      ]
    },
    {
      "cell_type": "markdown",
      "metadata": {
        "id": "7lFjcfXJJ-jr",
        "colab_type": "text"
      },
      "source": [
        "Now I can prepare the data for a deeper analysis. I'll create a new variable \"age\" from the (datetime - date of birth). This will be in the units \"days\". Adding the map & lambda functions clear the timestamp so it is an integer."
      ]
    },
    {
      "cell_type": "markdown",
      "metadata": {
        "id": "fJEH02CG6dsV",
        "colab_type": "text"
      },
      "source": [
        "The **map** function has 2 arguments: map (func, seq) where the function applies to all the elements of the sequence. It returns a new list with the elements that have been changed by the function."
      ]
    },
    {
      "cell_type": "markdown",
      "metadata": {
        "id": "mhX2B8Ik6gSq",
        "colab_type": "text"
      },
      "source": [
        "The **lambda** function creates a function without a name so it is only used where it is created. Programmers like to use the lambda function with other functions like map, filter, or reduce. "
      ]
    },
    {
      "cell_type": "code",
      "metadata": {
        "id": "7mi4733QzbcQ",
        "colab_type": "code",
        "colab": {}
      },
      "source": [
        "shelterdf = shelterdf.assign(age=(pd.to_datetime(shelterdf['datetime']) - pd.to_datetime(shelterdf['date_of_birth'])).map(lambda v: v.days))\n",
        "# This uses the age as the datetime minus the DOB, in days, and creates the variable age as an integer. (This retrieves the number of days from the datetime object.)"
      ],
      "execution_count": 0,
      "outputs": []
    },
    {
      "cell_type": "code",
      "metadata": {
        "id": "wVxASFay0gWn",
        "colab_type": "code",
        "outputId": "2caaabb1-7fe8-42f6-b9fd-e55b2604c6f4",
        "colab": {
          "base_uri": "https://localhost:8080/",
          "height": 245
        }
      },
      "source": [
        "shelterdf.dtypes"
      ],
      "execution_count": 296,
      "outputs": [
        {
          "output_type": "execute_result",
          "data": {
            "text/plain": [
              "age_upon_outcome    object\n",
              "animal_id           object\n",
              "animal_type         object\n",
              "breed               object\n",
              "color               object\n",
              "date_of_birth       object\n",
              "datetime            object\n",
              "monthyear           object\n",
              "name                object\n",
              "outcome_subtype     object\n",
              "outcome_type        object\n",
              "sex_upon_outcome    object\n",
              "age                  int64\n",
              "dtype: object"
            ]
          },
          "metadata": {
            "tags": []
          },
          "execution_count": 296
        }
      ]
    },
    {
      "cell_type": "code",
      "metadata": {
        "id": "YQmDb5CVegLj",
        "colab_type": "code",
        "colab": {
          "base_uri": "https://localhost:8080/",
          "height": 66
        },
        "outputId": "d0a04c44-87e0-4a29-9580-815e07f0d3f0"
      },
      "source": [
        "shelterdf.outcome_type.unique()"
      ],
      "execution_count": 330,
      "outputs": [
        {
          "output_type": "execute_result",
          "data": {
            "text/plain": [
              "array(['Transfer', 'Adoption', 'Euthanasia', 'Return to Owner', 'Died',\n",
              "       'Disposal', 'Relocate', 'Missing', 'nan', 'Rto-Adopt'],\n",
              "      dtype=object)"
            ]
          },
          "metadata": {
            "tags": []
          },
          "execution_count": 330
        }
      ]
    },
    {
      "cell_type": "code",
      "metadata": {
        "id": "p5wQjKEjwHnH",
        "colab_type": "code",
        "outputId": "d67b4242-6b54-42df-ed8f-6c66a798cfaf",
        "colab": {
          "base_uri": "https://localhost:8080/",
          "height": 363
        }
      },
      "source": [
        "shelterdf.describe(include='all')"
      ],
      "execution_count": 297,
      "outputs": [
        {
          "output_type": "execute_result",
          "data": {
            "text/html": [
              "<div>\n",
              "<style scoped>\n",
              "    .dataframe tbody tr th:only-of-type {\n",
              "        vertical-align: middle;\n",
              "    }\n",
              "\n",
              "    .dataframe tbody tr th {\n",
              "        vertical-align: top;\n",
              "    }\n",
              "\n",
              "    .dataframe thead th {\n",
              "        text-align: right;\n",
              "    }\n",
              "</style>\n",
              "<table border=\"1\" class=\"dataframe\">\n",
              "  <thead>\n",
              "    <tr style=\"text-align: right;\">\n",
              "      <th></th>\n",
              "      <th>age_upon_outcome</th>\n",
              "      <th>animal_id</th>\n",
              "      <th>animal_type</th>\n",
              "      <th>breed</th>\n",
              "      <th>color</th>\n",
              "      <th>date_of_birth</th>\n",
              "      <th>datetime</th>\n",
              "      <th>monthyear</th>\n",
              "      <th>name</th>\n",
              "      <th>outcome_subtype</th>\n",
              "      <th>outcome_type</th>\n",
              "      <th>sex_upon_outcome</th>\n",
              "      <th>age</th>\n",
              "    </tr>\n",
              "  </thead>\n",
              "  <tbody>\n",
              "    <tr>\n",
              "      <th>count</th>\n",
              "      <td>78248</td>\n",
              "      <td>78256</td>\n",
              "      <td>78256</td>\n",
              "      <td>78256</td>\n",
              "      <td>78256</td>\n",
              "      <td>78256</td>\n",
              "      <td>78256</td>\n",
              "      <td>78256</td>\n",
              "      <td>54370</td>\n",
              "      <td>35963</td>\n",
              "      <td>78256</td>\n",
              "      <td>78254</td>\n",
              "      <td>78256.000000</td>\n",
              "    </tr>\n",
              "    <tr>\n",
              "      <th>unique</th>\n",
              "      <td>46</td>\n",
              "      <td>70855</td>\n",
              "      <td>5</td>\n",
              "      <td>2128</td>\n",
              "      <td>525</td>\n",
              "      <td>5869</td>\n",
              "      <td>64361</td>\n",
              "      <td>64361</td>\n",
              "      <td>14574</td>\n",
              "      <td>19</td>\n",
              "      <td>10</td>\n",
              "      <td>5</td>\n",
              "      <td>NaN</td>\n",
              "    </tr>\n",
              "    <tr>\n",
              "      <th>top</th>\n",
              "      <td>1 year</td>\n",
              "      <td>A706536</td>\n",
              "      <td>Dog</td>\n",
              "      <td>Domestic Shorthair Mix</td>\n",
              "      <td>Black/White</td>\n",
              "      <td>2014-05-05T00:00:00</td>\n",
              "      <td>2016-04-18T00:00:00</td>\n",
              "      <td>2016-04-18T00:00:00</td>\n",
              "      <td>Bella</td>\n",
              "      <td>Partner</td>\n",
              "      <td>Adoption</td>\n",
              "      <td>Neutered Male</td>\n",
              "      <td>NaN</td>\n",
              "    </tr>\n",
              "    <tr>\n",
              "      <th>freq</th>\n",
              "      <td>14355</td>\n",
              "      <td>11</td>\n",
              "      <td>44242</td>\n",
              "      <td>23335</td>\n",
              "      <td>8153</td>\n",
              "      <td>112</td>\n",
              "      <td>39</td>\n",
              "      <td>39</td>\n",
              "      <td>344</td>\n",
              "      <td>19660</td>\n",
              "      <td>33112</td>\n",
              "      <td>27784</td>\n",
              "      <td>NaN</td>\n",
              "    </tr>\n",
              "    <tr>\n",
              "      <th>mean</th>\n",
              "      <td>NaN</td>\n",
              "      <td>NaN</td>\n",
              "      <td>NaN</td>\n",
              "      <td>NaN</td>\n",
              "      <td>NaN</td>\n",
              "      <td>NaN</td>\n",
              "      <td>NaN</td>\n",
              "      <td>NaN</td>\n",
              "      <td>NaN</td>\n",
              "      <td>NaN</td>\n",
              "      <td>NaN</td>\n",
              "      <td>NaN</td>\n",
              "      <td>817.034822</td>\n",
              "    </tr>\n",
              "    <tr>\n",
              "      <th>std</th>\n",
              "      <td>NaN</td>\n",
              "      <td>NaN</td>\n",
              "      <td>NaN</td>\n",
              "      <td>NaN</td>\n",
              "      <td>NaN</td>\n",
              "      <td>NaN</td>\n",
              "      <td>NaN</td>\n",
              "      <td>NaN</td>\n",
              "      <td>NaN</td>\n",
              "      <td>NaN</td>\n",
              "      <td>NaN</td>\n",
              "      <td>NaN</td>\n",
              "      <td>1077.098289</td>\n",
              "    </tr>\n",
              "    <tr>\n",
              "      <th>min</th>\n",
              "      <td>NaN</td>\n",
              "      <td>NaN</td>\n",
              "      <td>NaN</td>\n",
              "      <td>NaN</td>\n",
              "      <td>NaN</td>\n",
              "      <td>NaN</td>\n",
              "      <td>NaN</td>\n",
              "      <td>NaN</td>\n",
              "      <td>NaN</td>\n",
              "      <td>NaN</td>\n",
              "      <td>NaN</td>\n",
              "      <td>NaN</td>\n",
              "      <td>-123.000000</td>\n",
              "    </tr>\n",
              "    <tr>\n",
              "      <th>25%</th>\n",
              "      <td>NaN</td>\n",
              "      <td>NaN</td>\n",
              "      <td>NaN</td>\n",
              "      <td>NaN</td>\n",
              "      <td>NaN</td>\n",
              "      <td>NaN</td>\n",
              "      <td>NaN</td>\n",
              "      <td>NaN</td>\n",
              "      <td>NaN</td>\n",
              "      <td>NaN</td>\n",
              "      <td>NaN</td>\n",
              "      <td>NaN</td>\n",
              "      <td>95.000000</td>\n",
              "    </tr>\n",
              "    <tr>\n",
              "      <th>50%</th>\n",
              "      <td>NaN</td>\n",
              "      <td>NaN</td>\n",
              "      <td>NaN</td>\n",
              "      <td>NaN</td>\n",
              "      <td>NaN</td>\n",
              "      <td>NaN</td>\n",
              "      <td>NaN</td>\n",
              "      <td>NaN</td>\n",
              "      <td>NaN</td>\n",
              "      <td>NaN</td>\n",
              "      <td>NaN</td>\n",
              "      <td>NaN</td>\n",
              "      <td>371.000000</td>\n",
              "    </tr>\n",
              "    <tr>\n",
              "      <th>75%</th>\n",
              "      <td>NaN</td>\n",
              "      <td>NaN</td>\n",
              "      <td>NaN</td>\n",
              "      <td>NaN</td>\n",
              "      <td>NaN</td>\n",
              "      <td>NaN</td>\n",
              "      <td>NaN</td>\n",
              "      <td>NaN</td>\n",
              "      <td>NaN</td>\n",
              "      <td>NaN</td>\n",
              "      <td>NaN</td>\n",
              "      <td>NaN</td>\n",
              "      <td>1096.000000</td>\n",
              "    </tr>\n",
              "    <tr>\n",
              "      <th>max</th>\n",
              "      <td>NaN</td>\n",
              "      <td>NaN</td>\n",
              "      <td>NaN</td>\n",
              "      <td>NaN</td>\n",
              "      <td>NaN</td>\n",
              "      <td>NaN</td>\n",
              "      <td>NaN</td>\n",
              "      <td>NaN</td>\n",
              "      <td>NaN</td>\n",
              "      <td>NaN</td>\n",
              "      <td>NaN</td>\n",
              "      <td>NaN</td>\n",
              "      <td>9137.000000</td>\n",
              "    </tr>\n",
              "  </tbody>\n",
              "</table>\n",
              "</div>"
            ],
            "text/plain": [
              "       age_upon_outcome animal_id  ... sex_upon_outcome           age\n",
              "count             78248     78256  ...            78254  78256.000000\n",
              "unique               46     70855  ...                5           NaN\n",
              "top              1 year   A706536  ...    Neutered Male           NaN\n",
              "freq              14355        11  ...            27784           NaN\n",
              "mean                NaN       NaN  ...              NaN    817.034822\n",
              "std                 NaN       NaN  ...              NaN   1077.098289\n",
              "min                 NaN       NaN  ...              NaN   -123.000000\n",
              "25%                 NaN       NaN  ...              NaN     95.000000\n",
              "50%                 NaN       NaN  ...              NaN    371.000000\n",
              "75%                 NaN       NaN  ...              NaN   1096.000000\n",
              "max                 NaN       NaN  ...              NaN   9137.000000\n",
              "\n",
              "[11 rows x 13 columns]"
            ]
          },
          "metadata": {
            "tags": []
          },
          "execution_count": 297
        }
      ]
    },
    {
      "cell_type": "code",
      "metadata": {
        "id": "7zsLnArZuuqO",
        "colab_type": "code",
        "outputId": "01db9ab9-9522-46ee-83dd-dcd0c32d3530",
        "colab": {
          "base_uri": "https://localhost:8080/",
          "height": 33
        }
      },
      "source": [
        "# select the features of interest \n",
        "shortshelterdf = (shelterdf.loc[:,['animal_type','breed','color','sex_upon_outcome','age']])\n",
        "shortshelterdf.shape"
      ],
      "execution_count": 298,
      "outputs": [
        {
          "output_type": "execute_result",
          "data": {
            "text/plain": [
              "(78256, 5)"
            ]
          },
          "metadata": {
            "tags": []
          },
          "execution_count": 298
        }
      ]
    },
    {
      "cell_type": "markdown",
      "metadata": {
        "id": "buvl2stfK8Rb",
        "colab_type": "text"
      },
      "source": [
        "I'll focus on these variables for the decision tree to see what features lead to an adoption outcome."
      ]
    },
    {
      "cell_type": "code",
      "metadata": {
        "id": "ICGrlcGo2Bon",
        "colab_type": "code",
        "outputId": "6eb56868-320a-4336-a20f-536c995d78ed",
        "colab": {
          "base_uri": "https://localhost:8080/",
          "height": 191
        }
      },
      "source": [
        "shortshelterdf.head() # the age is listed in days"
      ],
      "execution_count": 299,
      "outputs": [
        {
          "output_type": "execute_result",
          "data": {
            "text/html": [
              "<div>\n",
              "<style scoped>\n",
              "    .dataframe tbody tr th:only-of-type {\n",
              "        vertical-align: middle;\n",
              "    }\n",
              "\n",
              "    .dataframe tbody tr th {\n",
              "        vertical-align: top;\n",
              "    }\n",
              "\n",
              "    .dataframe thead th {\n",
              "        text-align: right;\n",
              "    }\n",
              "</style>\n",
              "<table border=\"1\" class=\"dataframe\">\n",
              "  <thead>\n",
              "    <tr style=\"text-align: right;\">\n",
              "      <th></th>\n",
              "      <th>animal_type</th>\n",
              "      <th>breed</th>\n",
              "      <th>color</th>\n",
              "      <th>sex_upon_outcome</th>\n",
              "      <th>age</th>\n",
              "    </tr>\n",
              "  </thead>\n",
              "  <tbody>\n",
              "    <tr>\n",
              "      <th>0</th>\n",
              "      <td>Cat</td>\n",
              "      <td>Domestic Shorthair Mix</td>\n",
              "      <td>Orange Tabby</td>\n",
              "      <td>Intact Male</td>\n",
              "      <td>15</td>\n",
              "    </tr>\n",
              "    <tr>\n",
              "      <th>1</th>\n",
              "      <td>Dog</td>\n",
              "      <td>Beagle Mix</td>\n",
              "      <td>White/Brown</td>\n",
              "      <td>Spayed Female</td>\n",
              "      <td>366</td>\n",
              "    </tr>\n",
              "    <tr>\n",
              "      <th>2</th>\n",
              "      <td>Dog</td>\n",
              "      <td>Pit Bull</td>\n",
              "      <td>Blue/White</td>\n",
              "      <td>Neutered Male</td>\n",
              "      <td>429</td>\n",
              "    </tr>\n",
              "    <tr>\n",
              "      <th>3</th>\n",
              "      <td>Dog</td>\n",
              "      <td>Miniature Schnauzer Mix</td>\n",
              "      <td>White</td>\n",
              "      <td>Neutered Male</td>\n",
              "      <td>3300</td>\n",
              "    </tr>\n",
              "    <tr>\n",
              "      <th>4</th>\n",
              "      <td>Other</td>\n",
              "      <td>Bat Mix</td>\n",
              "      <td>Brown</td>\n",
              "      <td>Unknown</td>\n",
              "      <td>181</td>\n",
              "    </tr>\n",
              "  </tbody>\n",
              "</table>\n",
              "</div>"
            ],
            "text/plain": [
              "  animal_type                    breed         color sex_upon_outcome   age\n",
              "0         Cat   Domestic Shorthair Mix  Orange Tabby      Intact Male    15\n",
              "1         Dog               Beagle Mix   White/Brown    Spayed Female   366\n",
              "2         Dog                 Pit Bull    Blue/White    Neutered Male   429\n",
              "3         Dog  Miniature Schnauzer Mix         White    Neutered Male  3300\n",
              "4       Other                  Bat Mix         Brown          Unknown   181"
            ]
          },
          "metadata": {
            "tags": []
          },
          "execution_count": 299
        }
      ]
    },
    {
      "cell_type": "markdown",
      "metadata": {
        "id": "mg6ctwLxtBtO",
        "colab_type": "text"
      },
      "source": [
        "The decision tree classifier will look for an integer (not an object) so we have to use a pandas function called \"get_dummies\" to change the categorical variables into a dummy or indicator variable (1 or 0, True or False). "
      ]
    },
    {
      "cell_type": "markdown",
      "metadata": {
        "id": "eofyV_puvUPw",
        "colab_type": "text"
      },
      "source": [
        "Converting the dataframe this way also flips it wide versus long."
      ]
    },
    {
      "cell_type": "markdown",
      "metadata": {
        "id": "mSusSKlUwNu6",
        "colab_type": "text"
      },
      "source": [
        "Since the age is listed in days, I can convert this to years by dividing by 365. "
      ]
    },
    {
      "cell_type": "code",
      "metadata": {
        "id": "1uWaoEkBsUak",
        "colab_type": "code",
        "colab": {}
      },
      "source": [
        "shortshelterdummiesdf = pd.get_dummies(shortshelterdf[['animal_type','breed','color','sex_upon_outcome']]).assign(age=shortshelterdf['age'] / 365)"
      ],
      "execution_count": 0,
      "outputs": []
    },
    {
      "cell_type": "code",
      "metadata": {
        "id": "N0W33F1BvMnz",
        "colab_type": "code",
        "outputId": "7c62d328-503e-48ae-f515-d078ef3a8baa",
        "colab": {
          "base_uri": "https://localhost:8080/",
          "height": 271
        }
      },
      "source": [
        "shortshelterdummiesdf.head()"
      ],
      "execution_count": 301,
      "outputs": [
        {
          "output_type": "execute_result",
          "data": {
            "text/html": [
              "<div>\n",
              "<style scoped>\n",
              "    .dataframe tbody tr th:only-of-type {\n",
              "        vertical-align: middle;\n",
              "    }\n",
              "\n",
              "    .dataframe tbody tr th {\n",
              "        vertical-align: top;\n",
              "    }\n",
              "\n",
              "    .dataframe thead th {\n",
              "        text-align: right;\n",
              "    }\n",
              "</style>\n",
              "<table border=\"1\" class=\"dataframe\">\n",
              "  <thead>\n",
              "    <tr style=\"text-align: right;\">\n",
              "      <th></th>\n",
              "      <th>animal_type_Bird</th>\n",
              "      <th>animal_type_Cat</th>\n",
              "      <th>animal_type_Dog</th>\n",
              "      <th>animal_type_Livestock</th>\n",
              "      <th>animal_type_Other</th>\n",
              "      <th>breed_Abyssinian Mix</th>\n",
              "      <th>breed_Affenpinscher Mix</th>\n",
              "      <th>breed_Afghan Hound Mix</th>\n",
              "      <th>breed_Afghan Hound/Labrador Retriever</th>\n",
              "      <th>breed_African Mix</th>\n",
              "      <th>breed_Airedale Terrier</th>\n",
              "      <th>breed_Airedale Terrier Mix</th>\n",
              "      <th>breed_Airedale Terrier/Irish Terrier</th>\n",
              "      <th>breed_Airedale Terrier/Labrador Retriever</th>\n",
              "      <th>breed_Airedale Terrier/Miniature Schnauzer</th>\n",
              "      <th>breed_Akbash Mix</th>\n",
              "      <th>breed_Akita</th>\n",
              "      <th>breed_Akita Mix</th>\n",
              "      <th>breed_Akita/Australian Cattle Dog</th>\n",
              "      <th>breed_Akita/Belgian Malinois</th>\n",
              "      <th>breed_Akita/Border Collie</th>\n",
              "      <th>breed_Akita/Chow Chow</th>\n",
              "      <th>breed_Akita/German Shepherd</th>\n",
              "      <th>breed_Akita/Great Pyrenees</th>\n",
              "      <th>breed_Akita/Labrador Retriever</th>\n",
              "      <th>breed_Akita/Mastiff</th>\n",
              "      <th>breed_Akita/Pit Bull</th>\n",
              "      <th>breed_Akita/Siberian Husky</th>\n",
              "      <th>breed_Alaskan Husky</th>\n",
              "      <th>breed_Alaskan Husky Mix</th>\n",
              "      <th>breed_Alaskan Husky/Australian Shepherd</th>\n",
              "      <th>breed_Alaskan Husky/Border Collie</th>\n",
              "      <th>breed_Alaskan Husky/German Shepherd</th>\n",
              "      <th>breed_Alaskan Husky/Labrador Retriever</th>\n",
              "      <th>breed_Alaskan Malamute</th>\n",
              "      <th>breed_Alaskan Malamute Mix</th>\n",
              "      <th>breed_Alaskan Malamute/Akita</th>\n",
              "      <th>breed_Alaskan Malamute/Alaskan Husky</th>\n",
              "      <th>breed_Alaskan Malamute/Australian Kelpie</th>\n",
              "      <th>breed_Alaskan Malamute/Border Collie</th>\n",
              "      <th>...</th>\n",
              "      <th>color_White/Gray Tiger</th>\n",
              "      <th>color_White/Green</th>\n",
              "      <th>color_White/Lilac Point</th>\n",
              "      <th>color_White/Liver</th>\n",
              "      <th>color_White/Liver Tick</th>\n",
              "      <th>color_White/Lynx Point</th>\n",
              "      <th>color_White/Orange</th>\n",
              "      <th>color_White/Orange Tabby</th>\n",
              "      <th>color_White/Pink</th>\n",
              "      <th>color_White/Red</th>\n",
              "      <th>color_White/Red Merle</th>\n",
              "      <th>color_White/Red Tick</th>\n",
              "      <th>color_White/Seal Point</th>\n",
              "      <th>color_White/Silver</th>\n",
              "      <th>color_White/Silver Tabby</th>\n",
              "      <th>color_White/Tan</th>\n",
              "      <th>color_White/Tortie</th>\n",
              "      <th>color_White/Tricolor</th>\n",
              "      <th>color_White/White</th>\n",
              "      <th>color_White/Yellow</th>\n",
              "      <th>color_White/Yellow Brindle</th>\n",
              "      <th>color_Yellow</th>\n",
              "      <th>color_Yellow Brindle</th>\n",
              "      <th>color_Yellow Brindle/Blue</th>\n",
              "      <th>color_Yellow Brindle/White</th>\n",
              "      <th>color_Yellow/Black</th>\n",
              "      <th>color_Yellow/Brown</th>\n",
              "      <th>color_Yellow/Cream</th>\n",
              "      <th>color_Yellow/Gray</th>\n",
              "      <th>color_Yellow/Orange</th>\n",
              "      <th>color_Yellow/Orange Tabby</th>\n",
              "      <th>color_Yellow/Tan</th>\n",
              "      <th>color_Yellow/White</th>\n",
              "      <th>color_Yellow/Yellow</th>\n",
              "      <th>sex_upon_outcome_Intact Female</th>\n",
              "      <th>sex_upon_outcome_Intact Male</th>\n",
              "      <th>sex_upon_outcome_Neutered Male</th>\n",
              "      <th>sex_upon_outcome_Spayed Female</th>\n",
              "      <th>sex_upon_outcome_Unknown</th>\n",
              "      <th>age</th>\n",
              "    </tr>\n",
              "  </thead>\n",
              "  <tbody>\n",
              "    <tr>\n",
              "      <th>0</th>\n",
              "      <td>0</td>\n",
              "      <td>1</td>\n",
              "      <td>0</td>\n",
              "      <td>0</td>\n",
              "      <td>0</td>\n",
              "      <td>0</td>\n",
              "      <td>0</td>\n",
              "      <td>0</td>\n",
              "      <td>0</td>\n",
              "      <td>0</td>\n",
              "      <td>0</td>\n",
              "      <td>0</td>\n",
              "      <td>0</td>\n",
              "      <td>0</td>\n",
              "      <td>0</td>\n",
              "      <td>0</td>\n",
              "      <td>0</td>\n",
              "      <td>0</td>\n",
              "      <td>0</td>\n",
              "      <td>0</td>\n",
              "      <td>0</td>\n",
              "      <td>0</td>\n",
              "      <td>0</td>\n",
              "      <td>0</td>\n",
              "      <td>0</td>\n",
              "      <td>0</td>\n",
              "      <td>0</td>\n",
              "      <td>0</td>\n",
              "      <td>0</td>\n",
              "      <td>0</td>\n",
              "      <td>0</td>\n",
              "      <td>0</td>\n",
              "      <td>0</td>\n",
              "      <td>0</td>\n",
              "      <td>0</td>\n",
              "      <td>0</td>\n",
              "      <td>0</td>\n",
              "      <td>0</td>\n",
              "      <td>0</td>\n",
              "      <td>0</td>\n",
              "      <td>...</td>\n",
              "      <td>0</td>\n",
              "      <td>0</td>\n",
              "      <td>0</td>\n",
              "      <td>0</td>\n",
              "      <td>0</td>\n",
              "      <td>0</td>\n",
              "      <td>0</td>\n",
              "      <td>0</td>\n",
              "      <td>0</td>\n",
              "      <td>0</td>\n",
              "      <td>0</td>\n",
              "      <td>0</td>\n",
              "      <td>0</td>\n",
              "      <td>0</td>\n",
              "      <td>0</td>\n",
              "      <td>0</td>\n",
              "      <td>0</td>\n",
              "      <td>0</td>\n",
              "      <td>0</td>\n",
              "      <td>0</td>\n",
              "      <td>0</td>\n",
              "      <td>0</td>\n",
              "      <td>0</td>\n",
              "      <td>0</td>\n",
              "      <td>0</td>\n",
              "      <td>0</td>\n",
              "      <td>0</td>\n",
              "      <td>0</td>\n",
              "      <td>0</td>\n",
              "      <td>0</td>\n",
              "      <td>0</td>\n",
              "      <td>0</td>\n",
              "      <td>0</td>\n",
              "      <td>0</td>\n",
              "      <td>0</td>\n",
              "      <td>1</td>\n",
              "      <td>0</td>\n",
              "      <td>0</td>\n",
              "      <td>0</td>\n",
              "      <td>0.041096</td>\n",
              "    </tr>\n",
              "    <tr>\n",
              "      <th>1</th>\n",
              "      <td>0</td>\n",
              "      <td>0</td>\n",
              "      <td>1</td>\n",
              "      <td>0</td>\n",
              "      <td>0</td>\n",
              "      <td>0</td>\n",
              "      <td>0</td>\n",
              "      <td>0</td>\n",
              "      <td>0</td>\n",
              "      <td>0</td>\n",
              "      <td>0</td>\n",
              "      <td>0</td>\n",
              "      <td>0</td>\n",
              "      <td>0</td>\n",
              "      <td>0</td>\n",
              "      <td>0</td>\n",
              "      <td>0</td>\n",
              "      <td>0</td>\n",
              "      <td>0</td>\n",
              "      <td>0</td>\n",
              "      <td>0</td>\n",
              "      <td>0</td>\n",
              "      <td>0</td>\n",
              "      <td>0</td>\n",
              "      <td>0</td>\n",
              "      <td>0</td>\n",
              "      <td>0</td>\n",
              "      <td>0</td>\n",
              "      <td>0</td>\n",
              "      <td>0</td>\n",
              "      <td>0</td>\n",
              "      <td>0</td>\n",
              "      <td>0</td>\n",
              "      <td>0</td>\n",
              "      <td>0</td>\n",
              "      <td>0</td>\n",
              "      <td>0</td>\n",
              "      <td>0</td>\n",
              "      <td>0</td>\n",
              "      <td>0</td>\n",
              "      <td>...</td>\n",
              "      <td>0</td>\n",
              "      <td>0</td>\n",
              "      <td>0</td>\n",
              "      <td>0</td>\n",
              "      <td>0</td>\n",
              "      <td>0</td>\n",
              "      <td>0</td>\n",
              "      <td>0</td>\n",
              "      <td>0</td>\n",
              "      <td>0</td>\n",
              "      <td>0</td>\n",
              "      <td>0</td>\n",
              "      <td>0</td>\n",
              "      <td>0</td>\n",
              "      <td>0</td>\n",
              "      <td>0</td>\n",
              "      <td>0</td>\n",
              "      <td>0</td>\n",
              "      <td>0</td>\n",
              "      <td>0</td>\n",
              "      <td>0</td>\n",
              "      <td>0</td>\n",
              "      <td>0</td>\n",
              "      <td>0</td>\n",
              "      <td>0</td>\n",
              "      <td>0</td>\n",
              "      <td>0</td>\n",
              "      <td>0</td>\n",
              "      <td>0</td>\n",
              "      <td>0</td>\n",
              "      <td>0</td>\n",
              "      <td>0</td>\n",
              "      <td>0</td>\n",
              "      <td>0</td>\n",
              "      <td>0</td>\n",
              "      <td>0</td>\n",
              "      <td>0</td>\n",
              "      <td>1</td>\n",
              "      <td>0</td>\n",
              "      <td>1.002740</td>\n",
              "    </tr>\n",
              "    <tr>\n",
              "      <th>2</th>\n",
              "      <td>0</td>\n",
              "      <td>0</td>\n",
              "      <td>1</td>\n",
              "      <td>0</td>\n",
              "      <td>0</td>\n",
              "      <td>0</td>\n",
              "      <td>0</td>\n",
              "      <td>0</td>\n",
              "      <td>0</td>\n",
              "      <td>0</td>\n",
              "      <td>0</td>\n",
              "      <td>0</td>\n",
              "      <td>0</td>\n",
              "      <td>0</td>\n",
              "      <td>0</td>\n",
              "      <td>0</td>\n",
              "      <td>0</td>\n",
              "      <td>0</td>\n",
              "      <td>0</td>\n",
              "      <td>0</td>\n",
              "      <td>0</td>\n",
              "      <td>0</td>\n",
              "      <td>0</td>\n",
              "      <td>0</td>\n",
              "      <td>0</td>\n",
              "      <td>0</td>\n",
              "      <td>0</td>\n",
              "      <td>0</td>\n",
              "      <td>0</td>\n",
              "      <td>0</td>\n",
              "      <td>0</td>\n",
              "      <td>0</td>\n",
              "      <td>0</td>\n",
              "      <td>0</td>\n",
              "      <td>0</td>\n",
              "      <td>0</td>\n",
              "      <td>0</td>\n",
              "      <td>0</td>\n",
              "      <td>0</td>\n",
              "      <td>0</td>\n",
              "      <td>...</td>\n",
              "      <td>0</td>\n",
              "      <td>0</td>\n",
              "      <td>0</td>\n",
              "      <td>0</td>\n",
              "      <td>0</td>\n",
              "      <td>0</td>\n",
              "      <td>0</td>\n",
              "      <td>0</td>\n",
              "      <td>0</td>\n",
              "      <td>0</td>\n",
              "      <td>0</td>\n",
              "      <td>0</td>\n",
              "      <td>0</td>\n",
              "      <td>0</td>\n",
              "      <td>0</td>\n",
              "      <td>0</td>\n",
              "      <td>0</td>\n",
              "      <td>0</td>\n",
              "      <td>0</td>\n",
              "      <td>0</td>\n",
              "      <td>0</td>\n",
              "      <td>0</td>\n",
              "      <td>0</td>\n",
              "      <td>0</td>\n",
              "      <td>0</td>\n",
              "      <td>0</td>\n",
              "      <td>0</td>\n",
              "      <td>0</td>\n",
              "      <td>0</td>\n",
              "      <td>0</td>\n",
              "      <td>0</td>\n",
              "      <td>0</td>\n",
              "      <td>0</td>\n",
              "      <td>0</td>\n",
              "      <td>0</td>\n",
              "      <td>0</td>\n",
              "      <td>1</td>\n",
              "      <td>0</td>\n",
              "      <td>0</td>\n",
              "      <td>1.175342</td>\n",
              "    </tr>\n",
              "    <tr>\n",
              "      <th>3</th>\n",
              "      <td>0</td>\n",
              "      <td>0</td>\n",
              "      <td>1</td>\n",
              "      <td>0</td>\n",
              "      <td>0</td>\n",
              "      <td>0</td>\n",
              "      <td>0</td>\n",
              "      <td>0</td>\n",
              "      <td>0</td>\n",
              "      <td>0</td>\n",
              "      <td>0</td>\n",
              "      <td>0</td>\n",
              "      <td>0</td>\n",
              "      <td>0</td>\n",
              "      <td>0</td>\n",
              "      <td>0</td>\n",
              "      <td>0</td>\n",
              "      <td>0</td>\n",
              "      <td>0</td>\n",
              "      <td>0</td>\n",
              "      <td>0</td>\n",
              "      <td>0</td>\n",
              "      <td>0</td>\n",
              "      <td>0</td>\n",
              "      <td>0</td>\n",
              "      <td>0</td>\n",
              "      <td>0</td>\n",
              "      <td>0</td>\n",
              "      <td>0</td>\n",
              "      <td>0</td>\n",
              "      <td>0</td>\n",
              "      <td>0</td>\n",
              "      <td>0</td>\n",
              "      <td>0</td>\n",
              "      <td>0</td>\n",
              "      <td>0</td>\n",
              "      <td>0</td>\n",
              "      <td>0</td>\n",
              "      <td>0</td>\n",
              "      <td>0</td>\n",
              "      <td>...</td>\n",
              "      <td>0</td>\n",
              "      <td>0</td>\n",
              "      <td>0</td>\n",
              "      <td>0</td>\n",
              "      <td>0</td>\n",
              "      <td>0</td>\n",
              "      <td>0</td>\n",
              "      <td>0</td>\n",
              "      <td>0</td>\n",
              "      <td>0</td>\n",
              "      <td>0</td>\n",
              "      <td>0</td>\n",
              "      <td>0</td>\n",
              "      <td>0</td>\n",
              "      <td>0</td>\n",
              "      <td>0</td>\n",
              "      <td>0</td>\n",
              "      <td>0</td>\n",
              "      <td>0</td>\n",
              "      <td>0</td>\n",
              "      <td>0</td>\n",
              "      <td>0</td>\n",
              "      <td>0</td>\n",
              "      <td>0</td>\n",
              "      <td>0</td>\n",
              "      <td>0</td>\n",
              "      <td>0</td>\n",
              "      <td>0</td>\n",
              "      <td>0</td>\n",
              "      <td>0</td>\n",
              "      <td>0</td>\n",
              "      <td>0</td>\n",
              "      <td>0</td>\n",
              "      <td>0</td>\n",
              "      <td>0</td>\n",
              "      <td>0</td>\n",
              "      <td>1</td>\n",
              "      <td>0</td>\n",
              "      <td>0</td>\n",
              "      <td>9.041096</td>\n",
              "    </tr>\n",
              "    <tr>\n",
              "      <th>4</th>\n",
              "      <td>0</td>\n",
              "      <td>0</td>\n",
              "      <td>0</td>\n",
              "      <td>0</td>\n",
              "      <td>1</td>\n",
              "      <td>0</td>\n",
              "      <td>0</td>\n",
              "      <td>0</td>\n",
              "      <td>0</td>\n",
              "      <td>0</td>\n",
              "      <td>0</td>\n",
              "      <td>0</td>\n",
              "      <td>0</td>\n",
              "      <td>0</td>\n",
              "      <td>0</td>\n",
              "      <td>0</td>\n",
              "      <td>0</td>\n",
              "      <td>0</td>\n",
              "      <td>0</td>\n",
              "      <td>0</td>\n",
              "      <td>0</td>\n",
              "      <td>0</td>\n",
              "      <td>0</td>\n",
              "      <td>0</td>\n",
              "      <td>0</td>\n",
              "      <td>0</td>\n",
              "      <td>0</td>\n",
              "      <td>0</td>\n",
              "      <td>0</td>\n",
              "      <td>0</td>\n",
              "      <td>0</td>\n",
              "      <td>0</td>\n",
              "      <td>0</td>\n",
              "      <td>0</td>\n",
              "      <td>0</td>\n",
              "      <td>0</td>\n",
              "      <td>0</td>\n",
              "      <td>0</td>\n",
              "      <td>0</td>\n",
              "      <td>0</td>\n",
              "      <td>...</td>\n",
              "      <td>0</td>\n",
              "      <td>0</td>\n",
              "      <td>0</td>\n",
              "      <td>0</td>\n",
              "      <td>0</td>\n",
              "      <td>0</td>\n",
              "      <td>0</td>\n",
              "      <td>0</td>\n",
              "      <td>0</td>\n",
              "      <td>0</td>\n",
              "      <td>0</td>\n",
              "      <td>0</td>\n",
              "      <td>0</td>\n",
              "      <td>0</td>\n",
              "      <td>0</td>\n",
              "      <td>0</td>\n",
              "      <td>0</td>\n",
              "      <td>0</td>\n",
              "      <td>0</td>\n",
              "      <td>0</td>\n",
              "      <td>0</td>\n",
              "      <td>0</td>\n",
              "      <td>0</td>\n",
              "      <td>0</td>\n",
              "      <td>0</td>\n",
              "      <td>0</td>\n",
              "      <td>0</td>\n",
              "      <td>0</td>\n",
              "      <td>0</td>\n",
              "      <td>0</td>\n",
              "      <td>0</td>\n",
              "      <td>0</td>\n",
              "      <td>0</td>\n",
              "      <td>0</td>\n",
              "      <td>0</td>\n",
              "      <td>0</td>\n",
              "      <td>0</td>\n",
              "      <td>0</td>\n",
              "      <td>1</td>\n",
              "      <td>0.495890</td>\n",
              "    </tr>\n",
              "  </tbody>\n",
              "</table>\n",
              "<p>5 rows × 2664 columns</p>\n",
              "</div>"
            ],
            "text/plain": [
              "   animal_type_Bird  animal_type_Cat  ...  sex_upon_outcome_Unknown       age\n",
              "0                 0                1  ...                         0  0.041096\n",
              "1                 0                0  ...                         0  1.002740\n",
              "2                 0                0  ...                         0  1.175342\n",
              "3                 0                0  ...                         0  9.041096\n",
              "4                 0                0  ...                         1  0.495890\n",
              "\n",
              "[5 rows x 2664 columns]"
            ]
          },
          "metadata": {
            "tags": []
          },
          "execution_count": 301
        }
      ]
    },
    {
      "cell_type": "markdown",
      "metadata": {
        "id": "di1HSMgPakWd",
        "colab_type": "text"
      },
      "source": [
        "The functions map and lambda are used in the code below to capture the records that have the outcome type called Adoption, as these are the results we are focusing on. We are using a decision tree to identify the factors (or features) that lead to the outcome called Adoption (as opposed to an outcome of transfer, return to owner, euthanasia, etc.) The code below assigns the y variable as the records with the outcome \"Adoption\". (This is creating the label as true/false, adoption and non-adoption.) "
      ]
    },
    {
      "cell_type": "code",
      "metadata": {
        "id": "CE1ef3-fRC9D",
        "colab_type": "code",
        "colab": {}
      },
      "source": [
        "X = shortshelterdummiesdf\n",
        "# I'll go back to the larger dataframe to pull the outcome type\n",
        "y = shelterdf.outcome_type.map(lambda v: v ==\"Adoption\")"
      ],
      "execution_count": 0,
      "outputs": []
    },
    {
      "cell_type": "code",
      "metadata": {
        "id": "FzZSidL30amB",
        "colab_type": "code",
        "outputId": "3a3be584-3792-421d-94d2-7195f23b43d2",
        "colab": {
          "base_uri": "https://localhost:8080/",
          "height": 271
        }
      },
      "source": [
        "X.head()"
      ],
      "execution_count": 303,
      "outputs": [
        {
          "output_type": "execute_result",
          "data": {
            "text/html": [
              "<div>\n",
              "<style scoped>\n",
              "    .dataframe tbody tr th:only-of-type {\n",
              "        vertical-align: middle;\n",
              "    }\n",
              "\n",
              "    .dataframe tbody tr th {\n",
              "        vertical-align: top;\n",
              "    }\n",
              "\n",
              "    .dataframe thead th {\n",
              "        text-align: right;\n",
              "    }\n",
              "</style>\n",
              "<table border=\"1\" class=\"dataframe\">\n",
              "  <thead>\n",
              "    <tr style=\"text-align: right;\">\n",
              "      <th></th>\n",
              "      <th>animal_type_Bird</th>\n",
              "      <th>animal_type_Cat</th>\n",
              "      <th>animal_type_Dog</th>\n",
              "      <th>animal_type_Livestock</th>\n",
              "      <th>animal_type_Other</th>\n",
              "      <th>breed_Abyssinian Mix</th>\n",
              "      <th>breed_Affenpinscher Mix</th>\n",
              "      <th>breed_Afghan Hound Mix</th>\n",
              "      <th>breed_Afghan Hound/Labrador Retriever</th>\n",
              "      <th>breed_African Mix</th>\n",
              "      <th>breed_Airedale Terrier</th>\n",
              "      <th>breed_Airedale Terrier Mix</th>\n",
              "      <th>breed_Airedale Terrier/Irish Terrier</th>\n",
              "      <th>breed_Airedale Terrier/Labrador Retriever</th>\n",
              "      <th>breed_Airedale Terrier/Miniature Schnauzer</th>\n",
              "      <th>breed_Akbash Mix</th>\n",
              "      <th>breed_Akita</th>\n",
              "      <th>breed_Akita Mix</th>\n",
              "      <th>breed_Akita/Australian Cattle Dog</th>\n",
              "      <th>breed_Akita/Belgian Malinois</th>\n",
              "      <th>breed_Akita/Border Collie</th>\n",
              "      <th>breed_Akita/Chow Chow</th>\n",
              "      <th>breed_Akita/German Shepherd</th>\n",
              "      <th>breed_Akita/Great Pyrenees</th>\n",
              "      <th>breed_Akita/Labrador Retriever</th>\n",
              "      <th>breed_Akita/Mastiff</th>\n",
              "      <th>breed_Akita/Pit Bull</th>\n",
              "      <th>breed_Akita/Siberian Husky</th>\n",
              "      <th>breed_Alaskan Husky</th>\n",
              "      <th>breed_Alaskan Husky Mix</th>\n",
              "      <th>breed_Alaskan Husky/Australian Shepherd</th>\n",
              "      <th>breed_Alaskan Husky/Border Collie</th>\n",
              "      <th>breed_Alaskan Husky/German Shepherd</th>\n",
              "      <th>breed_Alaskan Husky/Labrador Retriever</th>\n",
              "      <th>breed_Alaskan Malamute</th>\n",
              "      <th>breed_Alaskan Malamute Mix</th>\n",
              "      <th>breed_Alaskan Malamute/Akita</th>\n",
              "      <th>breed_Alaskan Malamute/Alaskan Husky</th>\n",
              "      <th>breed_Alaskan Malamute/Australian Kelpie</th>\n",
              "      <th>breed_Alaskan Malamute/Border Collie</th>\n",
              "      <th>...</th>\n",
              "      <th>color_White/Gray Tiger</th>\n",
              "      <th>color_White/Green</th>\n",
              "      <th>color_White/Lilac Point</th>\n",
              "      <th>color_White/Liver</th>\n",
              "      <th>color_White/Liver Tick</th>\n",
              "      <th>color_White/Lynx Point</th>\n",
              "      <th>color_White/Orange</th>\n",
              "      <th>color_White/Orange Tabby</th>\n",
              "      <th>color_White/Pink</th>\n",
              "      <th>color_White/Red</th>\n",
              "      <th>color_White/Red Merle</th>\n",
              "      <th>color_White/Red Tick</th>\n",
              "      <th>color_White/Seal Point</th>\n",
              "      <th>color_White/Silver</th>\n",
              "      <th>color_White/Silver Tabby</th>\n",
              "      <th>color_White/Tan</th>\n",
              "      <th>color_White/Tortie</th>\n",
              "      <th>color_White/Tricolor</th>\n",
              "      <th>color_White/White</th>\n",
              "      <th>color_White/Yellow</th>\n",
              "      <th>color_White/Yellow Brindle</th>\n",
              "      <th>color_Yellow</th>\n",
              "      <th>color_Yellow Brindle</th>\n",
              "      <th>color_Yellow Brindle/Blue</th>\n",
              "      <th>color_Yellow Brindle/White</th>\n",
              "      <th>color_Yellow/Black</th>\n",
              "      <th>color_Yellow/Brown</th>\n",
              "      <th>color_Yellow/Cream</th>\n",
              "      <th>color_Yellow/Gray</th>\n",
              "      <th>color_Yellow/Orange</th>\n",
              "      <th>color_Yellow/Orange Tabby</th>\n",
              "      <th>color_Yellow/Tan</th>\n",
              "      <th>color_Yellow/White</th>\n",
              "      <th>color_Yellow/Yellow</th>\n",
              "      <th>sex_upon_outcome_Intact Female</th>\n",
              "      <th>sex_upon_outcome_Intact Male</th>\n",
              "      <th>sex_upon_outcome_Neutered Male</th>\n",
              "      <th>sex_upon_outcome_Spayed Female</th>\n",
              "      <th>sex_upon_outcome_Unknown</th>\n",
              "      <th>age</th>\n",
              "    </tr>\n",
              "  </thead>\n",
              "  <tbody>\n",
              "    <tr>\n",
              "      <th>0</th>\n",
              "      <td>0</td>\n",
              "      <td>1</td>\n",
              "      <td>0</td>\n",
              "      <td>0</td>\n",
              "      <td>0</td>\n",
              "      <td>0</td>\n",
              "      <td>0</td>\n",
              "      <td>0</td>\n",
              "      <td>0</td>\n",
              "      <td>0</td>\n",
              "      <td>0</td>\n",
              "      <td>0</td>\n",
              "      <td>0</td>\n",
              "      <td>0</td>\n",
              "      <td>0</td>\n",
              "      <td>0</td>\n",
              "      <td>0</td>\n",
              "      <td>0</td>\n",
              "      <td>0</td>\n",
              "      <td>0</td>\n",
              "      <td>0</td>\n",
              "      <td>0</td>\n",
              "      <td>0</td>\n",
              "      <td>0</td>\n",
              "      <td>0</td>\n",
              "      <td>0</td>\n",
              "      <td>0</td>\n",
              "      <td>0</td>\n",
              "      <td>0</td>\n",
              "      <td>0</td>\n",
              "      <td>0</td>\n",
              "      <td>0</td>\n",
              "      <td>0</td>\n",
              "      <td>0</td>\n",
              "      <td>0</td>\n",
              "      <td>0</td>\n",
              "      <td>0</td>\n",
              "      <td>0</td>\n",
              "      <td>0</td>\n",
              "      <td>0</td>\n",
              "      <td>...</td>\n",
              "      <td>0</td>\n",
              "      <td>0</td>\n",
              "      <td>0</td>\n",
              "      <td>0</td>\n",
              "      <td>0</td>\n",
              "      <td>0</td>\n",
              "      <td>0</td>\n",
              "      <td>0</td>\n",
              "      <td>0</td>\n",
              "      <td>0</td>\n",
              "      <td>0</td>\n",
              "      <td>0</td>\n",
              "      <td>0</td>\n",
              "      <td>0</td>\n",
              "      <td>0</td>\n",
              "      <td>0</td>\n",
              "      <td>0</td>\n",
              "      <td>0</td>\n",
              "      <td>0</td>\n",
              "      <td>0</td>\n",
              "      <td>0</td>\n",
              "      <td>0</td>\n",
              "      <td>0</td>\n",
              "      <td>0</td>\n",
              "      <td>0</td>\n",
              "      <td>0</td>\n",
              "      <td>0</td>\n",
              "      <td>0</td>\n",
              "      <td>0</td>\n",
              "      <td>0</td>\n",
              "      <td>0</td>\n",
              "      <td>0</td>\n",
              "      <td>0</td>\n",
              "      <td>0</td>\n",
              "      <td>0</td>\n",
              "      <td>1</td>\n",
              "      <td>0</td>\n",
              "      <td>0</td>\n",
              "      <td>0</td>\n",
              "      <td>0.041096</td>\n",
              "    </tr>\n",
              "    <tr>\n",
              "      <th>1</th>\n",
              "      <td>0</td>\n",
              "      <td>0</td>\n",
              "      <td>1</td>\n",
              "      <td>0</td>\n",
              "      <td>0</td>\n",
              "      <td>0</td>\n",
              "      <td>0</td>\n",
              "      <td>0</td>\n",
              "      <td>0</td>\n",
              "      <td>0</td>\n",
              "      <td>0</td>\n",
              "      <td>0</td>\n",
              "      <td>0</td>\n",
              "      <td>0</td>\n",
              "      <td>0</td>\n",
              "      <td>0</td>\n",
              "      <td>0</td>\n",
              "      <td>0</td>\n",
              "      <td>0</td>\n",
              "      <td>0</td>\n",
              "      <td>0</td>\n",
              "      <td>0</td>\n",
              "      <td>0</td>\n",
              "      <td>0</td>\n",
              "      <td>0</td>\n",
              "      <td>0</td>\n",
              "      <td>0</td>\n",
              "      <td>0</td>\n",
              "      <td>0</td>\n",
              "      <td>0</td>\n",
              "      <td>0</td>\n",
              "      <td>0</td>\n",
              "      <td>0</td>\n",
              "      <td>0</td>\n",
              "      <td>0</td>\n",
              "      <td>0</td>\n",
              "      <td>0</td>\n",
              "      <td>0</td>\n",
              "      <td>0</td>\n",
              "      <td>0</td>\n",
              "      <td>...</td>\n",
              "      <td>0</td>\n",
              "      <td>0</td>\n",
              "      <td>0</td>\n",
              "      <td>0</td>\n",
              "      <td>0</td>\n",
              "      <td>0</td>\n",
              "      <td>0</td>\n",
              "      <td>0</td>\n",
              "      <td>0</td>\n",
              "      <td>0</td>\n",
              "      <td>0</td>\n",
              "      <td>0</td>\n",
              "      <td>0</td>\n",
              "      <td>0</td>\n",
              "      <td>0</td>\n",
              "      <td>0</td>\n",
              "      <td>0</td>\n",
              "      <td>0</td>\n",
              "      <td>0</td>\n",
              "      <td>0</td>\n",
              "      <td>0</td>\n",
              "      <td>0</td>\n",
              "      <td>0</td>\n",
              "      <td>0</td>\n",
              "      <td>0</td>\n",
              "      <td>0</td>\n",
              "      <td>0</td>\n",
              "      <td>0</td>\n",
              "      <td>0</td>\n",
              "      <td>0</td>\n",
              "      <td>0</td>\n",
              "      <td>0</td>\n",
              "      <td>0</td>\n",
              "      <td>0</td>\n",
              "      <td>0</td>\n",
              "      <td>0</td>\n",
              "      <td>0</td>\n",
              "      <td>1</td>\n",
              "      <td>0</td>\n",
              "      <td>1.002740</td>\n",
              "    </tr>\n",
              "    <tr>\n",
              "      <th>2</th>\n",
              "      <td>0</td>\n",
              "      <td>0</td>\n",
              "      <td>1</td>\n",
              "      <td>0</td>\n",
              "      <td>0</td>\n",
              "      <td>0</td>\n",
              "      <td>0</td>\n",
              "      <td>0</td>\n",
              "      <td>0</td>\n",
              "      <td>0</td>\n",
              "      <td>0</td>\n",
              "      <td>0</td>\n",
              "      <td>0</td>\n",
              "      <td>0</td>\n",
              "      <td>0</td>\n",
              "      <td>0</td>\n",
              "      <td>0</td>\n",
              "      <td>0</td>\n",
              "      <td>0</td>\n",
              "      <td>0</td>\n",
              "      <td>0</td>\n",
              "      <td>0</td>\n",
              "      <td>0</td>\n",
              "      <td>0</td>\n",
              "      <td>0</td>\n",
              "      <td>0</td>\n",
              "      <td>0</td>\n",
              "      <td>0</td>\n",
              "      <td>0</td>\n",
              "      <td>0</td>\n",
              "      <td>0</td>\n",
              "      <td>0</td>\n",
              "      <td>0</td>\n",
              "      <td>0</td>\n",
              "      <td>0</td>\n",
              "      <td>0</td>\n",
              "      <td>0</td>\n",
              "      <td>0</td>\n",
              "      <td>0</td>\n",
              "      <td>0</td>\n",
              "      <td>...</td>\n",
              "      <td>0</td>\n",
              "      <td>0</td>\n",
              "      <td>0</td>\n",
              "      <td>0</td>\n",
              "      <td>0</td>\n",
              "      <td>0</td>\n",
              "      <td>0</td>\n",
              "      <td>0</td>\n",
              "      <td>0</td>\n",
              "      <td>0</td>\n",
              "      <td>0</td>\n",
              "      <td>0</td>\n",
              "      <td>0</td>\n",
              "      <td>0</td>\n",
              "      <td>0</td>\n",
              "      <td>0</td>\n",
              "      <td>0</td>\n",
              "      <td>0</td>\n",
              "      <td>0</td>\n",
              "      <td>0</td>\n",
              "      <td>0</td>\n",
              "      <td>0</td>\n",
              "      <td>0</td>\n",
              "      <td>0</td>\n",
              "      <td>0</td>\n",
              "      <td>0</td>\n",
              "      <td>0</td>\n",
              "      <td>0</td>\n",
              "      <td>0</td>\n",
              "      <td>0</td>\n",
              "      <td>0</td>\n",
              "      <td>0</td>\n",
              "      <td>0</td>\n",
              "      <td>0</td>\n",
              "      <td>0</td>\n",
              "      <td>0</td>\n",
              "      <td>1</td>\n",
              "      <td>0</td>\n",
              "      <td>0</td>\n",
              "      <td>1.175342</td>\n",
              "    </tr>\n",
              "    <tr>\n",
              "      <th>3</th>\n",
              "      <td>0</td>\n",
              "      <td>0</td>\n",
              "      <td>1</td>\n",
              "      <td>0</td>\n",
              "      <td>0</td>\n",
              "      <td>0</td>\n",
              "      <td>0</td>\n",
              "      <td>0</td>\n",
              "      <td>0</td>\n",
              "      <td>0</td>\n",
              "      <td>0</td>\n",
              "      <td>0</td>\n",
              "      <td>0</td>\n",
              "      <td>0</td>\n",
              "      <td>0</td>\n",
              "      <td>0</td>\n",
              "      <td>0</td>\n",
              "      <td>0</td>\n",
              "      <td>0</td>\n",
              "      <td>0</td>\n",
              "      <td>0</td>\n",
              "      <td>0</td>\n",
              "      <td>0</td>\n",
              "      <td>0</td>\n",
              "      <td>0</td>\n",
              "      <td>0</td>\n",
              "      <td>0</td>\n",
              "      <td>0</td>\n",
              "      <td>0</td>\n",
              "      <td>0</td>\n",
              "      <td>0</td>\n",
              "      <td>0</td>\n",
              "      <td>0</td>\n",
              "      <td>0</td>\n",
              "      <td>0</td>\n",
              "      <td>0</td>\n",
              "      <td>0</td>\n",
              "      <td>0</td>\n",
              "      <td>0</td>\n",
              "      <td>0</td>\n",
              "      <td>...</td>\n",
              "      <td>0</td>\n",
              "      <td>0</td>\n",
              "      <td>0</td>\n",
              "      <td>0</td>\n",
              "      <td>0</td>\n",
              "      <td>0</td>\n",
              "      <td>0</td>\n",
              "      <td>0</td>\n",
              "      <td>0</td>\n",
              "      <td>0</td>\n",
              "      <td>0</td>\n",
              "      <td>0</td>\n",
              "      <td>0</td>\n",
              "      <td>0</td>\n",
              "      <td>0</td>\n",
              "      <td>0</td>\n",
              "      <td>0</td>\n",
              "      <td>0</td>\n",
              "      <td>0</td>\n",
              "      <td>0</td>\n",
              "      <td>0</td>\n",
              "      <td>0</td>\n",
              "      <td>0</td>\n",
              "      <td>0</td>\n",
              "      <td>0</td>\n",
              "      <td>0</td>\n",
              "      <td>0</td>\n",
              "      <td>0</td>\n",
              "      <td>0</td>\n",
              "      <td>0</td>\n",
              "      <td>0</td>\n",
              "      <td>0</td>\n",
              "      <td>0</td>\n",
              "      <td>0</td>\n",
              "      <td>0</td>\n",
              "      <td>0</td>\n",
              "      <td>1</td>\n",
              "      <td>0</td>\n",
              "      <td>0</td>\n",
              "      <td>9.041096</td>\n",
              "    </tr>\n",
              "    <tr>\n",
              "      <th>4</th>\n",
              "      <td>0</td>\n",
              "      <td>0</td>\n",
              "      <td>0</td>\n",
              "      <td>0</td>\n",
              "      <td>1</td>\n",
              "      <td>0</td>\n",
              "      <td>0</td>\n",
              "      <td>0</td>\n",
              "      <td>0</td>\n",
              "      <td>0</td>\n",
              "      <td>0</td>\n",
              "      <td>0</td>\n",
              "      <td>0</td>\n",
              "      <td>0</td>\n",
              "      <td>0</td>\n",
              "      <td>0</td>\n",
              "      <td>0</td>\n",
              "      <td>0</td>\n",
              "      <td>0</td>\n",
              "      <td>0</td>\n",
              "      <td>0</td>\n",
              "      <td>0</td>\n",
              "      <td>0</td>\n",
              "      <td>0</td>\n",
              "      <td>0</td>\n",
              "      <td>0</td>\n",
              "      <td>0</td>\n",
              "      <td>0</td>\n",
              "      <td>0</td>\n",
              "      <td>0</td>\n",
              "      <td>0</td>\n",
              "      <td>0</td>\n",
              "      <td>0</td>\n",
              "      <td>0</td>\n",
              "      <td>0</td>\n",
              "      <td>0</td>\n",
              "      <td>0</td>\n",
              "      <td>0</td>\n",
              "      <td>0</td>\n",
              "      <td>0</td>\n",
              "      <td>...</td>\n",
              "      <td>0</td>\n",
              "      <td>0</td>\n",
              "      <td>0</td>\n",
              "      <td>0</td>\n",
              "      <td>0</td>\n",
              "      <td>0</td>\n",
              "      <td>0</td>\n",
              "      <td>0</td>\n",
              "      <td>0</td>\n",
              "      <td>0</td>\n",
              "      <td>0</td>\n",
              "      <td>0</td>\n",
              "      <td>0</td>\n",
              "      <td>0</td>\n",
              "      <td>0</td>\n",
              "      <td>0</td>\n",
              "      <td>0</td>\n",
              "      <td>0</td>\n",
              "      <td>0</td>\n",
              "      <td>0</td>\n",
              "      <td>0</td>\n",
              "      <td>0</td>\n",
              "      <td>0</td>\n",
              "      <td>0</td>\n",
              "      <td>0</td>\n",
              "      <td>0</td>\n",
              "      <td>0</td>\n",
              "      <td>0</td>\n",
              "      <td>0</td>\n",
              "      <td>0</td>\n",
              "      <td>0</td>\n",
              "      <td>0</td>\n",
              "      <td>0</td>\n",
              "      <td>0</td>\n",
              "      <td>0</td>\n",
              "      <td>0</td>\n",
              "      <td>0</td>\n",
              "      <td>0</td>\n",
              "      <td>1</td>\n",
              "      <td>0.495890</td>\n",
              "    </tr>\n",
              "  </tbody>\n",
              "</table>\n",
              "<p>5 rows × 2664 columns</p>\n",
              "</div>"
            ],
            "text/plain": [
              "   animal_type_Bird  animal_type_Cat  ...  sex_upon_outcome_Unknown       age\n",
              "0                 0                1  ...                         0  0.041096\n",
              "1                 0                0  ...                         0  1.002740\n",
              "2                 0                0  ...                         0  1.175342\n",
              "3                 0                0  ...                         0  9.041096\n",
              "4                 0                0  ...                         1  0.495890\n",
              "\n",
              "[5 rows x 2664 columns]"
            ]
          },
          "metadata": {
            "tags": []
          },
          "execution_count": 303
        }
      ]
    },
    {
      "cell_type": "markdown",
      "metadata": {
        "id": "rxTncT3CcJN9",
        "colab_type": "text"
      },
      "source": [
        "Now we need to classify our data using the package sklearn."
      ]
    },
    {
      "cell_type": "code",
      "metadata": {
        "id": "xzHHQRb0BMbE",
        "colab_type": "code",
        "colab": {}
      },
      "source": [
        "X_train, X_test, y_train, y_test = train_test_split(X, y, test_size = .3, random_state=1)"
      ],
      "execution_count": 0,
      "outputs": []
    },
    {
      "cell_type": "code",
      "metadata": {
        "id": "LPjPapy6Y-VW",
        "colab_type": "code",
        "outputId": "5159a613-fed0-4e3c-dca3-7ddf246f98ed",
        "colab": {
          "base_uri": "https://localhost:8080/",
          "height": 33
        }
      },
      "source": [
        "dt = DecisionTreeClassifier()\n",
        "\n",
        "# fit the decision tree to the training set\n",
        "dt.fit(X_train, y_train)\n",
        "\n",
        "# predict test set\n",
        "y_predicted = dt.predict(X_test)\n",
        "\n",
        "# compute test set accuracy\n",
        "acc = accuracy_score(y_predicted, y_test)\n",
        "print(acc)"
      ],
      "execution_count": 305,
      "outputs": [
        {
          "output_type": "stream",
          "text": [
            "0.7503088128806917\n"
          ],
          "name": "stdout"
        }
      ]
    },
    {
      "cell_type": "markdown",
      "metadata": {
        "id": "816iobV9gW4m",
        "colab_type": "text"
      },
      "source": [
        "The accuracy score is about 75% so the model explains about 75% of the variability, which is pretty good. The closer to 100%, the higher the accuracy in predicting the output."
      ]
    },
    {
      "cell_type": "code",
      "metadata": {
        "id": "P8IBYYf-50-K",
        "colab_type": "code",
        "colab": {
          "base_uri": "https://localhost:8080/",
          "height": 33
        },
        "outputId": "805d3bd1-0807-4d49-eb8d-82f636d6d8fb"
      },
      "source": [
        "print(y_predicted[0:5])"
      ],
      "execution_count": 334,
      "outputs": [
        {
          "output_type": "stream",
          "text": [
            "[ True False False  True False]\n"
          ],
          "name": "stdout"
        }
      ]
    },
    {
      "cell_type": "markdown",
      "metadata": {
        "id": "kLoMK5QphAKW",
        "colab_type": "text"
      },
      "source": [
        "I'll use graphviz to make a tree graph. \n"
      ]
    },
    {
      "cell_type": "code",
      "metadata": {
        "id": "VpjreH95U7FP",
        "colab_type": "code",
        "outputId": "a50facd5-7f42-44aa-d5ae-99ab5725dd68",
        "colab": {
          "base_uri": "https://localhost:8080/",
          "height": 615
        }
      },
      "source": [
        "treedata = export_graphviz(dt, feature_names = X.columns, class_names = ['Not Adopted', 'Adopted'], filled = True, node_ids = True, rounded = True, max_depth = 2)\n",
        "# a very high maximum depth causes overfitting (too complex) which does not generalize well to new samples.  \n",
        "treegraph = graphviz.Source(treedata)\n",
        "display(treegraph)"
      ],
      "execution_count": 326,
      "outputs": [
        {
          "output_type": "display_data",
          "data": {
            "text/plain": [
              "<graphviz.files.Source at 0x7faa87147048>"
            ],
            "image/svg+xml": "<?xml version=\"1.0\" encoding=\"UTF-8\" standalone=\"no\"?>\n<!DOCTYPE svg PUBLIC \"-//W3C//DTD SVG 1.1//EN\"\n \"http://www.w3.org/Graphics/SVG/1.1/DTD/svg11.dtd\">\n<!-- Generated by graphviz version 2.40.1 (20161225.0304)\n -->\n<!-- Title: Tree Pages: 1 -->\n<svg width=\"694pt\" height=\"446pt\"\n viewBox=\"0.00 0.00 694.00 446.00\" xmlns=\"http://www.w3.org/2000/svg\" xmlns:xlink=\"http://www.w3.org/1999/xlink\">\n<g id=\"graph0\" class=\"graph\" transform=\"scale(1 1) rotate(0) translate(4 442)\">\n<title>Tree</title>\n<polygon fill=\"#ffffff\" stroke=\"transparent\" points=\"-4,4 -4,-442 690,-442 690,4 -4,4\"/>\n<!-- 0 -->\n<g id=\"node1\" class=\"node\">\n<title>0</title>\n<path fill=\"#f8decb\" stroke=\"#000000\" d=\"M489,-438C489,-438 212,-438 212,-438 206,-438 200,-432 200,-426 200,-426 200,-352 200,-352 200,-346 206,-340 212,-340 212,-340 489,-340 489,-340 495,-340 501,-346 501,-352 501,-352 501,-426 501,-426 501,-432 495,-438 489,-438\"/>\n<text text-anchor=\"middle\" x=\"350.5\" y=\"-422.8\" font-family=\"Helvetica,sans-Serif\" font-size=\"14.00\" fill=\"#000000\">node #0</text>\n<text text-anchor=\"middle\" x=\"350.5\" y=\"-407.8\" font-family=\"Helvetica,sans-Serif\" font-size=\"14.00\" fill=\"#000000\">sex_upon_outcome_Spayed Female &lt;= 0.5</text>\n<text text-anchor=\"middle\" x=\"350.5\" y=\"-392.8\" font-family=\"Helvetica,sans-Serif\" font-size=\"14.00\" fill=\"#000000\">gini = 0.489</text>\n<text text-anchor=\"middle\" x=\"350.5\" y=\"-377.8\" font-family=\"Helvetica,sans-Serif\" font-size=\"14.00\" fill=\"#000000\">samples = 54779</text>\n<text text-anchor=\"middle\" x=\"350.5\" y=\"-362.8\" font-family=\"Helvetica,sans-Serif\" font-size=\"14.00\" fill=\"#000000\">value = [31491, 23288]</text>\n<text text-anchor=\"middle\" x=\"350.5\" y=\"-347.8\" font-family=\"Helvetica,sans-Serif\" font-size=\"14.00\" fill=\"#000000\">class = Not Adopted</text>\n</g>\n<!-- 1 -->\n<g id=\"node2\" class=\"node\">\n<title>1</title>\n<path fill=\"#f2bf9a\" stroke=\"#000000\" d=\"M364,-304C364,-304 95,-304 95,-304 89,-304 83,-298 83,-292 83,-292 83,-218 83,-218 83,-212 89,-206 95,-206 95,-206 364,-206 364,-206 370,-206 376,-212 376,-218 376,-218 376,-292 376,-292 376,-298 370,-304 364,-304\"/>\n<text text-anchor=\"middle\" x=\"229.5\" y=\"-288.8\" font-family=\"Helvetica,sans-Serif\" font-size=\"14.00\" fill=\"#000000\">node #1</text>\n<text text-anchor=\"middle\" x=\"229.5\" y=\"-273.8\" font-family=\"Helvetica,sans-Serif\" font-size=\"14.00\" fill=\"#000000\">sex_upon_outcome_Neutered Male &lt;= 0.5</text>\n<text text-anchor=\"middle\" x=\"229.5\" y=\"-258.8\" font-family=\"Helvetica,sans-Serif\" font-size=\"14.00\" fill=\"#000000\">gini = 0.441</text>\n<text text-anchor=\"middle\" x=\"229.5\" y=\"-243.8\" font-family=\"Helvetica,sans-Serif\" font-size=\"14.00\" fill=\"#000000\">samples = 37083</text>\n<text text-anchor=\"middle\" x=\"229.5\" y=\"-228.8\" font-family=\"Helvetica,sans-Serif\" font-size=\"14.00\" fill=\"#000000\">value = [24904, 12179]</text>\n<text text-anchor=\"middle\" x=\"229.5\" y=\"-213.8\" font-family=\"Helvetica,sans-Serif\" font-size=\"14.00\" fill=\"#000000\">class = Not Adopted</text>\n</g>\n<!-- 0&#45;&gt;1 -->\n<g id=\"edge1\" class=\"edge\">\n<title>0&#45;&gt;1</title>\n<path fill=\"none\" stroke=\"#000000\" d=\"M306.1311,-339.8642C297.8287,-330.6698 289.0891,-320.9912 280.6023,-311.5926\"/>\n<polygon fill=\"#000000\" stroke=\"#000000\" points=\"283.1631,-309.2061 273.8635,-304.1298 277.9677,-313.8974 283.1631,-309.2061\"/>\n<text text-anchor=\"middle\" x=\"272.5906\" y=\"-325.3974\" font-family=\"Helvetica,sans-Serif\" font-size=\"14.00\" fill=\"#000000\">True</text>\n</g>\n<!-- 14468 -->\n<g id=\"node9\" class=\"node\">\n<title>14468</title>\n<path fill=\"#aed7f4\" stroke=\"#000000\" d=\"M539,-304C539,-304 406,-304 406,-304 400,-304 394,-298 394,-292 394,-292 394,-218 394,-218 394,-212 400,-206 406,-206 406,-206 539,-206 539,-206 545,-206 551,-212 551,-218 551,-218 551,-292 551,-292 551,-298 545,-304 539,-304\"/>\n<text text-anchor=\"middle\" x=\"472.5\" y=\"-288.8\" font-family=\"Helvetica,sans-Serif\" font-size=\"14.00\" fill=\"#000000\">node #14468</text>\n<text text-anchor=\"middle\" x=\"472.5\" y=\"-273.8\" font-family=\"Helvetica,sans-Serif\" font-size=\"14.00\" fill=\"#000000\">age &lt;= 0.722</text>\n<text text-anchor=\"middle\" x=\"472.5\" y=\"-258.8\" font-family=\"Helvetica,sans-Serif\" font-size=\"14.00\" fill=\"#000000\">gini = 0.467</text>\n<text text-anchor=\"middle\" x=\"472.5\" y=\"-243.8\" font-family=\"Helvetica,sans-Serif\" font-size=\"14.00\" fill=\"#000000\">samples = 17696</text>\n<text text-anchor=\"middle\" x=\"472.5\" y=\"-228.8\" font-family=\"Helvetica,sans-Serif\" font-size=\"14.00\" fill=\"#000000\">value = [6587, 11109]</text>\n<text text-anchor=\"middle\" x=\"472.5\" y=\"-213.8\" font-family=\"Helvetica,sans-Serif\" font-size=\"14.00\" fill=\"#000000\">class = Adopted</text>\n</g>\n<!-- 0&#45;&gt;14468 -->\n<g id=\"edge8\" class=\"edge\">\n<title>0&#45;&gt;14468</title>\n<path fill=\"none\" stroke=\"#000000\" d=\"M395.2355,-339.8642C403.6066,-330.6698 412.4185,-320.9912 420.9754,-311.5926\"/>\n<polygon fill=\"#000000\" stroke=\"#000000\" points=\"423.6257,-313.8805 427.7699,-304.1298 418.4496,-309.168 423.6257,-313.8805\"/>\n<text text-anchor=\"middle\" x=\"428.9404\" y=\"-325.4024\" font-family=\"Helvetica,sans-Serif\" font-size=\"14.00\" fill=\"#000000\">False</text>\n</g>\n<!-- 2 -->\n<g id=\"node3\" class=\"node\">\n<title>2</title>\n<path fill=\"#e78945\" stroke=\"#000000\" d=\"M145,-170C145,-170 12,-170 12,-170 6,-170 0,-164 0,-158 0,-158 0,-84 0,-84 0,-78 6,-72 12,-72 12,-72 145,-72 145,-72 151,-72 157,-78 157,-84 157,-84 157,-158 157,-158 157,-164 151,-170 145,-170\"/>\n<text text-anchor=\"middle\" x=\"78.5\" y=\"-154.8\" font-family=\"Helvetica,sans-Serif\" font-size=\"14.00\" fill=\"#000000\">node #2</text>\n<text text-anchor=\"middle\" x=\"78.5\" y=\"-139.8\" font-family=\"Helvetica,sans-Serif\" font-size=\"14.00\" fill=\"#000000\">age &lt;= 0.127</text>\n<text text-anchor=\"middle\" x=\"78.5\" y=\"-124.8\" font-family=\"Helvetica,sans-Serif\" font-size=\"14.00\" fill=\"#000000\">gini = 0.108</text>\n<text text-anchor=\"middle\" x=\"78.5\" y=\"-109.8\" font-family=\"Helvetica,sans-Serif\" font-size=\"14.00\" fill=\"#000000\">samples = 17618</text>\n<text text-anchor=\"middle\" x=\"78.5\" y=\"-94.8\" font-family=\"Helvetica,sans-Serif\" font-size=\"14.00\" fill=\"#000000\">value = [16611, 1007]</text>\n<text text-anchor=\"middle\" x=\"78.5\" y=\"-79.8\" font-family=\"Helvetica,sans-Serif\" font-size=\"14.00\" fill=\"#000000\">class = Not Adopted</text>\n</g>\n<!-- 1&#45;&gt;2 -->\n<g id=\"edge2\" class=\"edge\">\n<title>1&#45;&gt;2</title>\n<path fill=\"none\" stroke=\"#000000\" d=\"M174.1306,-205.8642C163.5646,-196.4878 152.4311,-186.6077 141.6435,-177.0346\"/>\n<polygon fill=\"#000000\" stroke=\"#000000\" points=\"143.6654,-174.1495 133.8627,-170.1298 139.0192,-179.3852 143.6654,-174.1495\"/>\n</g>\n<!-- 2793 -->\n<g id=\"node6\" class=\"node\">\n<title>2793</title>\n<path fill=\"#cce6f8\" stroke=\"#000000\" d=\"M320,-170C320,-170 187,-170 187,-170 181,-170 175,-164 175,-158 175,-158 175,-84 175,-84 175,-78 181,-72 187,-72 187,-72 320,-72 320,-72 326,-72 332,-78 332,-84 332,-84 332,-158 332,-158 332,-164 326,-170 320,-170\"/>\n<text text-anchor=\"middle\" x=\"253.5\" y=\"-154.8\" font-family=\"Helvetica,sans-Serif\" font-size=\"14.00\" fill=\"#000000\">node #2793</text>\n<text text-anchor=\"middle\" x=\"253.5\" y=\"-139.8\" font-family=\"Helvetica,sans-Serif\" font-size=\"14.00\" fill=\"#000000\">age &lt;= 0.577</text>\n<text text-anchor=\"middle\" x=\"253.5\" y=\"-124.8\" font-family=\"Helvetica,sans-Serif\" font-size=\"14.00\" fill=\"#000000\">gini = 0.489</text>\n<text text-anchor=\"middle\" x=\"253.5\" y=\"-109.8\" font-family=\"Helvetica,sans-Serif\" font-size=\"14.00\" fill=\"#000000\">samples = 19465</text>\n<text text-anchor=\"middle\" x=\"253.5\" y=\"-94.8\" font-family=\"Helvetica,sans-Serif\" font-size=\"14.00\" fill=\"#000000\">value = [8293, 11172]</text>\n<text text-anchor=\"middle\" x=\"253.5\" y=\"-79.8\" font-family=\"Helvetica,sans-Serif\" font-size=\"14.00\" fill=\"#000000\">class = Adopted</text>\n</g>\n<!-- 1&#45;&gt;2793 -->\n<g id=\"edge5\" class=\"edge\">\n<title>1&#45;&gt;2793</title>\n<path fill=\"none\" stroke=\"#000000\" d=\"M238.3004,-205.8642C239.8005,-197.4891 241.3724,-188.7123 242.9129,-180.1113\"/>\n<polygon fill=\"#000000\" stroke=\"#000000\" points=\"246.3827,-180.5903 244.7006,-170.1298 239.4924,-179.3561 246.3827,-180.5903\"/>\n</g>\n<!-- 3 -->\n<g id=\"node4\" class=\"node\">\n<title>3</title>\n<path fill=\"#c0c0c0\" stroke=\"#000000\" d=\"M57.5,-36C57.5,-36 27.5,-36 27.5,-36 21.5,-36 15.5,-30 15.5,-24 15.5,-24 15.5,-12 15.5,-12 15.5,-6 21.5,0 27.5,0 27.5,0 57.5,0 57.5,0 63.5,0 69.5,-6 69.5,-12 69.5,-12 69.5,-24 69.5,-24 69.5,-30 63.5,-36 57.5,-36\"/>\n<text text-anchor=\"middle\" x=\"42.5\" y=\"-14.3\" font-family=\"Helvetica,sans-Serif\" font-size=\"14.00\" fill=\"#000000\">(...)</text>\n</g>\n<!-- 2&#45;&gt;3 -->\n<g id=\"edge3\" class=\"edge\">\n<title>2&#45;&gt;3</title>\n<path fill=\"none\" stroke=\"#000000\" d=\"M61.3435,-71.9133C58.2365,-63.0239 55.096,-54.0385 52.2932,-46.0195\"/>\n<polygon fill=\"#000000\" stroke=\"#000000\" points=\"55.5552,-44.7441 48.9517,-36.4589 48.9471,-47.0538 55.5552,-44.7441\"/>\n</g>\n<!-- 54 -->\n<g id=\"node5\" class=\"node\">\n<title>54</title>\n<path fill=\"#c0c0c0\" stroke=\"#000000\" d=\"M129.5,-36C129.5,-36 99.5,-36 99.5,-36 93.5,-36 87.5,-30 87.5,-24 87.5,-24 87.5,-12 87.5,-12 87.5,-6 93.5,0 99.5,0 99.5,0 129.5,0 129.5,0 135.5,0 141.5,-6 141.5,-12 141.5,-12 141.5,-24 141.5,-24 141.5,-30 135.5,-36 129.5,-36\"/>\n<text text-anchor=\"middle\" x=\"114.5\" y=\"-14.3\" font-family=\"Helvetica,sans-Serif\" font-size=\"14.00\" fill=\"#000000\">(...)</text>\n</g>\n<!-- 2&#45;&gt;54 -->\n<g id=\"edge4\" class=\"edge\">\n<title>2&#45;&gt;54</title>\n<path fill=\"none\" stroke=\"#000000\" d=\"M95.6565,-71.9133C98.7635,-63.0239 101.904,-54.0385 104.7068,-46.0195\"/>\n<polygon fill=\"#000000\" stroke=\"#000000\" points=\"108.0529,-47.0538 108.0483,-36.4589 101.4448,-44.7441 108.0529,-47.0538\"/>\n</g>\n<!-- 2794 -->\n<g id=\"node7\" class=\"node\">\n<title>2794</title>\n<path fill=\"#c0c0c0\" stroke=\"#000000\" d=\"M253.5,-36C253.5,-36 223.5,-36 223.5,-36 217.5,-36 211.5,-30 211.5,-24 211.5,-24 211.5,-12 211.5,-12 211.5,-6 217.5,0 223.5,0 223.5,0 253.5,0 253.5,0 259.5,0 265.5,-6 265.5,-12 265.5,-12 265.5,-24 265.5,-24 265.5,-30 259.5,-36 253.5,-36\"/>\n<text text-anchor=\"middle\" x=\"238.5\" y=\"-14.3\" font-family=\"Helvetica,sans-Serif\" font-size=\"14.00\" fill=\"#000000\">(...)</text>\n</g>\n<!-- 2793&#45;&gt;2794 -->\n<g id=\"edge6\" class=\"edge\">\n<title>2793&#45;&gt;2794</title>\n<path fill=\"none\" stroke=\"#000000\" d=\"M246.3514,-71.9133C245.0857,-63.2215 243.8065,-54.4378 242.6586,-46.5555\"/>\n<polygon fill=\"#000000\" stroke=\"#000000\" points=\"246.0928,-45.8501 241.1882,-36.4589 239.1659,-46.8589 246.0928,-45.8501\"/>\n</g>\n<!-- 4947 -->\n<g id=\"node8\" class=\"node\">\n<title>4947</title>\n<path fill=\"#c0c0c0\" stroke=\"#000000\" d=\"M325.5,-36C325.5,-36 295.5,-36 295.5,-36 289.5,-36 283.5,-30 283.5,-24 283.5,-24 283.5,-12 283.5,-12 283.5,-6 289.5,0 295.5,0 295.5,0 325.5,0 325.5,0 331.5,0 337.5,-6 337.5,-12 337.5,-12 337.5,-24 337.5,-24 337.5,-30 331.5,-36 325.5,-36\"/>\n<text text-anchor=\"middle\" x=\"310.5\" y=\"-14.3\" font-family=\"Helvetica,sans-Serif\" font-size=\"14.00\" fill=\"#000000\">(...)</text>\n</g>\n<!-- 2793&#45;&gt;4947 -->\n<g id=\"edge7\" class=\"edge\">\n<title>2793&#45;&gt;4947</title>\n<path fill=\"none\" stroke=\"#000000\" d=\"M280.6645,-71.9133C285.7478,-62.7276 290.8879,-53.4394 295.436,-45.2209\"/>\n<polygon fill=\"#000000\" stroke=\"#000000\" points=\"298.5052,-46.9032 300.2849,-36.4589 292.3805,-43.5138 298.5052,-46.9032\"/>\n</g>\n<!-- 14469 -->\n<g id=\"node10\" class=\"node\">\n<title>14469</title>\n<path fill=\"#57ace9\" stroke=\"#000000\" d=\"M506.5,-170C506.5,-170 390.5,-170 390.5,-170 384.5,-170 378.5,-164 378.5,-158 378.5,-158 378.5,-84 378.5,-84 378.5,-78 384.5,-72 390.5,-72 390.5,-72 506.5,-72 506.5,-72 512.5,-72 518.5,-78 518.5,-84 518.5,-84 518.5,-158 518.5,-158 518.5,-164 512.5,-170 506.5,-170\"/>\n<text text-anchor=\"middle\" x=\"448.5\" y=\"-154.8\" font-family=\"Helvetica,sans-Serif\" font-size=\"14.00\" fill=\"#000000\">node #14469</text>\n<text text-anchor=\"middle\" x=\"448.5\" y=\"-139.8\" font-family=\"Helvetica,sans-Serif\" font-size=\"14.00\" fill=\"#000000\">age &lt;= 0.377</text>\n<text text-anchor=\"middle\" x=\"448.5\" y=\"-124.8\" font-family=\"Helvetica,sans-Serif\" font-size=\"14.00\" fill=\"#000000\">gini = 0.227</text>\n<text text-anchor=\"middle\" x=\"448.5\" y=\"-109.8\" font-family=\"Helvetica,sans-Serif\" font-size=\"14.00\" fill=\"#000000\">samples = 5954</text>\n<text text-anchor=\"middle\" x=\"448.5\" y=\"-94.8\" font-family=\"Helvetica,sans-Serif\" font-size=\"14.00\" fill=\"#000000\">value = [777, 5177]</text>\n<text text-anchor=\"middle\" x=\"448.5\" y=\"-79.8\" font-family=\"Helvetica,sans-Serif\" font-size=\"14.00\" fill=\"#000000\">class = Adopted</text>\n</g>\n<!-- 14468&#45;&gt;14469 -->\n<g id=\"edge9\" class=\"edge\">\n<title>14468&#45;&gt;14469</title>\n<path fill=\"none\" stroke=\"#000000\" d=\"M463.6996,-205.8642C462.1995,-197.4891 460.6276,-188.7123 459.0871,-180.1113\"/>\n<polygon fill=\"#000000\" stroke=\"#000000\" points=\"462.5076,-179.3561 457.2994,-170.1298 455.6173,-180.5903 462.5076,-179.3561\"/>\n</g>\n<!-- 16742 -->\n<g id=\"node13\" class=\"node\">\n<title>16742</title>\n<path fill=\"#fbfdfe\" stroke=\"#000000\" d=\"M674,-170C674,-170 549,-170 549,-170 543,-170 537,-164 537,-158 537,-158 537,-84 537,-84 537,-78 543,-72 549,-72 549,-72 674,-72 674,-72 680,-72 686,-78 686,-84 686,-84 686,-158 686,-158 686,-164 680,-170 674,-170\"/>\n<text text-anchor=\"middle\" x=\"611.5\" y=\"-154.8\" font-family=\"Helvetica,sans-Serif\" font-size=\"14.00\" fill=\"#000000\">node #16742</text>\n<text text-anchor=\"middle\" x=\"611.5\" y=\"-139.8\" font-family=\"Helvetica,sans-Serif\" font-size=\"14.00\" fill=\"#000000\">age &lt;= 2.744</text>\n<text text-anchor=\"middle\" x=\"611.5\" y=\"-124.8\" font-family=\"Helvetica,sans-Serif\" font-size=\"14.00\" fill=\"#000000\">gini = 0.5</text>\n<text text-anchor=\"middle\" x=\"611.5\" y=\"-109.8\" font-family=\"Helvetica,sans-Serif\" font-size=\"14.00\" fill=\"#000000\">samples = 11742</text>\n<text text-anchor=\"middle\" x=\"611.5\" y=\"-94.8\" font-family=\"Helvetica,sans-Serif\" font-size=\"14.00\" fill=\"#000000\">value = [5810, 5932]</text>\n<text text-anchor=\"middle\" x=\"611.5\" y=\"-79.8\" font-family=\"Helvetica,sans-Serif\" font-size=\"14.00\" fill=\"#000000\">class = Adopted</text>\n</g>\n<!-- 14468&#45;&gt;16742 -->\n<g id=\"edge12\" class=\"edge\">\n<title>14468&#45;&gt;16742</title>\n<path fill=\"none\" stroke=\"#000000\" d=\"M523.4692,-205.8642C533.1011,-196.5788 543.2453,-186.7995 553.0852,-177.3136\"/>\n<polygon fill=\"#000000\" stroke=\"#000000\" points=\"555.7667,-179.59 560.537,-170.1298 550.9084,-174.5505 555.7667,-179.59\"/>\n</g>\n<!-- 14470 -->\n<g id=\"node11\" class=\"node\">\n<title>14470</title>\n<path fill=\"#c0c0c0\" stroke=\"#000000\" d=\"M415.5,-36C415.5,-36 385.5,-36 385.5,-36 379.5,-36 373.5,-30 373.5,-24 373.5,-24 373.5,-12 373.5,-12 373.5,-6 379.5,0 385.5,0 385.5,0 415.5,0 415.5,0 421.5,0 427.5,-6 427.5,-12 427.5,-12 427.5,-24 427.5,-24 427.5,-30 421.5,-36 415.5,-36\"/>\n<text text-anchor=\"middle\" x=\"400.5\" y=\"-14.3\" font-family=\"Helvetica,sans-Serif\" font-size=\"14.00\" fill=\"#000000\">(...)</text>\n</g>\n<!-- 14469&#45;&gt;14470 -->\n<g id=\"edge10\" class=\"edge\">\n<title>14469&#45;&gt;14470</title>\n<path fill=\"none\" stroke=\"#000000\" d=\"M425.6246,-71.9133C421.436,-62.9252 417.2016,-53.8388 413.4332,-45.7526\"/>\n<polygon fill=\"#000000\" stroke=\"#000000\" points=\"416.4987,-44.0446 409.1022,-36.4589 410.1539,-47.0014 416.4987,-44.0446\"/>\n</g>\n<!-- 15629 -->\n<g id=\"node12\" class=\"node\">\n<title>15629</title>\n<path fill=\"#c0c0c0\" stroke=\"#000000\" d=\"M487.5,-36C487.5,-36 457.5,-36 457.5,-36 451.5,-36 445.5,-30 445.5,-24 445.5,-24 445.5,-12 445.5,-12 445.5,-6 451.5,0 457.5,0 457.5,0 487.5,0 487.5,0 493.5,0 499.5,-6 499.5,-12 499.5,-12 499.5,-24 499.5,-24 499.5,-30 493.5,-36 487.5,-36\"/>\n<text text-anchor=\"middle\" x=\"472.5\" y=\"-14.3\" font-family=\"Helvetica,sans-Serif\" font-size=\"14.00\" fill=\"#000000\">(...)</text>\n</g>\n<!-- 14469&#45;&gt;15629 -->\n<g id=\"edge11\" class=\"edge\">\n<title>14469&#45;&gt;15629</title>\n<path fill=\"none\" stroke=\"#000000\" d=\"M459.9377,-71.9133C461.986,-63.1227 464.0562,-54.2382 465.9088,-46.2872\"/>\n<polygon fill=\"#000000\" stroke=\"#000000\" points=\"469.3382,-46.9923 468.1989,-36.4589 462.5208,-45.4037 469.3382,-46.9923\"/>\n</g>\n<!-- 16743 -->\n<g id=\"node14\" class=\"node\">\n<title>16743</title>\n<path fill=\"#c0c0c0\" stroke=\"#000000\" d=\"M568.5,-36C568.5,-36 538.5,-36 538.5,-36 532.5,-36 526.5,-30 526.5,-24 526.5,-24 526.5,-12 526.5,-12 526.5,-6 532.5,0 538.5,0 538.5,0 568.5,0 568.5,0 574.5,0 580.5,-6 580.5,-12 580.5,-12 580.5,-24 580.5,-24 580.5,-30 574.5,-36 568.5,-36\"/>\n<text text-anchor=\"middle\" x=\"553.5\" y=\"-14.3\" font-family=\"Helvetica,sans-Serif\" font-size=\"14.00\" fill=\"#000000\">(...)</text>\n</g>\n<!-- 16742&#45;&gt;16743 -->\n<g id=\"edge13\" class=\"edge\">\n<title>16742&#45;&gt;16743</title>\n<path fill=\"none\" stroke=\"#000000\" d=\"M583.8589,-71.9133C578.6864,-62.7276 573.4562,-53.4394 568.8283,-45.2209\"/>\n<polygon fill=\"#000000\" stroke=\"#000000\" points=\"571.8507,-43.4551 563.8943,-36.4589 565.7513,-46.8898 571.8507,-43.4551\"/>\n</g>\n<!-- 21176 -->\n<g id=\"node15\" class=\"node\">\n<title>21176</title>\n<path fill=\"#c0c0c0\" stroke=\"#000000\" d=\"M640.5,-36C640.5,-36 610.5,-36 610.5,-36 604.5,-36 598.5,-30 598.5,-24 598.5,-24 598.5,-12 598.5,-12 598.5,-6 604.5,0 610.5,0 610.5,0 640.5,0 640.5,0 646.5,0 652.5,-6 652.5,-12 652.5,-12 652.5,-24 652.5,-24 652.5,-30 646.5,-36 640.5,-36\"/>\n<text text-anchor=\"middle\" x=\"625.5\" y=\"-14.3\" font-family=\"Helvetica,sans-Serif\" font-size=\"14.00\" fill=\"#000000\">(...)</text>\n</g>\n<!-- 16742&#45;&gt;21176 -->\n<g id=\"edge14\" class=\"edge\">\n<title>16742&#45;&gt;21176</title>\n<path fill=\"none\" stroke=\"#000000\" d=\"M618.172,-71.9133C619.3534,-63.2215 620.5473,-54.4378 621.6187,-46.5555\"/>\n<polygon fill=\"#000000\" stroke=\"#000000\" points=\"625.1122,-46.8392 622.991,-36.4589 618.176,-45.8964 625.1122,-46.8392\"/>\n</g>\n</g>\n</svg>\n"
          },
          "metadata": {
            "tags": []
          }
        }
      ]
    },
    {
      "cell_type": "markdown",
      "metadata": {
        "id": "Gn8L3RztiJWP",
        "colab_type": "text"
      },
      "source": [
        "The decision tree starts at node #0 and asks if the sex_upon_outcome_Spayed_Female variable is <= 0.5. If this is true, we go to the left to node #1; if it is false, we go to the right to node #14468. This node #0 decision point has the largest gini value of 0.489. \n"
      ]
    },
    {
      "cell_type": "markdown",
      "metadata": {
        "id": "JeCMNRhNsmcs",
        "colab_type": "text"
      },
      "source": [
        "Another way to create a tree plot."
      ]
    },
    {
      "cell_type": "code",
      "metadata": {
        "id": "BRwKYnBKefdZ",
        "colab_type": "code",
        "outputId": "134ad0bc-deb6-4af6-cd40-5e496557fcf7",
        "colab": {
          "base_uri": "https://localhost:8080/",
          "height": 247
        }
      },
      "source": [
        "plt.figure()\n",
        "clf = DecisionTreeClassifier(max_depth = 2).fit(X_test, y_predicted)\n",
        "plot_tree(clf, filled=True)\n",
        "plt.show()"
      ],
      "execution_count": 328,
      "outputs": [
        {
          "output_type": "display_data",
          "data": {
            "image/png": "[encoded data removed]",
            "text/plain": [
              "<Figure size 432x288 with 1 Axes>"
            ]
          },
          "metadata": {
            "tags": []
          }
        }
      ]
    },
    {
      "cell_type": "markdown",
      "metadata": {
        "id": "q3CXfhC84vk6",
        "colab_type": "text"
      },
      "source": [
        ""
      ]
    }
  ]
}