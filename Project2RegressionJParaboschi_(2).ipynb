{
  "nbformat": 4,
  "nbformat_minor": 0,
  "metadata": {
    "colab": {
      "name": "Project2RegressionJParaboschi (2).ipynb",
      "provenance": [],
      "collapsed_sections": []
    },
    "kernelspec": {
      "name": "python3",
      "display_name": "Python 3"
    }
  },
  "cells": [
    {
      "cell_type": "code",
      "metadata": {
        "id": "3Y_cWuCR_FH6",
        "colab_type": "code",
        "outputId": "64ef6a8e-3906-46b1-f52d-c985e7cfea2e",
        "colab": {
          "base_uri": "https://localhost:8080/",
          "height": 34
        }
      },
      "source": [
        "import os\n",
        "os.getcwd() #shows the current working directory"
      ],
      "execution_count": 45,
      "outputs": [
        {
          "output_type": "execute_result",
          "data": {
            "text/plain": [
              "'/content'"
            ]
          },
          "metadata": {
            "tags": []
          },
          "execution_count": 45
        }
      ]
    },
    {
      "cell_type": "code",
      "metadata": {
        "id": "Gp__ALr__OL9",
        "colab_type": "code",
        "colab": {}
      },
      "source": [
        "import numpy as np # pulls in numpy package\n",
        "import pandas as pd # pulls in pandas package\n",
        "import matplotlib as mpl\n",
        "import matplotlib.pyplot as plt # pulls in matplotlib plotting package\n",
        "import seaborn as sns # pulls in seaborn package"
      ],
      "execution_count": 0,
      "outputs": []
    },
    {
      "cell_type": "code",
      "metadata": {
        "id": "x8iDBGJfF22Y",
        "colab_type": "code",
        "colab": {}
      },
      "source": [
        "import sklearn # use sklearn for the regression and training\n",
        "from sklearn.model_selection import train_test_split\n",
        "from sklearn.linear_model import LinearRegression\n",
        "from sklearn.metrics import mean_squared_error\n",
        "from sklearn import metrics"
      ],
      "execution_count": 0,
      "outputs": []
    },
    {
      "cell_type": "code",
      "metadata": {
        "id": "5X9m0Kkjy46d",
        "colab_type": "code",
        "outputId": "2a3e2f11-3ab0-4109-fd17-3e1a2db0f55c",
        "colab": {
          "base_uri": "https://localhost:8080/",
          "height": 34
        }
      },
      "source": [
        "abalonedf = pd.read_csv('abalone.csv') # pulls in my csv file \n",
        "abalonedf.shape # shows the number of rows/records and columns/variables "
      ],
      "execution_count": 48,
      "outputs": [
        {
          "output_type": "execute_result",
          "data": {
            "text/plain": [
              "(4177, 9)"
            ]
          },
          "metadata": {
            "tags": []
          },
          "execution_count": 48
        }
      ]
    },
    {
      "cell_type": "code",
      "metadata": {
        "id": "ush0hv6pAeyU",
        "colab_type": "code",
        "outputId": "9abe015d-1a74-484c-bbc6-296225139126",
        "colab": {
          "base_uri": "https://localhost:8080/",
          "height": 197
        }
      },
      "source": [
        "abalonedf.head() # shows the first 5 rows of data"
      ],
      "execution_count": 49,
      "outputs": [
        {
          "output_type": "execute_result",
          "data": {
            "text/html": [
              "<div>\n",
              "<style scoped>\n",
              "    .dataframe tbody tr th:only-of-type {\n",
              "        vertical-align: middle;\n",
              "    }\n",
              "\n",
              "    .dataframe tbody tr th {\n",
              "        vertical-align: top;\n",
              "    }\n",
              "\n",
              "    .dataframe thead th {\n",
              "        text-align: right;\n",
              "    }\n",
              "</style>\n",
              "<table border=\"1\" class=\"dataframe\">\n",
              "  <thead>\n",
              "    <tr style=\"text-align: right;\">\n",
              "      <th></th>\n",
              "      <th>Sex</th>\n",
              "      <th>Length</th>\n",
              "      <th>Diameter</th>\n",
              "      <th>Height</th>\n",
              "      <th>Whole weight</th>\n",
              "      <th>Shucked weight</th>\n",
              "      <th>Viscera weight</th>\n",
              "      <th>Shell weight</th>\n",
              "      <th>Rings</th>\n",
              "    </tr>\n",
              "  </thead>\n",
              "  <tbody>\n",
              "    <tr>\n",
              "      <th>0</th>\n",
              "      <td>M</td>\n",
              "      <td>0.455</td>\n",
              "      <td>0.365</td>\n",
              "      <td>0.095</td>\n",
              "      <td>0.5140</td>\n",
              "      <td>0.2245</td>\n",
              "      <td>0.1010</td>\n",
              "      <td>0.150</td>\n",
              "      <td>15</td>\n",
              "    </tr>\n",
              "    <tr>\n",
              "      <th>1</th>\n",
              "      <td>M</td>\n",
              "      <td>0.350</td>\n",
              "      <td>0.265</td>\n",
              "      <td>0.090</td>\n",
              "      <td>0.2255</td>\n",
              "      <td>0.0995</td>\n",
              "      <td>0.0485</td>\n",
              "      <td>0.070</td>\n",
              "      <td>7</td>\n",
              "    </tr>\n",
              "    <tr>\n",
              "      <th>2</th>\n",
              "      <td>F</td>\n",
              "      <td>0.530</td>\n",
              "      <td>0.420</td>\n",
              "      <td>0.135</td>\n",
              "      <td>0.6770</td>\n",
              "      <td>0.2565</td>\n",
              "      <td>0.1415</td>\n",
              "      <td>0.210</td>\n",
              "      <td>9</td>\n",
              "    </tr>\n",
              "    <tr>\n",
              "      <th>3</th>\n",
              "      <td>M</td>\n",
              "      <td>0.440</td>\n",
              "      <td>0.365</td>\n",
              "      <td>0.125</td>\n",
              "      <td>0.5160</td>\n",
              "      <td>0.2155</td>\n",
              "      <td>0.1140</td>\n",
              "      <td>0.155</td>\n",
              "      <td>10</td>\n",
              "    </tr>\n",
              "    <tr>\n",
              "      <th>4</th>\n",
              "      <td>I</td>\n",
              "      <td>0.330</td>\n",
              "      <td>0.255</td>\n",
              "      <td>0.080</td>\n",
              "      <td>0.2050</td>\n",
              "      <td>0.0895</td>\n",
              "      <td>0.0395</td>\n",
              "      <td>0.055</td>\n",
              "      <td>7</td>\n",
              "    </tr>\n",
              "  </tbody>\n",
              "</table>\n",
              "</div>"
            ],
            "text/plain": [
              "  Sex  Length  Diameter  ...  Viscera weight  Shell weight  Rings\n",
              "0   M   0.455     0.365  ...          0.1010         0.150     15\n",
              "1   M   0.350     0.265  ...          0.0485         0.070      7\n",
              "2   F   0.530     0.420  ...          0.1415         0.210      9\n",
              "3   M   0.440     0.365  ...          0.1140         0.155     10\n",
              "4   I   0.330     0.255  ...          0.0395         0.055      7\n",
              "\n",
              "[5 rows x 9 columns]"
            ]
          },
          "metadata": {
            "tags": []
          },
          "execution_count": 49
        }
      ]
    },
    {
      "cell_type": "markdown",
      "metadata": {
        "id": "htSdmHmC__5b",
        "colab_type": "text"
      },
      "source": [
        "The abalone.csv file contains 4,177 rows of data about the gender (M/F/infant), size (length, diameter, height), weight (whole, shucked, viscera, shell) and age (rings) of marine snails called abalone (9 variables). \n",
        "The data comes from https://www.kaggle.com/rodolfomendes/abalone-dataset/version/3#abalone.csv \n",
        "The number of rings plus 1.5 gives the estimated age of the abalone in years.  We can use the length to predict the rings/age. "
      ]
    },
    {
      "cell_type": "code",
      "metadata": {
        "id": "vKhO15QmCTMn",
        "colab_type": "code",
        "outputId": "77687bf7-ef9d-4728-ee2f-895aa775a104",
        "colab": {
          "base_uri": "https://localhost:8080/",
          "height": 194
        }
      },
      "source": [
        "abalonedf.dtypes # shows the data types for each variable"
      ],
      "execution_count": 50,
      "outputs": [
        {
          "output_type": "execute_result",
          "data": {
            "text/plain": [
              "Sex                object\n",
              "Length            float64\n",
              "Diameter          float64\n",
              "Height            float64\n",
              "Whole weight      float64\n",
              "Shucked weight    float64\n",
              "Viscera weight    float64\n",
              "Shell weight      float64\n",
              "Rings               int64\n",
              "dtype: object"
            ]
          },
          "metadata": {
            "tags": []
          },
          "execution_count": 50
        }
      ]
    },
    {
      "cell_type": "code",
      "metadata": {
        "id": "d8zM2xfBGIMl",
        "colab_type": "code",
        "outputId": "792fa605-7cda-439f-b449-6112d27439c6",
        "colab": {
          "base_uri": "https://localhost:8080/",
          "height": 377
        }
      },
      "source": [
        "abalonedf.describe(include='all') \n",
        "# shows the descriptive statistics for each variable\n",
        "# include all means it will show qualitative and quantitative variables"
      ],
      "execution_count": 51,
      "outputs": [
        {
          "output_type": "execute_result",
          "data": {
            "text/html": [
              "<div>\n",
              "<style scoped>\n",
              "    .dataframe tbody tr th:only-of-type {\n",
              "        vertical-align: middle;\n",
              "    }\n",
              "\n",
              "    .dataframe tbody tr th {\n",
              "        vertical-align: top;\n",
              "    }\n",
              "\n",
              "    .dataframe thead th {\n",
              "        text-align: right;\n",
              "    }\n",
              "</style>\n",
              "<table border=\"1\" class=\"dataframe\">\n",
              "  <thead>\n",
              "    <tr style=\"text-align: right;\">\n",
              "      <th></th>\n",
              "      <th>Sex</th>\n",
              "      <th>Length</th>\n",
              "      <th>Diameter</th>\n",
              "      <th>Height</th>\n",
              "      <th>Whole weight</th>\n",
              "      <th>Shucked weight</th>\n",
              "      <th>Viscera weight</th>\n",
              "      <th>Shell weight</th>\n",
              "      <th>Rings</th>\n",
              "    </tr>\n",
              "  </thead>\n",
              "  <tbody>\n",
              "    <tr>\n",
              "      <th>count</th>\n",
              "      <td>4177</td>\n",
              "      <td>4177.000000</td>\n",
              "      <td>4177.000000</td>\n",
              "      <td>4177.000000</td>\n",
              "      <td>4177.000000</td>\n",
              "      <td>4177.000000</td>\n",
              "      <td>4177.000000</td>\n",
              "      <td>4177.000000</td>\n",
              "      <td>4177.000000</td>\n",
              "    </tr>\n",
              "    <tr>\n",
              "      <th>unique</th>\n",
              "      <td>3</td>\n",
              "      <td>NaN</td>\n",
              "      <td>NaN</td>\n",
              "      <td>NaN</td>\n",
              "      <td>NaN</td>\n",
              "      <td>NaN</td>\n",
              "      <td>NaN</td>\n",
              "      <td>NaN</td>\n",
              "      <td>NaN</td>\n",
              "    </tr>\n",
              "    <tr>\n",
              "      <th>top</th>\n",
              "      <td>M</td>\n",
              "      <td>NaN</td>\n",
              "      <td>NaN</td>\n",
              "      <td>NaN</td>\n",
              "      <td>NaN</td>\n",
              "      <td>NaN</td>\n",
              "      <td>NaN</td>\n",
              "      <td>NaN</td>\n",
              "      <td>NaN</td>\n",
              "    </tr>\n",
              "    <tr>\n",
              "      <th>freq</th>\n",
              "      <td>1528</td>\n",
              "      <td>NaN</td>\n",
              "      <td>NaN</td>\n",
              "      <td>NaN</td>\n",
              "      <td>NaN</td>\n",
              "      <td>NaN</td>\n",
              "      <td>NaN</td>\n",
              "      <td>NaN</td>\n",
              "      <td>NaN</td>\n",
              "    </tr>\n",
              "    <tr>\n",
              "      <th>mean</th>\n",
              "      <td>NaN</td>\n",
              "      <td>0.523992</td>\n",
              "      <td>0.407881</td>\n",
              "      <td>0.139516</td>\n",
              "      <td>0.828742</td>\n",
              "      <td>0.359367</td>\n",
              "      <td>0.180594</td>\n",
              "      <td>0.238831</td>\n",
              "      <td>9.933684</td>\n",
              "    </tr>\n",
              "    <tr>\n",
              "      <th>std</th>\n",
              "      <td>NaN</td>\n",
              "      <td>0.120093</td>\n",
              "      <td>0.099240</td>\n",
              "      <td>0.041827</td>\n",
              "      <td>0.490389</td>\n",
              "      <td>0.221963</td>\n",
              "      <td>0.109614</td>\n",
              "      <td>0.139203</td>\n",
              "      <td>3.224169</td>\n",
              "    </tr>\n",
              "    <tr>\n",
              "      <th>min</th>\n",
              "      <td>NaN</td>\n",
              "      <td>0.075000</td>\n",
              "      <td>0.055000</td>\n",
              "      <td>0.000000</td>\n",
              "      <td>0.002000</td>\n",
              "      <td>0.001000</td>\n",
              "      <td>0.000500</td>\n",
              "      <td>0.001500</td>\n",
              "      <td>1.000000</td>\n",
              "    </tr>\n",
              "    <tr>\n",
              "      <th>25%</th>\n",
              "      <td>NaN</td>\n",
              "      <td>0.450000</td>\n",
              "      <td>0.350000</td>\n",
              "      <td>0.115000</td>\n",
              "      <td>0.441500</td>\n",
              "      <td>0.186000</td>\n",
              "      <td>0.093500</td>\n",
              "      <td>0.130000</td>\n",
              "      <td>8.000000</td>\n",
              "    </tr>\n",
              "    <tr>\n",
              "      <th>50%</th>\n",
              "      <td>NaN</td>\n",
              "      <td>0.545000</td>\n",
              "      <td>0.425000</td>\n",
              "      <td>0.140000</td>\n",
              "      <td>0.799500</td>\n",
              "      <td>0.336000</td>\n",
              "      <td>0.171000</td>\n",
              "      <td>0.234000</td>\n",
              "      <td>9.000000</td>\n",
              "    </tr>\n",
              "    <tr>\n",
              "      <th>75%</th>\n",
              "      <td>NaN</td>\n",
              "      <td>0.615000</td>\n",
              "      <td>0.480000</td>\n",
              "      <td>0.165000</td>\n",
              "      <td>1.153000</td>\n",
              "      <td>0.502000</td>\n",
              "      <td>0.253000</td>\n",
              "      <td>0.329000</td>\n",
              "      <td>11.000000</td>\n",
              "    </tr>\n",
              "    <tr>\n",
              "      <th>max</th>\n",
              "      <td>NaN</td>\n",
              "      <td>0.815000</td>\n",
              "      <td>0.650000</td>\n",
              "      <td>1.130000</td>\n",
              "      <td>2.825500</td>\n",
              "      <td>1.488000</td>\n",
              "      <td>0.760000</td>\n",
              "      <td>1.005000</td>\n",
              "      <td>29.000000</td>\n",
              "    </tr>\n",
              "  </tbody>\n",
              "</table>\n",
              "</div>"
            ],
            "text/plain": [
              "         Sex       Length  ...  Shell weight        Rings\n",
              "count   4177  4177.000000  ...   4177.000000  4177.000000\n",
              "unique     3          NaN  ...           NaN          NaN\n",
              "top        M          NaN  ...           NaN          NaN\n",
              "freq    1528          NaN  ...           NaN          NaN\n",
              "mean     NaN     0.523992  ...      0.238831     9.933684\n",
              "std      NaN     0.120093  ...      0.139203     3.224169\n",
              "min      NaN     0.075000  ...      0.001500     1.000000\n",
              "25%      NaN     0.450000  ...      0.130000     8.000000\n",
              "50%      NaN     0.545000  ...      0.234000     9.000000\n",
              "75%      NaN     0.615000  ...      0.329000    11.000000\n",
              "max      NaN     0.815000  ...      1.005000    29.000000\n",
              "\n",
              "[11 rows x 9 columns]"
            ]
          },
          "metadata": {
            "tags": []
          },
          "execution_count": 51
        }
      ]
    },
    {
      "cell_type": "code",
      "metadata": {
        "id": "mkzmL8RuspRl",
        "colab_type": "code",
        "outputId": "2ce2390e-d80b-496b-814e-da2936523409",
        "colab": {
          "base_uri": "https://localhost:8080/",
          "height": 70
        }
      },
      "source": [
        "abalonedf.keys() "
      ],
      "execution_count": 52,
      "outputs": [
        {
          "output_type": "execute_result",
          "data": {
            "text/plain": [
              "Index(['Sex', 'Length', 'Diameter', 'Height', 'Whole weight', 'Shucked weight',\n",
              "       'Viscera weight', 'Shell weight', 'Rings'],\n",
              "      dtype='object')"
            ]
          },
          "metadata": {
            "tags": []
          },
          "execution_count": 52
        }
      ]
    },
    {
      "cell_type": "markdown",
      "metadata": {
        "id": "DfqNELc_Mect",
        "colab_type": "text"
      },
      "source": [
        "This is a dataframe so it shows the index of the variables.\n",
        "The Boston Housing data is a dictionary which has keys and values. "
      ]
    },
    {
      "cell_type": "markdown",
      "metadata": {
        "id": "tj9wGsPpR0lt",
        "colab_type": "text"
      },
      "source": [
        "Make a plot of the length and number of rings/age."
      ]
    },
    {
      "cell_type": "code",
      "metadata": {
        "id": "jSA4Vj8t9qLN",
        "colab_type": "code",
        "outputId": "de336167-eaaa-4492-dd3d-6b60b7eeafa9",
        "colab": {
          "base_uri": "https://localhost:8080/",
          "height": 281
        }
      },
      "source": [
        "_ = plt.plot(abalonedf['Length'], abalonedf['Rings'], marker='.', linestyle='none') \n",
        "# this provides a scatter plot of the length and age/rings\n",
        "_ = plt.xlabel('Length of Abalone')\n",
        "_ = plt.ylabel('Age in Rings')\n",
        "_ = plt.show()"
      ],
      "execution_count": 53,
      "outputs": [
        {
          "output_type": "display_data",
          "data": {
            "image/png": "[encoded data removed]",
            "text/plain": [
              "<Figure size 432x288 with 1 Axes>"
            ]
          },
          "metadata": {
            "tags": [],
            "needs_background": "light"
          }
        }
      ]
    },
    {
      "cell_type": "markdown",
      "metadata": {
        "id": "w69NzA8MN_sO",
        "colab_type": "text"
      },
      "source": [
        "This looks like a correlation between the length of the abalone and their age in rings. "
      ]
    },
    {
      "cell_type": "markdown",
      "metadata": {
        "id": "wc7voR6qzIjq",
        "colab_type": "text"
      },
      "source": [
        "Split the data into train and test data."
      ]
    },
    {
      "cell_type": "code",
      "metadata": {
        "id": "MCoNCFDevcCF",
        "colab_type": "code",
        "colab": {}
      },
      "source": [
        "x_train, x_test, y_train, y_test = train_test_split(abalonedf['Length'], abalonedf['Rings'], test_size = 0.30, random_state = 9)"
      ],
      "execution_count": 0,
      "outputs": []
    },
    {
      "cell_type": "code",
      "metadata": {
        "id": "j3QXwlu7zgBy",
        "colab_type": "code",
        "outputId": "ff73ca39-9a0f-44d3-d6d9-9b6a7731c280",
        "colab": {
          "base_uri": "https://localhost:8080/",
          "height": 34
        }
      },
      "source": [
        "x_train = np.array(x_train).reshape(-1, 1)\n",
        "y_train = np.array(y_train).reshape(-1, 1)\n",
        "x_test = np.array(x_test).reshape(-1, 1)\n",
        "y_test = np.array(y_test).reshape(-1, 1)\n",
        "\n",
        "x_train.shape, y_train.shape"
      ],
      "execution_count": 55,
      "outputs": [
        {
          "output_type": "execute_result",
          "data": {
            "text/plain": [
              "((2923, 1), (2923, 1))"
            ]
          },
          "metadata": {
            "tags": []
          },
          "execution_count": 55
        }
      ]
    },
    {
      "cell_type": "code",
      "metadata": {
        "id": "fnxF3D0ozpCv",
        "colab_type": "code",
        "outputId": "87bc93f9-b623-4dc2-9e13-b7a64ccf8003",
        "colab": {
          "base_uri": "https://localhost:8080/",
          "height": 34
        }
      },
      "source": [
        "x_test.shape, y_test.shape"
      ],
      "execution_count": 56,
      "outputs": [
        {
          "output_type": "execute_result",
          "data": {
            "text/plain": [
              "((1254, 1), (1254, 1))"
            ]
          },
          "metadata": {
            "tags": []
          },
          "execution_count": 56
        }
      ]
    },
    {
      "cell_type": "markdown",
      "metadata": {
        "id": "FOGwi9Mzz7fA",
        "colab_type": "text"
      },
      "source": [
        "Fit the training data to a linear model."
      ]
    },
    {
      "cell_type": "code",
      "metadata": {
        "id": "OziuapenzyCO",
        "colab_type": "code",
        "outputId": "f709f5d7-cd6a-41ff-d256-bce7abbf18c3",
        "colab": {
          "base_uri": "https://localhost:8080/",
          "height": 34
        }
      },
      "source": [
        "regressor = LinearRegression()\n",
        "regressor.fit(x_train, y_train) # trains the algorithm"
      ],
      "execution_count": 57,
      "outputs": [
        {
          "output_type": "execute_result",
          "data": {
            "text/plain": [
              "LinearRegression(copy_X=True, fit_intercept=True, n_jobs=None, normalize=False)"
            ]
          },
          "metadata": {
            "tags": []
          },
          "execution_count": 57
        }
      ]
    },
    {
      "cell_type": "markdown",
      "metadata": {
        "id": "s_-JuQGM0BWX",
        "colab_type": "text"
      },
      "source": [
        "Use the model to predict the test data."
      ]
    },
    {
      "cell_type": "code",
      "metadata": {
        "id": "FuIoVp6NzyGN",
        "colab_type": "code",
        "colab": {}
      },
      "source": [
        "y_predicted = regressor.predict(x_test)"
      ],
      "execution_count": 0,
      "outputs": []
    },
    {
      "cell_type": "code",
      "metadata": {
        "id": "4fRu28FZa5xW",
        "colab_type": "code",
        "outputId": "9a3cffa1-6a62-4c7b-82fd-b805386ba0f2",
        "colab": {
          "base_uri": "https://localhost:8080/",
          "height": 406
        }
      },
      "source": [
        "df = pd.DataFrame({'Actual': y_test.flatten(), 'Predicted': y_predicted.flatten()})\n",
        "df"
      ],
      "execution_count": 59,
      "outputs": [
        {
          "output_type": "execute_result",
          "data": {
            "text/html": [
              "<div>\n",
              "<style scoped>\n",
              "    .dataframe tbody tr th:only-of-type {\n",
              "        vertical-align: middle;\n",
              "    }\n",
              "\n",
              "    .dataframe tbody tr th {\n",
              "        vertical-align: top;\n",
              "    }\n",
              "\n",
              "    .dataframe thead th {\n",
              "        text-align: right;\n",
              "    }\n",
              "</style>\n",
              "<table border=\"1\" class=\"dataframe\">\n",
              "  <thead>\n",
              "    <tr style=\"text-align: right;\">\n",
              "      <th></th>\n",
              "      <th>Actual</th>\n",
              "      <th>Predicted</th>\n",
              "    </tr>\n",
              "  </thead>\n",
              "  <tbody>\n",
              "    <tr>\n",
              "      <th>0</th>\n",
              "      <td>17</td>\n",
              "      <td>12.963293</td>\n",
              "    </tr>\n",
              "    <tr>\n",
              "      <th>1</th>\n",
              "      <td>7</td>\n",
              "      <td>8.484839</td>\n",
              "    </tr>\n",
              "    <tr>\n",
              "      <th>2</th>\n",
              "      <td>9</td>\n",
              "      <td>9.828375</td>\n",
              "    </tr>\n",
              "    <tr>\n",
              "      <th>3</th>\n",
              "      <td>10</td>\n",
              "      <td>11.992962</td>\n",
              "    </tr>\n",
              "    <tr>\n",
              "      <th>4</th>\n",
              "      <td>9</td>\n",
              "      <td>10.947989</td>\n",
              "    </tr>\n",
              "    <tr>\n",
              "      <th>...</th>\n",
              "      <td>...</td>\n",
              "      <td>...</td>\n",
              "    </tr>\n",
              "    <tr>\n",
              "      <th>1249</th>\n",
              "      <td>10</td>\n",
              "      <td>8.858044</td>\n",
              "    </tr>\n",
              "    <tr>\n",
              "      <th>1250</th>\n",
              "      <td>8</td>\n",
              "      <td>9.604453</td>\n",
              "    </tr>\n",
              "    <tr>\n",
              "      <th>1251</th>\n",
              "      <td>11</td>\n",
              "      <td>11.022630</td>\n",
              "    </tr>\n",
              "    <tr>\n",
              "      <th>1252</th>\n",
              "      <td>7</td>\n",
              "      <td>8.932685</td>\n",
              "    </tr>\n",
              "    <tr>\n",
              "      <th>1253</th>\n",
              "      <td>8</td>\n",
              "      <td>10.052298</td>\n",
              "    </tr>\n",
              "  </tbody>\n",
              "</table>\n",
              "<p>1254 rows × 2 columns</p>\n",
              "</div>"
            ],
            "text/plain": [
              "      Actual  Predicted\n",
              "0         17  12.963293\n",
              "1          7   8.484839\n",
              "2          9   9.828375\n",
              "3         10  11.992962\n",
              "4          9  10.947989\n",
              "...      ...        ...\n",
              "1249      10   8.858044\n",
              "1250       8   9.604453\n",
              "1251      11  11.022630\n",
              "1252       7   8.932685\n",
              "1253       8  10.052298\n",
              "\n",
              "[1254 rows x 2 columns]"
            ]
          },
          "metadata": {
            "tags": []
          },
          "execution_count": 59
        }
      ]
    },
    {
      "cell_type": "markdown",
      "metadata": {
        "id": "0Tma9NSt0LmQ",
        "colab_type": "text"
      },
      "source": [
        "Measure the accuracy of the model by using the mean square error (MSE).\n",
        "\n",
        "First using Numpy."
      ]
    },
    {
      "cell_type": "code",
      "metadata": {
        "id": "nbv_QziW0S03",
        "colab_type": "code",
        "outputId": "f337e876-025e-4f5a-bceb-1c3fc9656ecb",
        "colab": {
          "base_uri": "https://localhost:8080/",
          "height": 34
        }
      },
      "source": [
        "mean_sq_error = np.mean((y_test - y_predicted) **2)\n",
        "print(mean_sq_error)"
      ],
      "execution_count": 60,
      "outputs": [
        {
          "output_type": "stream",
          "text": [
            "7.526204687661303\n"
          ],
          "name": "stdout"
        }
      ]
    },
    {
      "cell_type": "markdown",
      "metadata": {
        "id": "iz8UwtoG0dD3",
        "colab_type": "text"
      },
      "source": [
        "Using sklearn metrics."
      ]
    },
    {
      "cell_type": "code",
      "metadata": {
        "id": "wuq576w2zyJz",
        "colab_type": "code",
        "outputId": "bf0f798b-f65a-455e-8cd7-b8496792dca2",
        "colab": {
          "base_uri": "https://localhost:8080/",
          "height": 34
        }
      },
      "source": [
        "print(mean_squared_error(y_true = y_test, y_pred = regressor.predict(x_test)))"
      ],
      "execution_count": 61,
      "outputs": [
        {
          "output_type": "stream",
          "text": [
            "7.526204687661303\n"
          ],
          "name": "stdout"
        }
      ]
    },
    {
      "cell_type": "markdown",
      "metadata": {
        "id": "_CfoVqRS0slM",
        "colab_type": "text"
      },
      "source": [
        "Print the error on the training data."
      ]
    },
    {
      "cell_type": "code",
      "metadata": {
        "id": "1xMNYrIq0wpf",
        "colab_type": "code",
        "outputId": "d5dc59ec-0ba4-46df-cf11-766eea1390d6",
        "colab": {
          "base_uri": "https://localhost:8080/",
          "height": 34
        }
      },
      "source": [
        "print(mean_squared_error(y_true = y_train, y_pred = regressor.predict(x_train)))"
      ],
      "execution_count": 62,
      "outputs": [
        {
          "output_type": "stream",
          "text": [
            "7.022569953827742\n"
          ],
          "name": "stdout"
        }
      ]
    },
    {
      "cell_type": "markdown",
      "metadata": {
        "id": "k43DEK5t06QQ",
        "colab_type": "text"
      },
      "source": [
        "How much does the model (the x variable) explain the variability of the response data around its mean?"
      ]
    },
    {
      "cell_type": "code",
      "metadata": {
        "id": "sZYPQE-3zyM2",
        "colab_type": "code",
        "outputId": "bee7b8dd-6282-412d-beda-f68b03c712ee",
        "colab": {
          "base_uri": "https://localhost:8080/",
          "height": 34
        }
      },
      "source": [
        "regressor.score(x_test, y_test)"
      ],
      "execution_count": 63,
      "outputs": [
        {
          "output_type": "execute_result",
          "data": {
            "text/plain": [
              "0.28177788696110995"
            ]
          },
          "metadata": {
            "tags": []
          },
          "execution_count": 63
        }
      ]
    },
    {
      "cell_type": "markdown",
      "metadata": {
        "id": "9NovgN8h1B8T",
        "colab_type": "text"
      },
      "source": [
        "Check histogram of the residuals. does it satisfy the assumptions for inference?"
      ]
    },
    {
      "cell_type": "code",
      "metadata": {
        "id": "TGYnWOHU1IpT",
        "colab_type": "code",
        "outputId": "2743af51-a0e5-4e3f-a91e-e50b8d47a702",
        "colab": {
          "base_uri": "https://localhost:8080/",
          "height": 353
        }
      },
      "source": [
        "plt.hist(y_test - y_predicted)"
      ],
      "execution_count": 64,
      "outputs": [
        {
          "output_type": "execute_result",
          "data": {
            "text/plain": [
              "(array([166., 597., 243., 137.,  63.,  22.,  17.,   6.,   1.,   2.]),\n",
              " array([-4.2762208, -2.1762208, -0.0762208,  2.0237792,  4.1237792,\n",
              "         6.2237792,  8.3237792, 10.4237792, 12.5237792, 14.6237792,\n",
              "        16.7237792]),\n",
              " <a list of 10 Patch objects>)"
            ]
          },
          "metadata": {
            "tags": []
          },
          "execution_count": 64
        },
        {
          "output_type": "display_data",
          "data": {
            "image/png": "[encoded data removed]",
            "text/plain": [
              "<Figure size 432x288 with 1 Axes>"
            ]
          },
          "metadata": {
            "tags": [],
            "needs_background": "light"
          }
        }
      ]
    },
    {
      "cell_type": "code",
      "metadata": {
        "id": "h67vje3b06_X",
        "colab_type": "code",
        "outputId": "2cf0e4a6-b931-4365-a708-a2fb1f17a929",
        "colab": {
          "base_uri": "https://localhost:8080/",
          "height": 282
        }
      },
      "source": [
        "plt.scatter(y_predicted, y_test - y_predicted)"
      ],
      "execution_count": 65,
      "outputs": [
        {
          "output_type": "execute_result",
          "data": {
            "text/plain": [
              "<matplotlib.collections.PathCollection at 0x7fbb07f58240>"
            ]
          },
          "metadata": {
            "tags": []
          },
          "execution_count": 65
        },
        {
          "output_type": "display_data",
          "data": {
            "image/png": "[encoded data removed]",
            "text/plain": [
              "<Figure size 432x288 with 1 Axes>"
            ]
          },
          "metadata": {
            "tags": [],
            "needs_background": "light"
          }
        }
      ]
    },
    {
      "cell_type": "code",
      "metadata": {
        "id": "j2TyIXPf07Co",
        "colab_type": "code",
        "outputId": "82ce12aa-18ce-4af3-c9eb-70a2f1e8b04d",
        "colab": {
          "base_uri": "https://localhost:8080/",
          "height": 167
        }
      },
      "source": [
        "plt.scatter(regressor.predict(x), y - regressor.predict(x))"
      ],
      "execution_count": 67,
      "outputs": [
        {
          "output_type": "error",
          "ename": "NameError",
          "evalue": "ignored",
          "traceback": [
            "\u001b[0;31m---------------------------------------------------------------------------\u001b[0m",
            "\u001b[0;31mNameError\u001b[0m                                 Traceback (most recent call last)",
            "\u001b[0;32m<ipython-input-67-2282fbbe239d>\u001b[0m in \u001b[0;36m<module>\u001b[0;34m()\u001b[0m\n\u001b[0;32m----> 1\u001b[0;31m \u001b[0mplt\u001b[0m\u001b[0;34m.\u001b[0m\u001b[0mscatter\u001b[0m\u001b[0;34m(\u001b[0m\u001b[0mregressor\u001b[0m\u001b[0;34m.\u001b[0m\u001b[0mpredict\u001b[0m\u001b[0;34m(\u001b[0m\u001b[0mx\u001b[0m\u001b[0;34m)\u001b[0m\u001b[0;34m,\u001b[0m \u001b[0my\u001b[0m \u001b[0;34m-\u001b[0m \u001b[0mregressor\u001b[0m\u001b[0;34m.\u001b[0m\u001b[0mpredict\u001b[0m\u001b[0;34m(\u001b[0m\u001b[0mx\u001b[0m\u001b[0;34m)\u001b[0m\u001b[0;34m)\u001b[0m\u001b[0;34m\u001b[0m\u001b[0;34m\u001b[0m\u001b[0m\n\u001b[0m",
            "\u001b[0;31mNameError\u001b[0m: name 'x' is not defined"
          ]
        }
      ]
    },
    {
      "cell_type": "code",
      "metadata": {
        "id": "3LbgyC4c1Vmh",
        "colab_type": "code",
        "colab": {}
      },
      "source": [
        "plt.scatter(regressor.predict(x_train), y_train - regressor.predict(x_train))"
      ],
      "execution_count": 0,
      "outputs": []
    },
    {
      "cell_type": "code",
      "metadata": {
        "id": "98zbdNFa1Vpm",
        "colab_type": "code",
        "colab": {}
      },
      "source": [
        "print(regressor.coef_)"
      ],
      "execution_count": 0,
      "outputs": []
    },
    {
      "cell_type": "code",
      "metadata": {
        "id": "WFIgWw681Vsm",
        "colab_type": "code",
        "colab": {}
      },
      "source": [
        "print(regressor.intercept_)"
      ],
      "execution_count": 0,
      "outputs": []
    },
    {
      "cell_type": "code",
      "metadata": {
        "id": "OOQt1nv_1VwF",
        "colab_type": "code",
        "colab": {}
      },
      "source": [
        "from sklearn.neural_network import MLPRegressor"
      ],
      "execution_count": 0,
      "outputs": []
    },
    {
      "cell_type": "code",
      "metadata": {
        "id": "iP4aHOLE1ojs",
        "colab_type": "code",
        "colab": {}
      },
      "source": [
        "nn_reg = MLPRegressor(solver = 'lbgfs', alpha=1e-5, hidden_layer_sizes = (5, 2, 2), random_state = 1)"
      ],
      "execution_count": 0,
      "outputs": []
    },
    {
      "cell_type": "code",
      "metadata": {
        "id": "82f2fEcaXfqo",
        "colab_type": "code",
        "colab": {}
      },
      "source": [
        "nn_reg.fit(x_train, y_train)"
      ],
      "execution_count": 0,
      "outputs": []
    },
    {
      "cell_type": "code",
      "metadata": {
        "id": "Nv8m42dQYQ9O",
        "colab_type": "code",
        "colab": {}
      },
      "source": [
        "y_pred_nn = nn_reg.predict(x_test)"
      ],
      "execution_count": 0,
      "outputs": []
    },
    {
      "cell_type": "code",
      "metadata": {
        "id": "CV0LKNr7YXTW",
        "colab_type": "code",
        "colab": {}
      },
      "source": [
        "np.mean((y_test - y_pred_nn) **2)"
      ],
      "execution_count": 0,
      "outputs": []
    },
    {
      "cell_type": "code",
      "metadata": {
        "id": "6hI7YSfDaF7e",
        "colab_type": "code",
        "colab": {}
      },
      "source": [
        "np.mean((y_train - nn_reg.predict(x_train)) **2)"
      ],
      "execution_count": 0,
      "outputs": []
    },
    {
      "cell_type": "code",
      "metadata": {
        "id": "yB_FTCCqYhxG",
        "colab_type": "code",
        "colab": {}
      },
      "source": [
        "from sklearn.metrics import r2_score, mean_absolute_error\n",
        "mean_absolute_error(y_test, y_pred_nn)"
      ],
      "execution_count": 0,
      "outputs": []
    },
    {
      "cell_type": "code",
      "metadata": {
        "id": "DUZeR5XpYua3",
        "colab_type": "code",
        "colab": {}
      },
      "source": [
        "mean_absolute_error(y_train, nn_reg.predict(x_train))"
      ],
      "execution_count": 0,
      "outputs": []
    },
    {
      "cell_type": "code",
      "metadata": {
        "id": "vHaC4PGnY263",
        "colab_type": "code",
        "colab": {}
      },
      "source": [
        "r2_score(y_test, y_pred_nn)"
      ],
      "execution_count": 0,
      "outputs": []
    },
    {
      "cell_type": "code",
      "metadata": {
        "id": "fUl7K0E0arJn",
        "colab_type": "code",
        "colab": {}
      },
      "source": [
        ""
      ],
      "execution_count": 0,
      "outputs": []
    },
    {
      "cell_type": "code",
      "metadata": {
        "id": "hqbGyB-2Xhpf",
        "colab_type": "code",
        "colab": {}
      },
      "source": [
        "# finds values for metrics using test data\n",
        "print('Mean Absolute Error: ', metrics.mean_absolute_error(y_test, y_predicted))\n",
        "print('Mean Squared Error: ', metrics.mean_squared_error(y_test, y_predicted))\n",
        "print('Root Mean Squared Error: ', np.sqrt(metrics.mean_squared_error(y_test, y_predicted)))\n"
      ],
      "execution_count": 0,
      "outputs": []
    }
  ]
}