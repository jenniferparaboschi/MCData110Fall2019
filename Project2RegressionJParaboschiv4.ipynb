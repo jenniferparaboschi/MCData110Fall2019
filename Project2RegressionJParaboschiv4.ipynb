{
  "nbformat": 4,
  "nbformat_minor": 0,
  "metadata": {
    "colab": {
      "name": "Project2RegressionJParaboschiv4.ipynb",
      "provenance": [],
      "collapsed_sections": []
    },
    "kernelspec": {
      "name": "python3",
      "display_name": "Python 3"
    }
  },
  "cells": [
    {
      "cell_type": "code",
      "metadata": {
        "id": "3Y_cWuCR_FH6",
        "colab_type": "code",
        "outputId": "20072750-e2d0-45f1-b04e-acb2a4d49fc5",
        "colab": {
          "base_uri": "https://localhost:8080/",
          "height": 34
        }
      },
      "source": [
        "import os\n",
        "os.getcwd() #shows the current working directory"
      ],
      "execution_count": 219,
      "outputs": [
        {
          "output_type": "execute_result",
          "data": {
            "text/plain": [
              "'/content'"
            ]
          },
          "metadata": {
            "tags": []
          },
          "execution_count": 219
        }
      ]
    },
    {
      "cell_type": "code",
      "metadata": {
        "id": "Gp__ALr__OL9",
        "colab_type": "code",
        "colab": {}
      },
      "source": [
        "import numpy as np # pulls in numpy package\n",
        "import pandas as pd # pulls in pandas package\n",
        "import matplotlib as mpl\n",
        "import matplotlib.pyplot as plt # pulls in matplotlib plotting package\n",
        "import seaborn as sns # pulls in seaborn package"
      ],
      "execution_count": 0,
      "outputs": []
    },
    {
      "cell_type": "code",
      "metadata": {
        "id": "x8iDBGJfF22Y",
        "colab_type": "code",
        "colab": {}
      },
      "source": [
        "import sklearn # use sklearn for the regression and training\n",
        "from sklearn.model_selection import train_test_split\n",
        "from sklearn.linear_model import LinearRegression\n",
        "from sklearn.metrics import mean_squared_error, r2_score\n",
        "from sklearn import metrics"
      ],
      "execution_count": 0,
      "outputs": []
    },
    {
      "cell_type": "code",
      "metadata": {
        "id": "5X9m0Kkjy46d",
        "colab_type": "code",
        "outputId": "81462696-ac24-4a29-fcf1-fd030934bb0b",
        "colab": {
          "base_uri": "https://localhost:8080/",
          "height": 34
        }
      },
      "source": [
        "abalonedf = pd.read_csv('abalone.csv') # pulls in my csv file \n",
        "abalonedf.shape # shows the number of rows/records and columns/variables "
      ],
      "execution_count": 222,
      "outputs": [
        {
          "output_type": "execute_result",
          "data": {
            "text/plain": [
              "(4177, 9)"
            ]
          },
          "metadata": {
            "tags": []
          },
          "execution_count": 222
        }
      ]
    },
    {
      "cell_type": "code",
      "metadata": {
        "id": "ush0hv6pAeyU",
        "colab_type": "code",
        "outputId": "5128d470-3e4a-4196-ded0-a06fd85354fd",
        "colab": {
          "base_uri": "https://localhost:8080/",
          "height": 197
        }
      },
      "source": [
        "abalonedf.head() # shows the first 5 rows of data"
      ],
      "execution_count": 223,
      "outputs": [
        {
          "output_type": "execute_result",
          "data": {
            "text/html": [
              "<div>\n",
              "<style scoped>\n",
              "    .dataframe tbody tr th:only-of-type {\n",
              "        vertical-align: middle;\n",
              "    }\n",
              "\n",
              "    .dataframe tbody tr th {\n",
              "        vertical-align: top;\n",
              "    }\n",
              "\n",
              "    .dataframe thead th {\n",
              "        text-align: right;\n",
              "    }\n",
              "</style>\n",
              "<table border=\"1\" class=\"dataframe\">\n",
              "  <thead>\n",
              "    <tr style=\"text-align: right;\">\n",
              "      <th></th>\n",
              "      <th>Sex</th>\n",
              "      <th>Length</th>\n",
              "      <th>Diameter</th>\n",
              "      <th>Height</th>\n",
              "      <th>Whole weight</th>\n",
              "      <th>Shucked weight</th>\n",
              "      <th>Viscera weight</th>\n",
              "      <th>Shell weight</th>\n",
              "      <th>Rings</th>\n",
              "    </tr>\n",
              "  </thead>\n",
              "  <tbody>\n",
              "    <tr>\n",
              "      <th>0</th>\n",
              "      <td>M</td>\n",
              "      <td>0.455</td>\n",
              "      <td>0.365</td>\n",
              "      <td>0.095</td>\n",
              "      <td>0.5140</td>\n",
              "      <td>0.2245</td>\n",
              "      <td>0.1010</td>\n",
              "      <td>0.150</td>\n",
              "      <td>15</td>\n",
              "    </tr>\n",
              "    <tr>\n",
              "      <th>1</th>\n",
              "      <td>M</td>\n",
              "      <td>0.350</td>\n",
              "      <td>0.265</td>\n",
              "      <td>0.090</td>\n",
              "      <td>0.2255</td>\n",
              "      <td>0.0995</td>\n",
              "      <td>0.0485</td>\n",
              "      <td>0.070</td>\n",
              "      <td>7</td>\n",
              "    </tr>\n",
              "    <tr>\n",
              "      <th>2</th>\n",
              "      <td>F</td>\n",
              "      <td>0.530</td>\n",
              "      <td>0.420</td>\n",
              "      <td>0.135</td>\n",
              "      <td>0.6770</td>\n",
              "      <td>0.2565</td>\n",
              "      <td>0.1415</td>\n",
              "      <td>0.210</td>\n",
              "      <td>9</td>\n",
              "    </tr>\n",
              "    <tr>\n",
              "      <th>3</th>\n",
              "      <td>M</td>\n",
              "      <td>0.440</td>\n",
              "      <td>0.365</td>\n",
              "      <td>0.125</td>\n",
              "      <td>0.5160</td>\n",
              "      <td>0.2155</td>\n",
              "      <td>0.1140</td>\n",
              "      <td>0.155</td>\n",
              "      <td>10</td>\n",
              "    </tr>\n",
              "    <tr>\n",
              "      <th>4</th>\n",
              "      <td>I</td>\n",
              "      <td>0.330</td>\n",
              "      <td>0.255</td>\n",
              "      <td>0.080</td>\n",
              "      <td>0.2050</td>\n",
              "      <td>0.0895</td>\n",
              "      <td>0.0395</td>\n",
              "      <td>0.055</td>\n",
              "      <td>7</td>\n",
              "    </tr>\n",
              "  </tbody>\n",
              "</table>\n",
              "</div>"
            ],
            "text/plain": [
              "  Sex  Length  Diameter  ...  Viscera weight  Shell weight  Rings\n",
              "0   M   0.455     0.365  ...          0.1010         0.150     15\n",
              "1   M   0.350     0.265  ...          0.0485         0.070      7\n",
              "2   F   0.530     0.420  ...          0.1415         0.210      9\n",
              "3   M   0.440     0.365  ...          0.1140         0.155     10\n",
              "4   I   0.330     0.255  ...          0.0395         0.055      7\n",
              "\n",
              "[5 rows x 9 columns]"
            ]
          },
          "metadata": {
            "tags": []
          },
          "execution_count": 223
        }
      ]
    },
    {
      "cell_type": "markdown",
      "metadata": {
        "id": "htSdmHmC__5b",
        "colab_type": "text"
      },
      "source": [
        "The abalone.csv file contains 4,177 rows of data about the gender (M/F/infant), size (length, diameter, height), weight (whole, shucked, viscera, shell) and age (rings) of marine snails called abalone (9 variables). \n",
        "The data comes from https://www.kaggle.com/rodolfomendes/abalone-dataset/version/3#abalone.csv \n",
        "The number of rings plus 1.5 gives the estimated age of the abalone in years.  We can use the length and other size variables to predict the rings/age. "
      ]
    },
    {
      "cell_type": "code",
      "metadata": {
        "id": "vKhO15QmCTMn",
        "colab_type": "code",
        "outputId": "88283446-a57d-4ab6-b38b-6f84325430f3",
        "colab": {
          "base_uri": "https://localhost:8080/",
          "height": 194
        }
      },
      "source": [
        "abalonedf.dtypes # shows the data types for each variable"
      ],
      "execution_count": 224,
      "outputs": [
        {
          "output_type": "execute_result",
          "data": {
            "text/plain": [
              "Sex                object\n",
              "Length            float64\n",
              "Diameter          float64\n",
              "Height            float64\n",
              "Whole weight      float64\n",
              "Shucked weight    float64\n",
              "Viscera weight    float64\n",
              "Shell weight      float64\n",
              "Rings               int64\n",
              "dtype: object"
            ]
          },
          "metadata": {
            "tags": []
          },
          "execution_count": 224
        }
      ]
    },
    {
      "cell_type": "code",
      "metadata": {
        "id": "d8zM2xfBGIMl",
        "colab_type": "code",
        "outputId": "09fa8f55-d185-4fe6-b6b5-731bc87067f1",
        "colab": {
          "base_uri": "https://localhost:8080/",
          "height": 394
        }
      },
      "source": [
        "abalonedf.describe(include='all') \n",
        "# shows the descriptive statistics for each variable\n",
        "# include all means it will show qualitative and quantitative variables"
      ],
      "execution_count": 225,
      "outputs": [
        {
          "output_type": "execute_result",
          "data": {
            "text/html": [
              "<div>\n",
              "<style scoped>\n",
              "    .dataframe tbody tr th:only-of-type {\n",
              "        vertical-align: middle;\n",
              "    }\n",
              "\n",
              "    .dataframe tbody tr th {\n",
              "        vertical-align: top;\n",
              "    }\n",
              "\n",
              "    .dataframe thead th {\n",
              "        text-align: right;\n",
              "    }\n",
              "</style>\n",
              "<table border=\"1\" class=\"dataframe\">\n",
              "  <thead>\n",
              "    <tr style=\"text-align: right;\">\n",
              "      <th></th>\n",
              "      <th>Sex</th>\n",
              "      <th>Length</th>\n",
              "      <th>Diameter</th>\n",
              "      <th>Height</th>\n",
              "      <th>Whole weight</th>\n",
              "      <th>Shucked weight</th>\n",
              "      <th>Viscera weight</th>\n",
              "      <th>Shell weight</th>\n",
              "      <th>Rings</th>\n",
              "    </tr>\n",
              "  </thead>\n",
              "  <tbody>\n",
              "    <tr>\n",
              "      <th>count</th>\n",
              "      <td>4177</td>\n",
              "      <td>4177.000000</td>\n",
              "      <td>4177.000000</td>\n",
              "      <td>4177.000000</td>\n",
              "      <td>4177.000000</td>\n",
              "      <td>4177.000000</td>\n",
              "      <td>4177.000000</td>\n",
              "      <td>4177.000000</td>\n",
              "      <td>4177.000000</td>\n",
              "    </tr>\n",
              "    <tr>\n",
              "      <th>unique</th>\n",
              "      <td>3</td>\n",
              "      <td>NaN</td>\n",
              "      <td>NaN</td>\n",
              "      <td>NaN</td>\n",
              "      <td>NaN</td>\n",
              "      <td>NaN</td>\n",
              "      <td>NaN</td>\n",
              "      <td>NaN</td>\n",
              "      <td>NaN</td>\n",
              "    </tr>\n",
              "    <tr>\n",
              "      <th>top</th>\n",
              "      <td>M</td>\n",
              "      <td>NaN</td>\n",
              "      <td>NaN</td>\n",
              "      <td>NaN</td>\n",
              "      <td>NaN</td>\n",
              "      <td>NaN</td>\n",
              "      <td>NaN</td>\n",
              "      <td>NaN</td>\n",
              "      <td>NaN</td>\n",
              "    </tr>\n",
              "    <tr>\n",
              "      <th>freq</th>\n",
              "      <td>1528</td>\n",
              "      <td>NaN</td>\n",
              "      <td>NaN</td>\n",
              "      <td>NaN</td>\n",
              "      <td>NaN</td>\n",
              "      <td>NaN</td>\n",
              "      <td>NaN</td>\n",
              "      <td>NaN</td>\n",
              "      <td>NaN</td>\n",
              "    </tr>\n",
              "    <tr>\n",
              "      <th>mean</th>\n",
              "      <td>NaN</td>\n",
              "      <td>0.523992</td>\n",
              "      <td>0.407881</td>\n",
              "      <td>0.139516</td>\n",
              "      <td>0.828742</td>\n",
              "      <td>0.359367</td>\n",
              "      <td>0.180594</td>\n",
              "      <td>0.238831</td>\n",
              "      <td>9.933684</td>\n",
              "    </tr>\n",
              "    <tr>\n",
              "      <th>std</th>\n",
              "      <td>NaN</td>\n",
              "      <td>0.120093</td>\n",
              "      <td>0.099240</td>\n",
              "      <td>0.041827</td>\n",
              "      <td>0.490389</td>\n",
              "      <td>0.221963</td>\n",
              "      <td>0.109614</td>\n",
              "      <td>0.139203</td>\n",
              "      <td>3.224169</td>\n",
              "    </tr>\n",
              "    <tr>\n",
              "      <th>min</th>\n",
              "      <td>NaN</td>\n",
              "      <td>0.075000</td>\n",
              "      <td>0.055000</td>\n",
              "      <td>0.000000</td>\n",
              "      <td>0.002000</td>\n",
              "      <td>0.001000</td>\n",
              "      <td>0.000500</td>\n",
              "      <td>0.001500</td>\n",
              "      <td>1.000000</td>\n",
              "    </tr>\n",
              "    <tr>\n",
              "      <th>25%</th>\n",
              "      <td>NaN</td>\n",
              "      <td>0.450000</td>\n",
              "      <td>0.350000</td>\n",
              "      <td>0.115000</td>\n",
              "      <td>0.441500</td>\n",
              "      <td>0.186000</td>\n",
              "      <td>0.093500</td>\n",
              "      <td>0.130000</td>\n",
              "      <td>8.000000</td>\n",
              "    </tr>\n",
              "    <tr>\n",
              "      <th>50%</th>\n",
              "      <td>NaN</td>\n",
              "      <td>0.545000</td>\n",
              "      <td>0.425000</td>\n",
              "      <td>0.140000</td>\n",
              "      <td>0.799500</td>\n",
              "      <td>0.336000</td>\n",
              "      <td>0.171000</td>\n",
              "      <td>0.234000</td>\n",
              "      <td>9.000000</td>\n",
              "    </tr>\n",
              "    <tr>\n",
              "      <th>75%</th>\n",
              "      <td>NaN</td>\n",
              "      <td>0.615000</td>\n",
              "      <td>0.480000</td>\n",
              "      <td>0.165000</td>\n",
              "      <td>1.153000</td>\n",
              "      <td>0.502000</td>\n",
              "      <td>0.253000</td>\n",
              "      <td>0.329000</td>\n",
              "      <td>11.000000</td>\n",
              "    </tr>\n",
              "    <tr>\n",
              "      <th>max</th>\n",
              "      <td>NaN</td>\n",
              "      <td>0.815000</td>\n",
              "      <td>0.650000</td>\n",
              "      <td>1.130000</td>\n",
              "      <td>2.825500</td>\n",
              "      <td>1.488000</td>\n",
              "      <td>0.760000</td>\n",
              "      <td>1.005000</td>\n",
              "      <td>29.000000</td>\n",
              "    </tr>\n",
              "  </tbody>\n",
              "</table>\n",
              "</div>"
            ],
            "text/plain": [
              "         Sex       Length  ...  Shell weight        Rings\n",
              "count   4177  4177.000000  ...   4177.000000  4177.000000\n",
              "unique     3          NaN  ...           NaN          NaN\n",
              "top        M          NaN  ...           NaN          NaN\n",
              "freq    1528          NaN  ...           NaN          NaN\n",
              "mean     NaN     0.523992  ...      0.238831     9.933684\n",
              "std      NaN     0.120093  ...      0.139203     3.224169\n",
              "min      NaN     0.075000  ...      0.001500     1.000000\n",
              "25%      NaN     0.450000  ...      0.130000     8.000000\n",
              "50%      NaN     0.545000  ...      0.234000     9.000000\n",
              "75%      NaN     0.615000  ...      0.329000    11.000000\n",
              "max      NaN     0.815000  ...      1.005000    29.000000\n",
              "\n",
              "[11 rows x 9 columns]"
            ]
          },
          "metadata": {
            "tags": []
          },
          "execution_count": 225
        }
      ]
    },
    {
      "cell_type": "code",
      "metadata": {
        "id": "mkzmL8RuspRl",
        "colab_type": "code",
        "outputId": "35011886-ed65-4077-fb8f-e57d1020dd0f",
        "colab": {
          "base_uri": "https://localhost:8080/",
          "height": 70
        }
      },
      "source": [
        "abalonedf.keys() "
      ],
      "execution_count": 226,
      "outputs": [
        {
          "output_type": "execute_result",
          "data": {
            "text/plain": [
              "Index(['Sex', 'Length', 'Diameter', 'Height', 'Whole weight', 'Shucked weight',\n",
              "       'Viscera weight', 'Shell weight', 'Rings'],\n",
              "      dtype='object')"
            ]
          },
          "metadata": {
            "tags": []
          },
          "execution_count": 226
        }
      ]
    },
    {
      "cell_type": "markdown",
      "metadata": {
        "id": "DfqNELc_Mect",
        "colab_type": "text"
      },
      "source": [
        "This is a dataframe so it shows the index of the variables.\n",
        "The Boston Housing data is a dictionary which has keys and values. "
      ]
    },
    {
      "cell_type": "markdown",
      "metadata": {
        "id": "tj9wGsPpR0lt",
        "colab_type": "text"
      },
      "source": [
        "Make a plot of the length and number of rings/age."
      ]
    },
    {
      "cell_type": "code",
      "metadata": {
        "id": "jSA4Vj8t9qLN",
        "colab_type": "code",
        "outputId": "5f4317ac-9b75-49d8-cb38-45d9bcb4ade0",
        "colab": {
          "base_uri": "https://localhost:8080/",
          "height": 281
        }
      },
      "source": [
        "_ = plt.plot(abalonedf['Length'], abalonedf['Rings'], marker='.', linestyle='none') \n",
        "# this provides a scatter plot of the length and age/rings\n",
        "_ = plt.xlabel('Length of Abalone')\n",
        "_ = plt.ylabel('Age in Rings')\n",
        "_ = plt.show()"
      ],
      "execution_count": 227,
      "outputs": [
        {
          "output_type": "display_data",
          "data": {
            "image/png": "[encoded data removed]",
            "text/plain": [
              "<Figure size 432x288 with 1 Axes>"
            ]
          },
          "metadata": {
            "tags": [],
            "needs_background": "light"
          }
        }
      ]
    },
    {
      "cell_type": "markdown",
      "metadata": {
        "id": "w69NzA8MN_sO",
        "colab_type": "text"
      },
      "source": [
        "This looks like a correlation between the length of the abalone and their age in rings. "
      ]
    },
    {
      "cell_type": "code",
      "metadata": {
        "id": "PDk1jWKruS41",
        "colab_type": "code",
        "colab": {}
      },
      "source": [
        "x = abalonedf.iloc[:, 1:7] # this selects all rows and columns 2-8\n",
        "y = abalonedf.iloc[:,-1] # this selects all rows and only the last column"
      ],
      "execution_count": 0,
      "outputs": []
    },
    {
      "cell_type": "markdown",
      "metadata": {
        "id": "wc7voR6qzIjq",
        "colab_type": "text"
      },
      "source": [
        "Split the data into train and test data."
      ]
    },
    {
      "cell_type": "code",
      "metadata": {
        "id": "MCoNCFDevcCF",
        "colab_type": "code",
        "colab": {}
      },
      "source": [
        "x_train, x_test, y_train, y_test = train_test_split(x, y, test_size = 0.30, random_state = 9)"
      ],
      "execution_count": 0,
      "outputs": []
    },
    {
      "cell_type": "code",
      "metadata": {
        "id": "j3QXwlu7zgBy",
        "colab_type": "code",
        "outputId": "4328b1ca-73d8-4029-f5e6-d8b16c671fa1",
        "colab": {
          "base_uri": "https://localhost:8080/",
          "height": 34
        }
      },
      "source": [
        "x_train.shape, y_train.shape"
      ],
      "execution_count": 230,
      "outputs": [
        {
          "output_type": "execute_result",
          "data": {
            "text/plain": [
              "((2923, 6), (2923,))"
            ]
          },
          "metadata": {
            "tags": []
          },
          "execution_count": 230
        }
      ]
    },
    {
      "cell_type": "code",
      "metadata": {
        "id": "fnxF3D0ozpCv",
        "colab_type": "code",
        "outputId": "94cd9736-256d-4c33-da2a-53579e002a83",
        "colab": {
          "base_uri": "https://localhost:8080/",
          "height": 34
        }
      },
      "source": [
        "x_test.shape, y_test.shape"
      ],
      "execution_count": 231,
      "outputs": [
        {
          "output_type": "execute_result",
          "data": {
            "text/plain": [
              "((1254, 6), (1254,))"
            ]
          },
          "metadata": {
            "tags": []
          },
          "execution_count": 231
        }
      ]
    },
    {
      "cell_type": "markdown",
      "metadata": {
        "id": "FOGwi9Mzz7fA",
        "colab_type": "text"
      },
      "source": [
        "Fit the training data to a linear model."
      ]
    },
    {
      "cell_type": "code",
      "metadata": {
        "id": "OziuapenzyCO",
        "colab_type": "code",
        "outputId": "b0fd6108-b6a6-4d35-89b9-b375ed55c4d1",
        "colab": {
          "base_uri": "https://localhost:8080/",
          "height": 34
        }
      },
      "source": [
        "regressor = LinearRegression()\n",
        "regressor.fit(x_train, y_train) # trains the algorithm"
      ],
      "execution_count": 232,
      "outputs": [
        {
          "output_type": "execute_result",
          "data": {
            "text/plain": [
              "LinearRegression(copy_X=True, fit_intercept=True, n_jobs=None, normalize=False)"
            ]
          },
          "metadata": {
            "tags": []
          },
          "execution_count": 232
        }
      ]
    },
    {
      "cell_type": "markdown",
      "metadata": {
        "id": "s_-JuQGM0BWX",
        "colab_type": "text"
      },
      "source": [
        "Use the model to predict the test data."
      ]
    },
    {
      "cell_type": "code",
      "metadata": {
        "id": "FuIoVp6NzyGN",
        "colab_type": "code",
        "colab": {}
      },
      "source": [
        "y_predicted = regressor.predict(x_test) # this makes predictions on the testing set."
      ],
      "execution_count": 0,
      "outputs": []
    },
    {
      "cell_type": "markdown",
      "metadata": {
        "id": "0Tma9NSt0LmQ",
        "colab_type": "text"
      },
      "source": [
        "Measure the accuracy of the model by using the mean square error (MSE).\n",
        "\n",
        "First using Numpy."
      ]
    },
    {
      "cell_type": "code",
      "metadata": {
        "id": "nbv_QziW0S03",
        "colab_type": "code",
        "outputId": "962b0752-3b61-442d-cd0a-7ffdbe8adda2",
        "colab": {
          "base_uri": "https://localhost:8080/",
          "height": 34
        }
      },
      "source": [
        "mean_sq_error = np.mean((y_test - y_predicted) **2)\n",
        "print(mean_sq_error)"
      ],
      "execution_count": 234,
      "outputs": [
        {
          "output_type": "stream",
          "text": [
            "5.223531192185664\n"
          ],
          "name": "stdout"
        }
      ]
    },
    {
      "cell_type": "markdown",
      "metadata": {
        "id": "iz8UwtoG0dD3",
        "colab_type": "text"
      },
      "source": [
        "Using sklearn metrics."
      ]
    },
    {
      "cell_type": "code",
      "metadata": {
        "id": "wuq576w2zyJz",
        "colab_type": "code",
        "outputId": "104109fd-79d9-4f4d-d450-5c4d807b4da8",
        "colab": {
          "base_uri": "https://localhost:8080/",
          "height": 34
        }
      },
      "source": [
        "print(mean_squared_error(y_true = y_test, y_pred = regressor.predict(x_test)))"
      ],
      "execution_count": 235,
      "outputs": [
        {
          "output_type": "stream",
          "text": [
            "5.2235311921856615\n"
          ],
          "name": "stdout"
        }
      ]
    },
    {
      "cell_type": "markdown",
      "metadata": {
        "id": "o1SE-mnD2OBF",
        "colab_type": "text"
      },
      "source": [
        "The mean squared error is the same calculated either way (with either package)."
      ]
    },
    {
      "cell_type": "markdown",
      "metadata": {
        "id": "_CfoVqRS0slM",
        "colab_type": "text"
      },
      "source": [
        "Print the error on the training data."
      ]
    },
    {
      "cell_type": "code",
      "metadata": {
        "id": "1xMNYrIq0wpf",
        "colab_type": "code",
        "outputId": "ca8af648-c338-4eda-8e07-a5074d31ccf2",
        "colab": {
          "base_uri": "https://localhost:8080/",
          "height": 34
        }
      },
      "source": [
        "print(mean_squared_error(y_true = y_train, y_pred = regressor.predict(x_train)))"
      ],
      "execution_count": 236,
      "outputs": [
        {
          "output_type": "stream",
          "text": [
            "4.882281029035272\n"
          ],
          "name": "stdout"
        }
      ]
    },
    {
      "cell_type": "markdown",
      "metadata": {
        "id": "k43DEK5t06QQ",
        "colab_type": "text"
      },
      "source": [
        "How much does the model (the x variable) explain the variability of the response data around its mean?"
      ]
    },
    {
      "cell_type": "code",
      "metadata": {
        "id": "sZYPQE-3zyM2",
        "colab_type": "code",
        "outputId": "f51d639f-bc58-4471-a7f7-ae31a2625f2d",
        "colab": {
          "base_uri": "https://localhost:8080/",
          "height": 34
        }
      },
      "source": [
        "regressor.score(x_test, y_test) # this means this model fits/explains about 50% of the variability, which is not great.\n",
        "# We would like the score to be closest to 1 to indicate a higher degree of accuracy in predicting the output."
      ],
      "execution_count": 237,
      "outputs": [
        {
          "output_type": "execute_result",
          "data": {
            "text/plain": [
              "0.501520917106238"
            ]
          },
          "metadata": {
            "tags": []
          },
          "execution_count": 237
        }
      ]
    },
    {
      "cell_type": "markdown",
      "metadata": {
        "id": "9NovgN8h1B8T",
        "colab_type": "text"
      },
      "source": [
        "Check histogram of the residuals. does it satisfy the assumptions for inference?"
      ]
    },
    {
      "cell_type": "code",
      "metadata": {
        "id": "TGYnWOHU1IpT",
        "colab_type": "code",
        "outputId": "3d4fec89-db89-4dc8-ee21-44e9477509fc",
        "colab": {
          "base_uri": "https://localhost:8080/",
          "height": 353
        }
      },
      "source": [
        "plt.hist(y_test - y_predicted)"
      ],
      "execution_count": 238,
      "outputs": [
        {
          "output_type": "execute_result",
          "data": {
            "text/plain": [
              "(array([  4.,  18., 202., 585., 272., 106.,  42.,  15.,   8.,   2.]),\n",
              " array([-7.63779108, -5.6245833 , -3.61137551, -1.59816773,  0.41504005,\n",
              "         2.42824784,  4.44145562,  6.45466341,  8.46787119, 10.48107897,\n",
              "        12.49428676]),\n",
              " <a list of 10 Patch objects>)"
            ]
          },
          "metadata": {
            "tags": []
          },
          "execution_count": 238
        },
        {
          "output_type": "display_data",
          "data": {
            "image/png": "[encoded data removed]",
            "text/plain": [
              "<Figure size 432x288 with 1 Axes>"
            ]
          },
          "metadata": {
            "tags": [],
            "needs_background": "light"
          }
        }
      ]
    },
    {
      "cell_type": "code",
      "metadata": {
        "id": "h67vje3b06_X",
        "colab_type": "code",
        "outputId": "92620114-ed7f-4edf-fc6e-53c0fd40e394",
        "colab": {
          "base_uri": "https://localhost:8080/",
          "height": 282
        }
      },
      "source": [
        "plt.scatter(y_predicted, y_test - y_predicted)"
      ],
      "execution_count": 239,
      "outputs": [
        {
          "output_type": "execute_result",
          "data": {
            "text/plain": [
              "<matplotlib.collections.PathCollection at 0x7f7e16e72320>"
            ]
          },
          "metadata": {
            "tags": []
          },
          "execution_count": 239
        },
        {
          "output_type": "display_data",
          "data": {
            "image/png": "[encoded data removed]",
            "text/plain": [
              "<Figure size 432x288 with 1 Axes>"
            ]
          },
          "metadata": {
            "tags": [],
            "needs_background": "light"
          }
        }
      ]
    },
    {
      "cell_type": "code",
      "metadata": {
        "id": "j2TyIXPf07Co",
        "colab_type": "code",
        "outputId": "f192d47d-a779-4e35-e490-2d3c1438016d",
        "colab": {
          "base_uri": "https://localhost:8080/",
          "height": 282
        }
      },
      "source": [
        "plt.scatter(regressor.predict(x), y - regressor.predict(x))"
      ],
      "execution_count": 240,
      "outputs": [
        {
          "output_type": "execute_result",
          "data": {
            "text/plain": [
              "<matplotlib.collections.PathCollection at 0x7f7e16dd6780>"
            ]
          },
          "metadata": {
            "tags": []
          },
          "execution_count": 240
        },
        {
          "output_type": "display_data",
          "data": {
            "image/png": "[encoded data removed]",
            "text/plain": [
              "<Figure size 432x288 with 1 Axes>"
            ]
          },
          "metadata": {
            "tags": [],
            "needs_background": "light"
          }
        }
      ]
    },
    {
      "cell_type": "code",
      "metadata": {
        "id": "3LbgyC4c1Vmh",
        "colab_type": "code",
        "outputId": "039b8e1d-e650-4fe6-e887-0900e0cfe406",
        "colab": {
          "base_uri": "https://localhost:8080/",
          "height": 282
        }
      },
      "source": [
        "plt.scatter(regressor.predict(x_train), y_train - regressor.predict(x_train))"
      ],
      "execution_count": 241,
      "outputs": [
        {
          "output_type": "execute_result",
          "data": {
            "text/plain": [
              "<matplotlib.collections.PathCollection at 0x7f7e16db90f0>"
            ]
          },
          "metadata": {
            "tags": []
          },
          "execution_count": 241
        },
        {
          "output_type": "display_data",
          "data": {
            "image/png": "[encoded data removed]",
            "text/plain": [
              "<Figure size 432x288 with 1 Axes>"
            ]
          },
          "metadata": {
            "tags": [],
            "needs_background": "light"
          }
        }
      ]
    },
    {
      "cell_type": "code",
      "metadata": {
        "id": "98zbdNFa1Vpm",
        "colab_type": "code",
        "outputId": "ab753bbe-7143-4232-cadc-3e8fa585de11",
        "colab": {
          "base_uri": "https://localhost:8080/",
          "height": 52
        }
      },
      "source": [
        "print(regressor.coef_)"
      ],
      "execution_count": 242,
      "outputs": [
        {
          "output_type": "stream",
          "text": [
            "[ -4.01944409  17.347466    10.53933219  14.00280227 -23.90503801\n",
            " -13.82283176]\n"
          ],
          "name": "stdout"
        }
      ]
    },
    {
      "cell_type": "code",
      "metadata": {
        "id": "WFIgWw681Vsm",
        "colab_type": "code",
        "outputId": "f0c8fea1-ac55-4d8a-c74c-6e7eea96044a",
        "colab": {
          "base_uri": "https://localhost:8080/",
          "height": 34
        }
      },
      "source": [
        "print(regressor.intercept_)"
      ],
      "execution_count": 243,
      "outputs": [
        {
          "output_type": "stream",
          "text": [
            "2.935835865426773\n"
          ],
          "name": "stdout"
        }
      ]
    },
    {
      "cell_type": "code",
      "metadata": {
        "id": "hqbGyB-2Xhpf",
        "colab_type": "code",
        "outputId": "f33a4ccc-d5c5-49b2-a751-c86ace7d570a",
        "colab": {
          "base_uri": "https://localhost:8080/",
          "height": 70
        }
      },
      "source": [
        "# finds values for metrics using test data\n",
        "print('Mean Absolute Error: ', metrics.mean_absolute_error(y_test, y_predicted))\n",
        "print('Mean Squared Error: ', metrics.mean_squared_error(y_test, y_predicted))\n",
        "print('Root Mean Squared Error: ', np.sqrt(metrics.mean_squared_error(y_test, y_predicted)))\n"
      ],
      "execution_count": 244,
      "outputs": [
        {
          "output_type": "stream",
          "text": [
            "Mean Absolute Error:  1.6380470856608034\n",
            "Mean Squared Error:  5.2235311921856615\n",
            "Root Mean Squared Error:  2.28550458152804\n"
          ],
          "name": "stdout"
        }
      ]
    },
    {
      "cell_type": "markdown",
      "metadata": {
        "id": "HdcFo2TG9JFH",
        "colab_type": "text"
      },
      "source": [
        "This is just another way to look at it."
      ]
    },
    {
      "cell_type": "code",
      "metadata": {
        "id": "wYWcMIz13wvU",
        "colab_type": "code",
        "outputId": "0d8fa8e2-2de8-45a1-cb39-1f422695c468",
        "colab": {
          "base_uri": "https://localhost:8080/",
          "height": 123
        }
      },
      "source": [
        "rmsd = np.sqrt(mean_squared_error(y_test, y_predicted))\n",
        "r2_value = r2_score(y_test, y_predicted)\n",
        "\n",
        "print(\"Intercept:  \\n\", regressor.intercept_)\n",
        "print(\"Root Mean Square Error \\n\", rmsd)\n",
        "print(\"R^2 Value: \\n\", r2_value)"
      ],
      "execution_count": 245,
      "outputs": [
        {
          "output_type": "stream",
          "text": [
            "Intercept:  \n",
            " 2.935835865426773\n",
            "Root Mean Square Error \n",
            " 2.28550458152804\n",
            "R^2 Value: \n",
            " 0.501520917106238\n"
          ],
          "name": "stdout"
        }
      ]
    },
    {
      "cell_type": "code",
      "metadata": {
        "id": "TA-jSM2u3xLs",
        "colab_type": "code",
        "outputId": "0200262f-081c-4f0d-af90-7de0094dfd91",
        "colab": {
          "base_uri": "https://localhost:8080/",
          "height": 212
        }
      },
      "source": [
        "df = pd.DataFrame({'Actual': y_test, 'Predicted' : y_predicted})\n",
        "print(df.head(10))"
      ],
      "execution_count": 246,
      "outputs": [
        {
          "output_type": "stream",
          "text": [
            "      Actual  Predicted\n",
            "891       17  19.113456\n",
            "2635       7   7.650268\n",
            "1294       9   9.304994\n",
            "1517      10  11.853680\n",
            "1002       9  10.041744\n",
            "3093      11  10.683658\n",
            "3605       8   7.728871\n",
            "909        7   6.536866\n",
            "71         8   8.261356\n",
            "1100       9   9.542621\n"
          ],
          "name": "stdout"
        }
      ]
    }
  ]
}